{
 "cells": [
  {
   "cell_type": "markdown",
   "metadata": {},
   "source": [
    "# 파이썬 연습문제 풀이(2020/07/16)\n",
    "### [초보자를 위한 파이썬](https://wikidocs.net/7014)"
   ]
  },
  {
   "cell_type": "code",
   "execution_count": null,
   "metadata": {},
   "outputs": [],
   "source": [
    "# 1~10 파이썬 시작\n",
    "\n",
    "print(\"Hello world\")\n",
    "\n",
    "print(\"Mary\\'s consmetics\")\n",
    "\n",
    "print(\"신씨가 소리를 질렀다. \\\"도둑이야\\\".\")\n",
    "\n",
    "print(\"\\\"c:\\\\windos\\\"\")\n",
    "\n",
    "print(\"안녕하세요.\\n만나서\\t\\t반갑습니다.\")\n",
    "\n",
    "print(\"오늘은\",\"일요일\")\n",
    "\n",
    "print(\"naver\",\"kakao\",\"samsung\",sep=\";\")\n",
    "\n",
    "print(\"naver\",\"kakao\",\"samsung\",sep=\"/\")\n",
    "\n",
    "print(\"first\", end=\" \");print(\"second\")\n",
    "\n",
    "print(5/3)\n"
   ]
  },
  {
   "cell_type": "code",
   "execution_count": null,
   "metadata": {
    "scrolled": false
   },
   "outputs": [],
   "source": [
    "# 11~20  파이썬 변수\n",
    "\n",
    "samsung=50000\n",
    "print(samsung*10)\n",
    "\n",
    "total = 298000000000000\n",
    "current=50000\n",
    "PER=15.79\n",
    "\n",
    "s=\"hello\"\n",
    "t=\"python\"\n",
    "print(s+\"!\",t)\n",
    "\n",
    "print(2+2*3)\n",
    "\n",
    "a=\"128\"\n",
    "print(type(a))\n",
    "\n",
    "num_str=\"720\"\n",
    "num_str=int(num_str)\n",
    "print(type(num_str))\n",
    "\n",
    "num=100\n",
    "numt=int(num)\n",
    "print(type(num))\n",
    "\n",
    "str_1=\"15.79\"\n",
    "str_1=float(str_1)\n",
    "print(type(str_1))\n",
    "\n",
    "year=\"2020\"\n",
    "year=int(year)\n",
    "print(year-1,year-2,year-3)\n",
    "\n",
    "air_condition =48584\n",
    "print(\"total: {}\".format(air_condition*36))\n"
   ]
  },
  {
   "cell_type": "code",
   "execution_count": null,
   "metadata": {},
   "outputs": [],
   "source": [
    "# 21~30 파이썬 문자열\n",
    "\n",
    "letters='python'\n",
    "print(letters[0],letters[2])\n",
    "\n",
    "license_plate = \"24가 2210\"\n",
    "print(license_plate[-4:])\n",
    "\n",
    "#오프셋 지정하기.\n",
    "string=\"홀짝홀짝홀짝\"\n",
    "print(string[: :2])\n",
    "\n",
    "string =\"Python\"\n",
    "print(string[::-1])\n",
    "\n",
    "phone_number=\"010-1111-2222\"\n",
    "phone_number=phone_number.replace(\"-\",\" \")\n",
    "print(phone_number)\n",
    "\n",
    "\n",
    "phone_number=\"010-1111-2222\"\n",
    "phone_number=phone_number.replace(\"-\",\"\")\n",
    "print(phone_number)\n",
    "\n",
    "url=\"http://sharebook.kr\"\n",
    "url=url.split(\".\")\n",
    "print(url[-1])\n",
    "\n",
    "lang = \"python\"\n",
    "print(lang[0])\n",
    "\n",
    "string=\"abcdefg2a365a23a\"\n",
    "print(string.replace(\"a\",\"A\"))\n",
    "\n",
    "string= 'abcd'\n",
    "string.replace('b','B')\n",
    "print(string)"
   ]
  },
  {
   "cell_type": "code",
   "execution_count": null,
   "metadata": {
    "scrolled": true
   },
   "outputs": [],
   "source": [
    "# 31~40 파이썬 문자열\n",
    "\n",
    "a=\"3\"\n",
    "b=\"4\"\n",
    "print(a+b)\n",
    "\n",
    "print(\"Hi\" * 3)\n",
    "\n",
    "print(\"-\"*80)\n",
    "\n",
    "t1=\"python\"\n",
    "t2=\"java\"\n",
    "print((t1+\" \"+t2+\" \")*4)\n",
    "\n",
    "name1=\"김민수\"\n",
    "age1=10\n",
    "name2=\"이철희\"\n",
    "age2=13\n",
    "print(\"이름 : %s 나이 : %d \"%(name1,age1))\n",
    "print(\"이름 : %s 나이 : %d \"%(name2,age2))\n",
    "print()\n",
    "print(\"이름 : {} 나이 : {}\".format(name1,age1))\n",
    "print(\"이름 : {} 나이 : {}\".format(name2,age2))\n",
    "\n",
    "상장주식=\"5,969,782,550\"\n",
    "상장주식=상장주식.replace(\",\",\"\")\n",
    "상장주식=int(상장주식)\n",
    "print(상장주식)\n",
    "\n",
    "time = \"2020/03(E) (IFRS연결)\"\n",
    "print(time[:7])\n",
    "\n",
    "data=\"      삼성전자     \"\n",
    "print(data.strip())"
   ]
  },
  {
   "cell_type": "code",
   "execution_count": null,
   "metadata": {},
   "outputs": [],
   "source": [
    "# 41~50 파이썬 문자열\n",
    "\n",
    "ticker=\"btc_krw\"\n",
    "print(ticker.upper())\n",
    "\n",
    "ticker=\"BTC_KRW\"\n",
    "print(ticker.lower())\n",
    "\n",
    "hello=\"hello\"\n",
    "print(hello.capitalize())\n",
    "\n",
    "file_name=\"report.xlsx\"\n",
    "print(file_name.endswith((\"xlsx\",\"xls\")))\n",
    "print(file_name.endswith(\"xls\"))\n",
    "\n",
    "file_name=\"2020_report.xlsx\"\n",
    "print(file_name.startswith(\"2020\"))\n",
    "\n",
    "a=\"hello world\"\n",
    "print(a.split())\n",
    "\n",
    "ticker=\"btc_krw\"\n",
    "print(ticker.split(\"_\"))\n",
    "\n",
    "date = \"2020-05-01\"\n",
    "print(date.split(\"-\"))\n",
    "\n",
    "data = \"039490     \"\n",
    "print(data.rstrip())"
   ]
  },
  {
   "cell_type": "code",
   "execution_count": null,
   "metadata": {},
   "outputs": [],
   "source": [
    "# 51~60 파이썬 리스트\n",
    "\n",
    "movie_rank=[\"docter stranger\",\"split\",\"licky\"]\n",
    "print(movie_rank)\n",
    "movie_rank.append(\"batman\")\n",
    "print(movie_rank)\n",
    "\n",
    "movie_rank = ['닥터 스트레인지', '스플릿', '럭키', '배트맨']\n",
    "movie_rank.insert(1,\"슈퍼맨\")\n",
    "print(movie_rank)\n",
    "\n",
    "movie_rank.remove(\"럭키\")\n",
    "print(movie_rank)\n",
    "\n",
    "movie_rank = ['닥터 스트레인지', '슈퍼맨', '스플릿', '배트맨']\n",
    "del movie_rank[2:]\n",
    "print(movie_rank)\n",
    "\n",
    "lang1 = [\"C\", \"C++\", \"JAVA\"]\n",
    "lang2 = [\"Python\", \"Go\", \"C#\"]\n",
    "langs=lang1+lang2\n",
    "print(langs)\n",
    "\n",
    "nums = [1, 2, 3, 4, 5, 6, 7]\n",
    "print(max(nums),min(nums),sep=\"\\n\")\n",
    "\n",
    "nums = [1, 2, 3, 4, 5]\n",
    "print(sum(nums))\n",
    "\n",
    "cook = [\"피자\", \"김밥\", \"만두\", \"양념치킨\", \"족발\",\n",
    "        \"피자\", \"김치만두\", \"쫄면\", \"쏘세지\", \"라면\",\n",
    "        \"팥빙수\", \"김치전\"]\n",
    "print(len(cook))\n",
    "\n",
    "nums = [1, 2, 3, 4, 5]\n",
    "print(sum(nums)/len(nums))"
   ]
  },
  {
   "cell_type": "code",
   "execution_count": null,
   "metadata": {},
   "outputs": [],
   "source": [
    "# 61~70 파이썬 리스트\n",
    "\n",
    "price = ['20180728', 100, 130, 140, 150, 160, 170]\n",
    "print(price[1:])\n",
    "\n",
    "nums = [1, 2, 3, 4, 5, 6, 7, 8, 9, 10]\n",
    "print(nums[::2])\n",
    "\n",
    "print(nums[1::2])\n",
    "\n",
    "nums = [1, 2, 3, 4, 5]\n",
    "print(nums[::-1])\n",
    "nums.reverse()\n",
    "print(nums)\n",
    "\n",
    "interest = ['삼성전자', 'LG전자', 'Naver']\n",
    "print(interest[0],interest[2])\n",
    "\n",
    "#join 메서드\n",
    "interest = ['삼성전자', 'LG전자', 'Naver',\n",
    "            'SK하이닉스', '미래에셋대우']\n",
    "concat=\"/\" # 사이에 들어간다. \n",
    "print(concat.join(interest))\n",
    "\n",
    "interest = ['삼성전자', 'LG전자', 'Naver', \n",
    "            'SK하이닉스', '미래에셋대우']\n",
    "concat=\"\\n\" # 사이에 들어간다. \n",
    "print(concat.join(interest))\n",
    "\n",
    "string = \"삼성전자/LG전자/Naver\"\n",
    "interest=string.split(\"/\")\n",
    "print(interest)\n",
    "\n",
    "#바로 반환됨\n",
    "data = [2, 4, 3, 1, 5, 10, 9]\n",
    "data.sort()\n",
    "print(data)\n",
    "\n",
    "#저장하는거 지정해야한다.\n",
    "data = [2, 4, 3, 1, 5, 10, 9]\n",
    "data2 = sorted(data)\n",
    "print(data2)"
   ]
  },
  {
   "cell_type": "code",
   "execution_count": null,
   "metadata": {},
   "outputs": [],
   "source": [
    "# 71~80 파이썬 튜플\n",
    "\n",
    "my_variable=()\n",
    "print(type(my_variable),my_variable)\n",
    "\n",
    "movie_rank=\"닥터 스트레인지\",\"스플릿\",\"럭키\"\n",
    "print(type(movie_rank),movie_rank)\n",
    "\n",
    "num_tuple=(1,)\n",
    "print(type(num_tuple),num_tuple)\n",
    "\n",
    "t = 1, 2, 3, 4\n",
    "print(type(t))\n",
    "\n",
    "interest = ('삼성전자', 'LG전자', 'SK Hynix')\n",
    "interest=list(interest)\n",
    "print(type(interest),interest)\n",
    "\n",
    "temp = ('apple', 'banana', 'cake')\n",
    "a, b, c = temp\n",
    "print(a, b, c)\n",
    "\n",
    "odd=tuple(range(2,100,2))\n",
    "print(odd)\n"
   ]
  },
  {
   "cell_type": "code",
   "execution_count": null,
   "metadata": {},
   "outputs": [],
   "source": [
    "#81~90 파이썬 딕셔너리\n",
    "\n",
    "a,b,*c=1,2,3,4,5,6,7 # star expression\n",
    "print(a,b,c)\n",
    "print(type(a),type(c))\n",
    "\n",
    "scores = [8.8, 8.9, 8.7, 9.2, 9.3, 9.7, 9.9, 9.5, 7.8, 9.4]\n",
    "*valid_score,a,b=scores\n",
    "print(valid_score)\n",
    "\n",
    "scores = [8.8, 8.9, 8.7, 9.2, 9.3, 9.7, 9.9, 9.5, 7.8, 9.4]\n",
    "_,_,*valid_score=scores\n",
    "print(valid_score)\n",
    "\n",
    "scores = [8.8, 8.9, 8.7, 9.2, 9.3, 9.7, 9.9, 9.5, 7.8, 9.4]\n",
    "_,*valid_score,_=scores\n",
    "print(valid_score)\n",
    "\n",
    "temp={}\n",
    "print(temp,type(temp))\n",
    "\n",
    "ice_creame={ \"메로나\" :1000,\n",
    "            \"폴라포\" : 1200,\n",
    "            \"빵빠레\": 1800\n",
    "    }\n",
    "\n",
    "print(ice_creame)\n",
    "\n",
    "ice_creame.update(죠스바=1200)\n",
    "print(ice_creame)\n",
    "ice_creame.setdefault(\"월드콘\",1500)\n",
    "print(ice_creame)\n",
    "ice_creame[\"투게더\"]=5000\n",
    "print(ice_creame)\n",
    "\n",
    "print(ice_creame.get(\"메로나\"))\n",
    "\n",
    "ice_creame.update(메로나=1300)\n",
    "print(ice_creame)\n",
    "\n",
    "ice_creame.pop(\"메로나\")\n",
    "print(ice_creame)\n",
    "\n",
    "icecream = {'폴라포': 1200, '빵빠레': 1800,\n",
    "            '월드콘': 1500, '메로나': 1000}\n",
    "icecream['폴라포']\n",
    "\n"
   ]
  },
  {
   "cell_type": "code",
   "execution_count": null,
   "metadata": {},
   "outputs": [],
   "source": [
    "#91~100\n",
    "\n",
    "inventory = {\"메로나\":[300,20],\n",
    "            \"비비빅\":(400,3),\n",
    "            \"죠스바\":(250,100)\n",
    "            }\n",
    "print(inventory)\n",
    "\n",
    "inventory = {\"메로나\": [300, 20],\n",
    "              \"비비빅\": [400, 3],\n",
    "              \"죠스바\": [250, 100]}\n",
    "\n",
    "print(inventory[\"메로나\"][0],\"원\")\n",
    "\n",
    "inventory = {\"메로나\": [300, 20],\n",
    "              \"비비빅\": [400, 3],\n",
    "              \"죠스바\": [250, 100]}\n",
    "\n",
    "print(inventory[\"메로나\"][1],\"개\")\n",
    "\n",
    "inventory = {\"메로나\": [300, 20],\n",
    "              \"비비빅\": [400, 3],\n",
    "              \"죠스바\": [250, 100]}\n",
    "\n",
    "inventory[\"월드콘\"]=[500,7]\n",
    "print(inventory)\n",
    "\n",
    "icecream = {'탱크보이': 1200, '폴라포': 1200, '빵빠레': 1800,\n",
    "            '월드콘': 1500, '메로나': 1000}\n",
    "key_list=list(icecream.keys())\n",
    "print(key_list)\n",
    "\n",
    "icecream = {'탱크보이': 1200, '폴라포': 1200, '빵빠레': 1800,\n",
    "            '월드콘': 1500, '메로나': 1000}\n",
    "new_product = {'팥빙수':2700, '아맛나':1000}\n",
    "icecream.update(new_product)\n",
    "print(icecream)\n",
    "\n",
    "keys = (\"apple\", \"pear\", \"peach\")\n",
    "vals = (300, 250, 400)\n",
    "result=dict(zip(keys,vals))\n",
    "print(result)\n",
    "\n"
   ]
  },
  {
   "cell_type": "code",
   "execution_count": null,
   "metadata": {},
   "outputs": [],
   "source": [
    "# 101~110 파이썬 분기문\n",
    "\n",
    "print(3==5)\n",
    "\n",
    "print(3<5)\n",
    "\n",
    "a=4\n",
    "print(1<a<5)\n",
    "\n",
    "print ((3 == 3) and (4 != 3))\n",
    "\n",
    "print(3>=4)\n",
    "\n",
    "if 4 < 3:\n",
    "    print(\"Hello World\")\n",
    "\n",
    "if 4 < 3:\n",
    "    print(\"Hello World.\")\n",
    "else:\n",
    "    print(\"Hi, there.\")    \n",
    "    \n",
    "    \n",
    "if True :\n",
    "    print (\"1\")\n",
    "    print (\"2\")\n",
    "else :\n",
    "    print(\"3\")\n",
    "print(\"4\")\n",
    "\n",
    "if True :\n",
    "    if False:\n",
    "        print(\"1\")\n",
    "        print(\"2\")\n",
    "    else:\n",
    "        print(\"3\")\n",
    "else :\n",
    "    print(\"4\")\n",
    "print(\"5\")"
   ]
  },
  {
   "cell_type": "code",
   "execution_count": null,
   "metadata": {},
   "outputs": [],
   "source": [
    "# 111~120 파이썬 분기문\n",
    "\n",
    "string1=input()\n",
    "print(string1*2)\n",
    "\n",
    "a=input(\"숫자를 입력하세요 :\")\n",
    "print(int(a)+10)"
   ]
  },
  {
   "cell_type": "code",
   "execution_count": null,
   "metadata": {},
   "outputs": [],
   "source": [
    "num=int(input())\n",
    "if num%2==0 :\n",
    "    print(\"짝\")\n",
    "else :\n",
    "    print(\"홀\")"
   ]
  },
  {
   "cell_type": "code",
   "execution_count": null,
   "metadata": {},
   "outputs": [],
   "source": [
    "num=int(input())-20\n",
    "\n",
    "if num>255 :\n",
    "    print(255)\n",
    "elif num <0 :\n",
    "    print(0)\n",
    "else :\n",
    "    print(num)"
   ]
  },
  {
   "cell_type": "code",
   "execution_count": null,
   "metadata": {},
   "outputs": [],
   "source": [
    "time=input(\"현재 시간: \")\n",
    "if time[3:]==\"00\" :\n",
    "    print(\"정각\")\n",
    "else :\n",
    "    print(\"정각 아님\")"
   ]
  },
  {
   "cell_type": "code",
   "execution_count": null,
   "metadata": {},
   "outputs": [],
   "source": [
    "fruit = [\"사과\", \"포도\", \"홍시\"]\n",
    "one=input(\"좋아하는 과일은? :\")\n",
    "if one in fruit :\n",
    "    print(\"정답이요\")\n",
    "else :\n",
    "    print(\"땡\")"
   ]
  },
  {
   "cell_type": "code",
   "execution_count": null,
   "metadata": {},
   "outputs": [],
   "source": [
    "fruit = {\"봄\" : \"딸기\", \"여름\" : \"토마토\", \"가을\" : \"사과\"}\n",
    "\n",
    "like=input(\"제가 좋아하는 계절은\")\n",
    "if like in fruit.keys() :\n",
    "    print(\"정답\")\n",
    "else :\n",
    "    print(\"오답\")\n",
    "\n"
   ]
  },
  {
   "cell_type": "code",
   "execution_count": null,
   "metadata": {},
   "outputs": [],
   "source": [
    "fruit = {\"봄\" : \"딸기\", \"여름\" : \"토마토\", \"가을\" : \"사과\"}\n",
    "\n",
    "like=input(\"제가 좋아하는 과일은 \")\n",
    "if like in fruit.values() :\n",
    "    print(\"정답\")\n",
    "else :\n",
    "    print(\"오답\")"
   ]
  },
  {
   "cell_type": "code",
   "execution_count": null,
   "metadata": {},
   "outputs": [],
   "source": [
    "# 121~130 파이썬 분기문\n",
    "\n",
    "one=input()\n",
    "if one.islower():\n",
    "    print(one.upper())\n",
    "else :\n",
    "    print(one.lower())"
   ]
  },
  {
   "cell_type": "code",
   "execution_count": null,
   "metadata": {},
   "outputs": [],
   "source": [
    "score=int(input(\"score: \"))\n",
    "if 80<score<=100:\n",
    "    print(\"a\")\n",
    "elif 60<score<80:\n",
    "    print(\"b\")\n",
    "elif 40<score<=60:\n",
    "    print(\"c\")\n",
    "elif 30<score<=40 :\n",
    "    print(\"d\")\n",
    "else :\n",
    "    print(\"f\")"
   ]
  },
  {
   "cell_type": "code",
   "execution_count": null,
   "metadata": {},
   "outputs": [],
   "source": [
    "array=[]\n",
    "for i in range(3) :\n",
    "    num=int(input(\"input number{} \".format(i)))\n",
    "    array.append(num)\n",
    "    \n",
    "print(max(array))"
   ]
  },
  {
   "cell_type": "code",
   "execution_count": null,
   "metadata": {},
   "outputs": [],
   "source": [
    "number= input(\"번호 입력 : \")\n",
    "number=number[:3]\n",
    "\n",
    "if number==\"011\":\n",
    "    print(\"skt\")\n",
    "elif number==\"016\":\n",
    "    print(\"kt\")\n",
    "elif number==\"019\":\n",
    "    print(\"lgu\")\n",
    "else :\n",
    "    print(\"몰라\")"
   ]
  },
  {
   "cell_type": "code",
   "execution_count": null,
   "metadata": {},
   "outputs": [],
   "source": []
  },
  {
   "cell_type": "code",
   "execution_count": null,
   "metadata": {},
   "outputs": [],
   "source": []
  },
  {
   "cell_type": "code",
   "execution_count": null,
   "metadata": {},
   "outputs": [],
   "source": []
  },
  {
   "cell_type": "code",
   "execution_count": null,
   "metadata": {},
   "outputs": [],
   "source": []
  },
  {
   "cell_type": "code",
   "execution_count": null,
   "metadata": {},
   "outputs": [],
   "source": []
  },
  {
   "cell_type": "code",
   "execution_count": null,
   "metadata": {},
   "outputs": [],
   "source": [
    "# 131~140 파이썬 반복문\n",
    "\n",
    "과일 = [\"사과\", \"귤\", \"수박\"]\n",
    "for 변수 in 과일:\n",
    "    print(변수)\n",
    "    \n",
    "과일 = [\"사과\", \"귤\", \"수박\"]\n",
    "for 변수 in 과일:\n",
    "  print(\"#####\")\n",
    "\n",
    "for 변수 in [\"A\", \"B\", \"C\"]:\n",
    "  print(변수)\n",
    "\n",
    "for 변수 in [\"A\", \"B\", \"C\"]:\n",
    "  print(\"출력:\", 변수)\n",
    "\n",
    "for 변수 in [\"A\", \"B\", \"C\"]:\n",
    "  b = 변수.lower()\n",
    "  print(\"변환:\", b)\n",
    "\n",
    "for 변수 in [10,20,30] :\n",
    "    print(변수)\n",
    "    \n",
    "for i in range(1,4):\n",
    "    print(i*10)"
   ]
  },
  {
   "cell_type": "code",
   "execution_count": null,
   "metadata": {},
   "outputs": [],
   "source": [
    "# 141~150 파이썬 반복문\n"
   ]
  },
  {
   "cell_type": "code",
   "execution_count": null,
   "metadata": {},
   "outputs": [],
   "source": [
    "# 151~160 파이썬 반복문"
   ]
  },
  {
   "cell_type": "code",
   "execution_count": null,
   "metadata": {},
   "outputs": [],
   "source": [
    "# 161~170 파이썬 반복문\n",
    "for i in range(50):\n",
    "    print(i,end=\"\")\n",
    "print()\n",
    "    \n",
    "for cup in range(2002,2051,4):\n",
    "\n",
    "        print(cup)\n",
    "        \n",
    "for i in range(1,30+1):\n",
    "    if i%3==0:\n",
    "        print(i)\n",
    "        \n",
    "for i in range(50,-1,-1):\n",
    "    print(i,end=\" \")\n",
    "print()\n",
    "\n",
    "for i in range(10):\n",
    "    print(i/10)\n",
    "\n",
    "for i in range(10):\n",
    "    print(\"3 * {} = {}\".format(i,i*3))\n",
    "    \n",
    "for i in range(10):\n",
    "    if i%2==1 :\n",
    "        print(\"3 * {} = {}\".format(i,i*3))\n",
    "        \n",
    "sum=0\n",
    "for i in range(1,10+1):\n",
    "    sum+=i\n",
    "print(sum)\n",
    "\n",
    "sum=0\n",
    "for i in range(1,10+1,2):\n",
    "    sum+=i\n",
    "print(sum)\n",
    "\n",
    "mul=1\n",
    "for i in range(1,10+1):\n",
    "    mul*=i\n",
    "print(mul)"
   ]
  },
  {
   "cell_type": "code",
   "execution_count": null,
   "metadata": {},
   "outputs": [],
   "source": [
    "# 171~180 파이썬 반복문\n",
    "\n",
    "price_list = [32100, 32150, 32000, 32500]\n",
    "\n",
    "for i in range(len(price_list)) :\n",
    "    print(price_list[i])\n",
    "\n",
    "for i in range(len(price_list)) :\n",
    "    print(i,price_list[i])\n",
    "    \n",
    "for i, data in enumerate(price_list) : # enumerate 사용\n",
    "    print(i,data)\n",
    "    \n",
    "for i in range(len(price_list)) :\n",
    "    print(len(price_list)-1-i,price_list[i])\n",
    "    \n",
    "for i in range(len(price_list)) :\n",
    "    print(100+i*10,price_list[i])    \n",
    "    \n",
    "my_list = [\"가\", \"나\", \"다\", \"라\"]\n",
    "for i in range(1,len(my_list)):\n",
    "    print(my_list[i],my_list[i-1])\n",
    "\n",
    "my_list = [\"가\", \"나\", \"다\", \"라\", \"마\"]\n",
    "for i in range(len(my_list)-2):\n",
    "    print(my_list[i],my_list[i+1],my_list[i+2])\n",
    "\n",
    "my_list = [\"가\", \"나\", \"다\", \"라\"]\n",
    "for i in range(len(my_list)-1,0,-1):\n",
    "    print(my_list[i],my_list[i-1])\n",
    "    \n",
    "my_list = [100, 200, 400, 800]\n",
    "for i in range(0,len(my_list)-1):\n",
    "    print(my_list[i+1]-my_list[i])\n",
    "    \n",
    "my_list = [100, 200, 400, 800, 1000, 1300]\n",
    "for i in range(len(my_list)-2):\n",
    "    avgg=(my_list[i]+my_list[i+1]+my_list[i+2])/3\n",
    "    print(avgg)\n",
    "    \n",
    "low_prices  = [100, 200, 400, 800, 1000]\n",
    "high_prices = [150, 300, 430, 880, 1000]\n",
    "\n",
    "\n",
    "a=[]\n",
    "for i in range(5) :\n",
    "    a.append(high_prices[i]-low_prices[i])\n",
    "print(a)\n",
    "    "
   ]
  },
  {
   "cell_type": "code",
   "execution_count": null,
   "metadata": {},
   "outputs": [],
   "source": [
    "# 181~190 파이썬 반복문\n",
    "\n",
    "apart=[[\"101호\",\"102호\"],[\"201호\",\"202호\"],[\"301호\",\"302호\"]]\n",
    "print(apart)\n",
    "\n",
    "st"
   ]
  },
  {
   "cell_type": "code",
   "execution_count": 110,
   "metadata": {
    "scrolled": true
   },
   "outputs": [
    {
     "name": "stdout",
     "output_type": "stream",
     "text": [
      "2000.28\n",
      "3050.427\n",
      "2050.2870000000003\n",
      "1980.2772\n",
      "7501.05\n",
      "2050.2870000000003\n",
      "2050.2870000000003\n",
      "1980.2772\n",
      "15452.163\n",
      "15052.107\n",
      "15552.177\n",
      "14902.086000000001\n",
      "2000.28\n",
      "3050.427\n",
      "2050.2870000000003\n",
      "1980.2772\n",
      "--------------\n",
      "7501.05\n",
      "2050.2870000000003\n",
      "2050.2870000000003\n",
      "1980.2772\n",
      "--------------\n",
      "15452.163\n",
      "15052.107\n",
      "15552.177\n",
      "14902.086000000001\n",
      "--------------\n"
     ]
    }
   ],
   "source": [
    "# 191~200 파이썬 반복문\n",
    "data = [\n",
    "    [ 2000,  3050,  2050,  1980],\n",
    "    [ 7500,  2050,  2050,  1980],\n",
    "    [15450, 15050, 15550, 14900]\n",
    "]\n",
    "\n",
    "for i in range(len(data)):\n",
    "    for j in range(len(data[i])):\n",
    "        print(data[i][j]*1.00014)\n",
    "        \n",
    "    \n",
    "data = [\n",
    "    [ 2000,  3050,  2050,  1980],\n",
    "    [ 7500,  2050,  2050,  1980],\n",
    "    [15450, 15050, 15550, 14900]\n",
    "]\n",
    "\n",
    "for i in range(len(data)):\n",
    "    for j in range(len(data[i])):\n",
    "        print(data[i][j]*1.00014)\n",
    "    print(\"--------------\")\n",
    "        "
   ]
  },
  {
   "cell_type": "code",
   "execution_count": 111,
   "metadata": {},
   "outputs": [
    {
     "name": "stdout",
     "output_type": "stream",
     "text": [
      "[2000.28, 3050.427, 2050.2870000000003, 1980.2772, 7501.05, 2050.2870000000003, 2050.2870000000003, 1980.2772, 15452.163, 15052.107, 15552.177, 14902.086000000001]\n"
     ]
    }
   ],
   "source": [
    "data = [\n",
    "    [ 2000,  3050,  2050,  1980],\n",
    "    [ 7500,  2050,  2050,  1980],\n",
    "    [15450, 15050, 15550, 14900]\n",
    "]\n",
    "res=[]\n",
    "\n",
    "for i in range(len(data)):\n",
    "    for j in range(len(data[i])):\n",
    "        res.append(data[i][j]*1.00014)\n",
    "        \n",
    "print(res)\n",
    " \n",
    "    \n"
   ]
  },
  {
   "cell_type": "code",
   "execution_count": 112,
   "metadata": {},
   "outputs": [
    {
     "name": "stdout",
     "output_type": "stream",
     "text": [
      "[[2000.28, 3050.427, 2050.2870000000003, 1980.2772], [7501.05, 2050.2870000000003, 2050.2870000000003, 1980.2772], [15452.163, 15052.107, 15552.177, 14902.086000000001]]\n"
     ]
    }
   ],
   "source": [
    "data = [\n",
    "    [ 2000,  3050,  2050,  1980],\n",
    "    [ 7500,  2050,  2050,  1980],\n",
    "    [15450, 15050, 15550, 14900]\n",
    "]\n",
    "\n",
    "ans=[]\n",
    "for i in range(len(data)):\n",
    "    res=[]\n",
    "    for j in range(len(data[i])):\n",
    "        res.append(data[i][j]*1.00014)\n",
    "    ans.append(res)    \n",
    "print(ans)\n",
    " "
   ]
  },
  {
   "cell_type": "code",
   "execution_count": 118,
   "metadata": {},
   "outputs": [
    {
     "name": "stdout",
     "output_type": "stream",
     "text": [
      "100\n",
      "190\n",
      "310\n",
      "190\n",
      "310\n"
     ]
    }
   ],
   "source": [
    "ohlc = [[\"open\", \"high\", \"low\", \"close\"],\n",
    "        [100, 110, 70, 100],\n",
    "        [200, 210, 180, 190],\n",
    "        [300, 310, 300, 310]]\n",
    "for i in range(1,len(ohlc)):\n",
    "    print(ohlc[i][3])\n",
    "print()    \n",
    "for item in ohlc[1:] :\n",
    "    if item[3]>150:\n",
    "        print(item[3])\n",
    "print()\n"
   ]
  },
  {
   "cell_type": "code",
   "execution_count": 124,
   "metadata": {},
   "outputs": [
    {
     "name": "stdout",
     "output_type": "stream",
     "text": [
      "100\n",
      "310\n",
      "10\n",
      "[40, 30, 10]\n"
     ]
    }
   ],
   "source": [
    "ohlc = [[\"open\", \"high\", \"low\", \"close\"],\n",
    "        [100, 110, 70, 100],\n",
    "        [200, 210, 180, 190],\n",
    "        [300, 310, 300, 310]]\n",
    "volatility =[]\n",
    "for item in ohlc[1:]:\n",
    "    volatility.append(item[1]-item[2])\n",
    "    if item[0]<=item[3]:\n",
    "        print(item[3])\n",
    "        \n",
    "    if item[3]>item[0]:\n",
    "        print(item[1]-item[2])\n",
    "        \n",
    "print(volatility)"
   ]
  },
  {
   "cell_type": "code",
   "execution_count": null,
   "metadata": {},
   "outputs": [],
   "source": [
    "# 201~210 파이썬 함수 , 나머지 예측문제임\n",
    "def print_coin():\n",
    "    print(\"비트코인\")\n",
    "print_coin()\n",
    "\n",
    "for i in range(10): \n",
    "    print_coin()"
   ]
  },
  {
   "cell_type": "code",
   "execution_count": null,
   "metadata": {},
   "outputs": [],
   "source": [
    "def print_coin():\n",
    "    for i in range(10):\n",
    "        print(\"bit coin\")\n",
    "print_coin()"
   ]
  },
  {
   "cell_type": "code",
   "execution_count": null,
   "metadata": {},
   "outputs": [],
   "source": [
    "# 211~220 파이썬 반복문\n",
    "\n",
    "def 함수(문자열):\n",
    "    print(문자열)\n",
    "    \n",
    "함수(\"안녕\")\n",
    "함수(\"hi\")\n",
    "\n",
    "def 함수(a, b) :\n",
    "    print(a + b)\n",
    "\n",
    "함수(\"안녕\", \"hi\")\n",
    "\n",
    "def print_with_smile(string) :\n",
    "    print(string+\":D\")\n",
    "    \n",
    "print_with_smile(\"hi\")\n"
   ]
  },
  {
   "cell_type": "code",
   "execution_count": null,
   "metadata": {},
   "outputs": [],
   "source": [
    "def print_upper_price(price):\n",
    "    print(int(price*1.3))\n",
    "    \n",
    "print_upper_price(1000)\n",
    "\n",
    "def print_sum(a,b) :\n",
    "    print(a+b)\n",
    "    \n",
    "def print_arithemetic_operation(a,b):\n",
    "    print(\"{}+{}={}\".format(a,b,a+b))\n",
    "    print(\"{}-{}={}\".format(a,b,a-b))\n",
    "    print(\"{}*{}={}\".format(a,b,a*b))    \n",
    "    print(\"{}/{}={}\".format(a,b,a/b))\n",
    "    \n",
    "print_arithemetic_operation(3,4)\n",
    "\n",
    "def print_max(a,b,c) :\n",
    "    if a>b and a>c :\n",
    "        max=a\n",
    "    elif b>a and b>c :\n",
    "        max=b\n",
    "    else :\n",
    "        max=c\n",
    "        \n",
    "    return max\n",
    "\n",
    "print(print_max(5,15,13))\n",
    "    "
   ]
  },
  {
   "cell_type": "code",
   "execution_count": null,
   "metadata": {},
   "outputs": [],
   "source": [
    "# 221~230 파이썬 반복문\n",
    "\n",
    "def print_reverse(string):\n",
    "    print(string[::-1])    \n",
    "print_reverse(\"phthon\")\n",
    "\n",
    "def print_score(score_list):\n",
    "    print(sum(score_list)/len(score_list))              \n",
    "print_score([1,2,3])\n",
    "\n",
    "def print_even(check):\n",
    "    for i in check:\n",
    "        if i%2==0:\n",
    "            print(i)\n",
    "        \n",
    "print_even([1,3,2,10,12,11,15])    \n",
    "\n",
    "def print_keys(dic) :\n",
    "    dicc=list(dic.keys())\n",
    "    for i in dicc :\n",
    "        print(i)\n",
    "print_keys ({\"이름\":\"김말똥\", \"나이\":30, \"성별\":0})\n",
    "\n",
    "my_dict = {\"10/26\" : [100, 130, 100, 100],\n",
    "           \"10/27\" : [10, 12, 10, 11]}\n",
    "\n",
    "def print_value_by_key(dicc,key):\n",
    "    for i in dicc.keys():\n",
    "        if i==key :\n",
    "            print(dicc.get(i))\n",
    "            break\n",
    "print_value_by_key  (my_dict, \"10/26\")\n",
    "\n",
    "def print_5xn(string):\n",
    "    for i in range(0,len(string),5):\n",
    "        print(string[i:i+5])\n",
    "        \n",
    "print_5xn(\"아이엠어보이유알어걸\")        "
   ]
  },
  {
   "cell_type": "code",
   "execution_count": null,
   "metadata": {},
   "outputs": [],
   "source": [
    "#251 ~ 260 파이썬 클래스\n",
    "\n",
    "class Human :\n",
    "    def __init__ (self,name, age, gender):\n",
    "        self.name=name\n",
    "        self.age=age\n",
    "        self.gender=gender\n",
    "        \n",
    "    def who(self):\n",
    "        print(self.name,self.age,self.gender)\n",
    "        \n",
    "    def setInfo(self,name, age, gender):\n",
    "        self.name=name\n",
    "        self.age=age\n",
    "        self.gender=gender\n",
    "        \n",
    "    def __del__(self):\n",
    "        print(\"dont let them know about my deth\")\n",
    "\n",
    "areum = Human(\"아름\", 25, \"여자\")\n",
    "\n",
    "print(areum.name,areum.age,areum.gender)\n",
    "\n",
    "areum.who()\n",
    "\n",
    "areum1 = Human(\"모름\", 0, \"모름\")\n",
    "areum1.who()\n",
    "areum1.setInfo(\"아름\", 25, \"여자\")\n",
    "print(areum1.name,areum1.age,areum1.gender)\n",
    "\n",
    "del areum\n"
   ]
  },
  {
   "cell_type": "code",
   "execution_count": null,
   "metadata": {},
   "outputs": [],
   "source": []
  },
  {
   "cell_type": "code",
   "execution_count": null,
   "metadata": {},
   "outputs": [],
   "source": []
  },
  {
   "cell_type": "code",
   "execution_count": 4,
   "metadata": {},
   "outputs": [
    {
     "name": "stdout",
     "output_type": "stream",
     "text": [
      "삼성전자\n",
      "005930\n",
      "15.79\n",
      "12.75\n",
      "삼성전자\n",
      "005930\n",
      "005930 삼성전자\n",
      "005930 현대차\n",
      "005930 엘지전자\n"
     ]
    }
   ],
   "source": [
    "#261 ~ 270 파이썬 클래스\n",
    "\n",
    "class Stock :\n",
    "    def __init__(self,name,code,per,pbr,benefit):\n",
    "        self.name=name\n",
    "        self.code=code\n",
    "        self.per=per\n",
    "        self.pbr=pbr\n",
    "        self.benefit=benefit\n",
    "        \n",
    "    def set_name(self, name):\n",
    "        self.name=name\n",
    "    def set_code(self,code) :\n",
    "        self.code=code \n",
    "    def set_per(self,per):\n",
    "        self.per=per\n",
    "    def set_pbr(self,pbr):\n",
    "        self.pbr=pbr\n",
    "    def set_dividend(self,benefit):\n",
    "        self.benefit=benefit\n",
    "    def get_name(self):\n",
    "        print(self.name)\n",
    "    def get_code(self):\n",
    "        print(self.code)\n",
    "\n",
    "        \n",
    "        \n",
    "삼성 = Stock(\"삼성전자\", \"005930\",15.79,1.33,2.83)       \n",
    "print(삼성.name)\n",
    "print(삼성.code)\n",
    "print(삼성.per)\n",
    "\n",
    "삼성.set_per(12.75)\n",
    "print(삼성.per)\n",
    "삼성.get_name()\n",
    "삼성.get_code()\n",
    "# a = Stock(None, None)\n",
    "# a.set_name(\"삼성전자\")\n",
    "# a.set_code(\"005930\")\n",
    "# print(a.name, a.code)\n",
    "\n",
    "ins_list=[]\n",
    "samsumg= Stock(\"삼성전자\", \"005930\",15.79,1.33,2.83)\n",
    "hyn= Stock(\"현대차\", \"005930\",15.79,1.33,2.83)\n",
    "lg= Stock(\"엘지전자\", \"005930\",15.79,1.33,2.83)\n",
    "    \n",
    "ins_list.append(samsumg)\n",
    "ins_list.append(hyn)\n",
    "ins_list.append(lg)\n",
    "\n",
    "for i in ins_list :\n",
    "    print(i.code,i.name)"
   ]
  },
  {
   "cell_type": "code",
   "execution_count": 9,
   "metadata": {},
   "outputs": [
    {
     "name": "stdout",
     "output_type": "stream",
     "text": [
      "hii 금액이 마이너스면 안돼요\n",
      "에러 나옴 요구 하는 돈이 더 많아요\n"
     ]
    }
   ],
   "source": [
    "#271 ~ 280 파이썬 클래스\n",
    "import random\n",
    "\n",
    "class Deposit_Error(Exception):\n",
    "    def __init__(self):\n",
    "        super().__init__(\"금액이 마이너스면 안돼요\")\n",
    "        \n",
    "class Withdraw_Error(Exception):\n",
    "    pass\n",
    "class Account :\n",
    "    class_num =0\n",
    "\n",
    "    def __init__(self, name,money):\n",
    "        self.bank=\"신한\"\n",
    "        self.name=name\n",
    "        self.money=money\n",
    "        self.deposit_count=0\n",
    "        self.deposit_list=[]\n",
    "        self.withdraw_list=[]  \n",
    "        \n",
    "        num1 = random.randint(0, 999)\n",
    "        num2 = random.randint(0, 99)\n",
    "        num3 = random.randint(0, 999999)\n",
    "                \n",
    "        num1 = str(num1).zfill(3)      # 1 -> '1' -> '001'\n",
    "        num2 = str(num2).zfill(2)      # 1 -> '1' -> '01'\n",
    "        num3 = str(num3).zfill(6)      # 1 -> '1' -> '0000001'\n",
    "        self.account = num1 + '-' + num2 + '-' + num3  # 001-01-000001\n",
    "        \n",
    "        Account.class_num+=1\n",
    "    \n",
    "    @classmethod\n",
    "    def get_account_num(cls):\n",
    "        print(cls.class_num)\n",
    "        \n",
    "        \n",
    "    def deposit(self,mon):\n",
    "        try :\n",
    "            if mon>=1 :\n",
    "                self.deposit_list.append(mon)\n",
    "                self.deposit_count+=1\n",
    "                if self.deposit_count%5 ==0 :\n",
    "                    self.money=self.money*1.1+mon\n",
    "                else :\n",
    "                    self.money+=mon \n",
    "                print(self.money)\n",
    "            else :\n",
    "                raise Deposit_Error\n",
    "        except Exception as e:\n",
    "            print(\"hii\",e)\n",
    "            \n",
    "\n",
    "            \n",
    "        \n",
    "    def withdraw (self,mon):\n",
    "        try :\n",
    "            if self.money >=mon:\n",
    "                self.withdraw_list.append(mon)\n",
    "                self.money-=mon           \n",
    "                print(self.money) \n",
    "            else :\n",
    "                raise Withdraw_Error(\"요구 하는 돈이 더 많아요\")\n",
    "                print(\"Fail,less than your money {}\".format(self.money))\n",
    "        except Exception as e :\n",
    "            print(\"에러 나옴\",e)\n",
    "    def display_info(self):\n",
    "        print(\"은행이름 : {}\".format(self.bank))\n",
    "        print(\"예금주 : {}\".format(self.name))\n",
    "        print(\"계좌번호 :{}\".format(self.account))\n",
    "        print(\"잔고 :{}\".format(self.money))\n",
    "    def deposit_history(self):\n",
    "        for i in self.deposit_list:\n",
    "            print(i)\n",
    "    def withdraw_history(self):\n",
    "        for i in self.withdraw_list:\n",
    "            print(i)\n",
    "            \n",
    "kim = Account(\"김민수\", 100)\n",
    "kim.deposit(-1)\n",
    "kim.withdraw(200)\n",
    "\n",
    "# print(kim.name)\n",
    "# print(kim.money)\n",
    "# print(kim.bank)\n",
    "# print(kim.account)  \n",
    "\n",
    "\n",
    "# kim.get_account_num()\n",
    "# print(Account.class_num)\n",
    "\n",
    "                \n",
    "# kim.deposit(100)\n",
    "# kim.withdraw(140)\n",
    "# kim.display_info()\n",
    "\n",
    "# p = Account(\"파이썬\", 10000)\n",
    "# p.deposit(10000)\n",
    "# p.deposit(10000)\n",
    "# p.deposit(10000)\n",
    "# p.deposit(5000)\n",
    "# p.deposit(5000)\n",
    "# print(p.money)\n",
    "\n",
    "# account_list=[]\n",
    "# a=Account(\"A\",50)\n",
    "# account_list.append(a)\n",
    "# b=Account(\"B\",200)\n",
    "# account_list.append(b)\n",
    "# c=Account(\"C\",300)\n",
    "# account_list.append(c)\n",
    "\n",
    "# print(account_list)\n",
    "\n",
    "\n",
    "# k = Account(\"Kim\", 1000)\n",
    "# k.deposit(100)\n",
    "# k.deposit(200)\n",
    "# k.deposit(300)\n",
    "# k.deposit_history()\n",
    "\n",
    "# k.withdraw(100)\n",
    "# k.withdraw(200)\n",
    "# k.withdraw_history()\n",
    "\n",
    "\n"
   ]
  },
  {
   "cell_type": "code",
   "execution_count": 101,
   "metadata": {
    "scrolled": false
   },
   "outputs": [
    {
     "name": "stdout",
     "output_type": "stream",
     "text": [
      "2\n",
      "1000\n",
      "시마노\n",
      "바퀴수 4 \n",
      " 가격 1000\n",
      "바퀴수 2 \n",
      " 가격 100\n",
      "구동계 시마노\n"
     ]
    }
   ],
   "source": [
    "#281 ~ 290 파이썬 클래스\n",
    "\n",
    "class 차 :\n",
    "    def __init__(self, wheel, price) :\n",
    "        self.wheel=wheel\n",
    "        self.price=price\n",
    "\n",
    "\n",
    "car = 차(2, 1000)\n",
    "print(car.wheel)\n",
    "print(car.price)\n",
    "\n",
    "class 자전차(차):\n",
    "    def __init__(self,wheel,price,brand):\n",
    "        super().__init__(wheel,price)\n",
    "        self.brand=brand\n",
    "    def info(self):\n",
    "        print(\"바퀴수\",self.wheel,\"\\n\",\"가격\",self.price)\n",
    "        print(\"구동계\",self.brand)\n",
    "\n",
    "# bicycle = 자전차(2, 100)\n",
    "# print(bicycle.price)\n",
    "\n",
    "bicycle = 자전차(2, 100, \"시마노\")\n",
    "print(bicycle.brand)\n",
    "\n",
    "class 자동차(차):\n",
    "    def __init__(self,wheel,price) :\n",
    "        차.__init__(self, wheel, price)\n",
    "    def info(self):\n",
    "        print(\"바퀴수\",self.wheel,\"\\n\",\"가격\",self.price)\n",
    "        \n",
    "        \n",
    "car = 자동차(4, 1000)\n",
    "car.info()\n",
    "\n",
    "bicycle.info()"
   ]
  },
  {
   "cell_type": "code",
   "execution_count": 103,
   "metadata": {},
   "outputs": [
    {
     "name": "stdout",
     "output_type": "stream",
     "text": [
      "자식호출\n",
      "자식생성\n"
     ]
    }
   ],
   "source": [
    "class 부모:\n",
    "      def 호출(self):\n",
    "            print(\"부모호출\")\n",
    "\n",
    "class 자식(부모):\n",
    "      def 호출(self):\n",
    "            print(\"자식호출\")\n",
    "나 = 자식()            \n",
    "나.호출()    \n",
    "\n",
    "class 부모:\n",
    "      def __init__(self):\n",
    "        print(\"부모생성\")\n",
    "\n",
    "class 자식(부모):\n",
    "      def __init__(self):\n",
    "        print(\"자식생성\")\n",
    "        \n",
    "나 = 자식()"
   ]
  },
  {
   "cell_type": "code",
   "execution_count": 104,
   "metadata": {},
   "outputs": [
    {
     "name": "stdout",
     "output_type": "stream",
     "text": [
      "자식생성\n",
      "부모생성\n"
     ]
    }
   ],
   "source": [
    "class 부모:\n",
    "      def __init__(self):\n",
    "            print(\"부모생성\")\n",
    "\n",
    "class 자식(부모):\n",
    "      def __init__(self):\n",
    "            print(\"자식생성\")\n",
    "            super().__init__()\n",
    "나 = 자식()      "
   ]
  },
  {
   "cell_type": "code",
   "execution_count": 10,
   "metadata": {
    "scrolled": true
   },
   "outputs": [
    {
     "name": "stdout",
     "output_type": "stream",
     "text": [
      "005930\n",
      "\n",
      "005380\n",
      "\n",
      "035420\n"
     ]
    }
   ],
   "source": [
    "#290~300 파일 입출력과 예외처리\n",
    "\n",
    "f=open(r\"C:\\Users\\student\\Desktop\\test.txt\",\"r\")\n",
    "\n",
    "for line in f :\n",
    "    print(line)\n",
    "f.close()\n",
    "\n",
    "f=open(r\"C:\\Users\\student\\Desktop\\test2.txt\",\"wt\")\n",
    "\n",
    "f.write(\"005930 삼성전자\\n\")\n",
    "f.write(\"005380 현대차\")\n",
    "\n",
    "f.close()"
   ]
  },
  {
   "cell_type": "code",
   "execution_count": 35,
   "metadata": {},
   "outputs": [
    {
     "name": "stdout",
     "output_type": "stream",
     "text": [
      "['005930', '005380', '035420']\n"
     ]
    }
   ],
   "source": [
    "f=open(r\"C:\\Users\\student\\Desktop\\test.txt\",\"r\")\n",
    "\n",
    "arr=f.read().split()\n",
    "print(arr)\n",
    "f.close()"
   ]
  },
  {
   "cell_type": "code",
   "execution_count": 42,
   "metadata": {},
   "outputs": [
    {
     "name": "stdout",
     "output_type": "stream",
     "text": [
      "{'005930': '삼성전자', '005380': '현대차', '035420': 'NAVER'}\n"
     ]
    }
   ],
   "source": [
    "diction ={}\n",
    "f=open(r\"C:\\Users\\student\\Desktop\\test2.txt\",\"r\")\n",
    "\n",
    "for line in f :\n",
    "    a,b=line.split()\n",
    "    diction.setdefault(a,b)\n",
    "f.close\n",
    "    \n",
    "print(diction)"
   ]
  },
  {
   "cell_type": "code",
   "execution_count": 43,
   "metadata": {},
   "outputs": [
    {
     "name": "stdout",
     "output_type": "stream",
     "text": [
      "005930 삼성전자\n",
      "005380 현대차\n",
      "035420 NAVER\n"
     ]
    }
   ],
   "source": [
    "with open(r\"C:\\Users\\student\\Desktop\\test2.txt\",\"r\") as f :\n",
    "    string=f.read()\n",
    "    \n",
    "print(string)"
   ]
  },
  {
   "cell_type": "code",
   "execution_count": 74,
   "metadata": {},
   "outputs": [
    {
     "name": "stdout",
     "output_type": "stream",
     "text": [
      "10.31\n",
      "0\n",
      "8.0\n"
     ]
    }
   ],
   "source": [
    "per = [\"10.31\", \"\", \"8.00\"]\n",
    "\n",
    "for i in per:\n",
    "    try:\n",
    "        print(float(i))\n",
    "    except:\n",
    "        print(0)"
   ]
  },
  {
   "cell_type": "code",
   "execution_count": 76,
   "metadata": {},
   "outputs": [
    {
     "name": "stdout",
     "output_type": "stream",
     "text": [
      "[10.31, 0, 8.0]\n"
     ]
    }
   ],
   "source": [
    "per = [\"10.31\", \"\", \"8.00\"]\n",
    "\n",
    "arr=[]\n",
    "for i in per:\n",
    "    try :\n",
    "        arr.append(float(i))\n",
    "    except:\n",
    "        arr.append(0)\n",
    "print(arr)"
   ]
  },
  {
   "cell_type": "code",
   "execution_count": 85,
   "metadata": {},
   "outputs": [
    {
     "name": "stdout",
     "output_type": "stream",
     "text": [
      ". 0\n"
     ]
    },
    {
     "ename": "ValueError",
     "evalue": "invalid literal for int() with base 10: '.'",
     "output_type": "error",
     "traceback": [
      "\u001b[1;31m---------------------------------------------------------------------------\u001b[0m",
      "\u001b[1;31mValueError\u001b[0m                                Traceback (most recent call last)",
      "\u001b[1;32m<ipython-input-85-87e409a971ec>\u001b[0m in \u001b[0;36m<module>\u001b[1;34m\u001b[0m\n\u001b[1;32m----> 1\u001b[1;33m \u001b[0ma\u001b[0m\u001b[1;33m,\u001b[0m\u001b[0mb\u001b[0m\u001b[1;33m=\u001b[0m\u001b[0mtuple\u001b[0m\u001b[1;33m(\u001b[0m\u001b[0mmap\u001b[0m\u001b[1;33m(\u001b[0m\u001b[0mint\u001b[0m\u001b[1;33m,\u001b[0m\u001b[0minput\u001b[0m\u001b[1;33m(\u001b[0m\u001b[1;33m)\u001b[0m\u001b[1;33m.\u001b[0m\u001b[0msplit\u001b[0m\u001b[1;33m(\u001b[0m\u001b[1;33m)\u001b[0m\u001b[1;33m)\u001b[0m\u001b[1;33m)\u001b[0m\u001b[1;33m\u001b[0m\u001b[1;33m\u001b[0m\u001b[0m\n\u001b[0m\u001b[0;32m      2\u001b[0m \u001b[1;33m\u001b[0m\u001b[0m\n\u001b[0;32m      3\u001b[0m \u001b[1;32mtry\u001b[0m \u001b[1;33m:\u001b[0m\u001b[1;33m\u001b[0m\u001b[1;33m\u001b[0m\u001b[0m\n\u001b[0;32m      4\u001b[0m     \u001b[0mres\u001b[0m\u001b[1;33m=\u001b[0m\u001b[0ma\u001b[0m\u001b[1;33m/\u001b[0m\u001b[0mb\u001b[0m\u001b[1;33m\u001b[0m\u001b[1;33m\u001b[0m\u001b[0m\n\u001b[0;32m      5\u001b[0m \u001b[1;32mexcept\u001b[0m \u001b[0mZeroDivisionError\u001b[0m \u001b[1;32mas\u001b[0m \u001b[0me\u001b[0m\u001b[1;33m:\u001b[0m\u001b[1;33m\u001b[0m\u001b[1;33m\u001b[0m\u001b[0m\n",
      "\u001b[1;31mValueError\u001b[0m: invalid literal for int() with base 10: '.'"
     ]
    }
   ],
   "source": [
    "a,b=tuple(map(int,input().split()))\n",
    "\n",
    "try : \n",
    "    res=a/b\n",
    "except ZeroDivisionError as e:\n",
    "    print(e)\n",
    "\n",
    "    \n",
    "\n"
   ]
  },
  {
   "cell_type": "code",
   "execution_count": 87,
   "metadata": {},
   "outputs": [
    {
     "name": "stdout",
     "output_type": "stream",
     "text": [
      "1\n",
      "2\n",
      "3\n",
      "list index out of range\n",
      "list index out of range\n"
     ]
    }
   ],
   "source": [
    "data = [1, 2, 3]\n",
    "\n",
    "for i in range(5) :\n",
    "    try :\n",
    "        print(data[i])\n",
    "    except Exception as e:\n",
    "        print(e)"
   ]
  },
  {
   "cell_type": "code",
   "execution_count": 89,
   "metadata": {
    "scrolled": true
   },
   "outputs": [
    {
     "name": "stdout",
     "output_type": "stream",
     "text": [
      "10.31\n",
      "성공적으로 출력했습니다.\n",
      "end\n",
      "실수로 바꿀수 없습니다. \n",
      "end\n",
      "8.0\n",
      "성공적으로 출력했습니다.\n",
      "end\n"
     ]
    }
   ],
   "source": [
    "per = [\"10.31\", \"\", \"8.00\"]\n",
    "\n",
    "for i in per:\n",
    "    try :\n",
    "        print(float(i))\n",
    "    except :\n",
    "        print(\"실수로 바꿀수 없습니다. \")\n",
    "    else: \n",
    "        print(\"성공적으로 출력했습니다.\")\n",
    "    finally :\n",
    "        print(\"end\")"
   ]
  },
  {
   "cell_type": "code",
   "execution_count": null,
   "metadata": {},
   "outputs": [],
   "source": []
  }
 ],
 "metadata": {
  "kernelspec": {
   "display_name": "Python 3",
   "language": "python",
   "name": "python3"
  },
  "language_info": {
   "codemirror_mode": {
    "name": "ipython",
    "version": 3
   },
   "file_extension": ".py",
   "mimetype": "text/x-python",
   "name": "python",
   "nbconvert_exporter": "python",
   "pygments_lexer": "ipython3",
   "version": "3.7.6"
  }
 },
 "nbformat": 4,
 "nbformat_minor": 4
}
