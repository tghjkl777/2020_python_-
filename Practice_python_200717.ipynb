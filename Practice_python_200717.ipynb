{
 "cells": [
  {
   "cell_type": "markdown",
   "metadata": {},
   "source": [
    "자료구조\n",
    "리스트, 튜플 :순서가 존재한다(인덱스를 사용할수 있다)/리스트는 값을 바꿀수 있지만(가변구조), 튜플은 안된다(불변구조)/값 중복이 가능하다.\n",
    "\n",
    "셋(집합) : 순서가 없다. 중복은 허용하지 않는다.\n",
    "\n",
    "딕셔너리 :(key,value)로 짝을 이루고 있음. 키 값이 여러개들어갈수 있다. "
   ]
  },
  {
   "cell_type": "markdown",
   "metadata": {},
   "source": [
    "### 튜플"
   ]
  },
  {
   "cell_type": "code",
   "execution_count": 21,
   "metadata": {},
   "outputs": [
    {
     "name": "stdout",
     "output_type": "stream",
     "text": [
      "(1, 2, 3, 4)\n",
      "(1, 2, 3, 4)\n",
      "3\n",
      "(1, 2, 3, 4)\n",
      "<class 'int'> 1 2\n",
      "<class 'tuple'> (1,)\n",
      "10\n",
      "4\n",
      "1\n",
      "park kim lee\n",
      "<class 'list'> ['park', 'kim', 'lee']\n"
     ]
    }
   ],
   "source": [
    "tuple =(1,2,3,4) #r괄호 있이 사용\n",
    "print(tuple)\n",
    "\n",
    "tuple = 1,2,3,4 # 괄호 없이도 사용가능\n",
    "print(tuple)\n",
    "\n",
    "print(tuple[2])\n",
    "print(tuple[:])\n",
    "\n",
    "\n",
    "a,b=1,2\n",
    "print(type(a),a,b)\n",
    "\n",
    "#요소가 하나있는 튜플을만들고 싶다.\n",
    "a=1,  #뒤에 콤마로 끝내야 한다.\n",
    "print(type(a),a)\n",
    "\n",
    "# 튜플은 불변하여, 추가 ,삭제가 안된다.\n",
    "\n",
    "print(sum(tuple))\n",
    "print(max(tuple))\n",
    "print(min(tuple))\n",
    "\n",
    "#튜플 언패킹\n",
    "name= \"park\",\"kim\",\"lee\"\n",
    "a,b,c=name\n",
    "print(a,b,c)\n",
    "\n",
    "#형 변환 ->튜풀에 있는 값을 리스트로 바꿔서 사용할수 있다. \n",
    "list1=list(name)\n",
    "print(type(list1),list1)"
   ]
  },
  {
   "cell_type": "code",
   "execution_count": 3,
   "metadata": {},
   "outputs": [
    {
     "data": {
      "text/plain": [
       "['a', 'w', 'd', ' ', 'a', 'w', 'd']"
      ]
     },
     "execution_count": 3,
     "metadata": {},
     "output_type": "execute_result"
    }
   ],
   "source": [
    "a=\"awdawd\"\n",
    "list(a)"
   ]
  },
  {
   "cell_type": "code",
   "execution_count": null,
   "metadata": {},
   "outputs": [],
   "source": []
  },
  {
   "cell_type": "markdown",
   "metadata": {},
   "source": [
    "### 세트(set) 집합 \n",
    "데이터 중복 안되고, 집합 연산자 사용가능.\n",
    "{} 중괄호를 이용한다. (cf : 딕셔너리도 중괄호 사용하지만, 딕셔너리는 키벨류 두개가 들어간다)"
   ]
  },
  {
   "cell_type": "code",
   "execution_count": 61,
   "metadata": {},
   "outputs": [
    {
     "name": "stdout",
     "output_type": "stream",
     "text": [
      "{'kim', 'kang', 'hong'}\n",
      "True\n",
      "True\n",
      "{'s', 't', 'e'}\n",
      "{0, 1, 2, 3, 4}\n",
      "<class 'dict'>\n",
      "<class 'set'> set()\n",
      "{'hi'}\n",
      "frozenset({0, 1, 2, 3, 4, 5})\n",
      "{2, 3, 4}\n",
      "{0, 1, 2, 3, 4, 5, 6, 7, 8, 9}\n",
      "{0, 1}\n",
      "{0, 1, 2, 3, 4, 5, 6, 7, 8, 9}\n",
      "{2, 3, 4}\n",
      "{0, 1}\n",
      "{0, 1, 5, 6, 7, 8, 9}\n",
      "{0, 1, 5, 6, 7, 8, 9}\n",
      "{0, 1, 2, 3, 4}\n",
      "{0, 1, 2, 3, 4, 100}\n",
      "{0, 1, 2, 3, 4, 100, 102, 103, 105}\n",
      "{0, 1, 2, 3, 4, 102, 103, 105}\n",
      "0\n",
      "1\n",
      "{2, 3, 4, 102, 103, 105}\n",
      "6\n",
      "{2, 3, 4, 102, 103, 105}\n",
      "set()\n"
     ]
    }
   ],
   "source": [
    "name ={\"kang\",\"kim\",\"hong\",\"kim\"}  #중복 데이터 인지하지 않음.\n",
    "print(name)\n",
    "\n",
    "print( \"kang\" in name)\n",
    "print( \"park\" not in name)\n",
    "\n",
    "set1= set(\"test\")# 문자열이 셋으로 형번환\n",
    "print(set1)\n",
    "\n",
    "set2= set(range(5))\n",
    "print(set2)\n",
    "\n",
    "set3= {}\n",
    "print(type(set3)) #딕셔너리 타입으로 나옴\n",
    "\n",
    "set4=set() # 빈 셋 만들어 주기 딕셔너리랑 차이 나게 할려고 이렇게 만들읆\n",
    "print(type(set4),set4)\n",
    "\n",
    "set4.add(\"hi\")\n",
    "print(set4)\n",
    "\n",
    "# frosenset\n",
    "\n",
    "set5=frozenset(range(6))\n",
    "#set5.add(\"3\")  # 얼려서 추가가안된다.\n",
    "print(set5)\n",
    "\n",
    "#셋은 순서가 없기때문에 인덱스 사용도 불가한다.\n",
    "\n",
    "a=set(range(5))\n",
    "b=set(range(2,10))\n",
    "\n",
    "print(a&b)\n",
    "print(a|b)\n",
    "print(a-b)\n",
    "\n",
    "print(set.union(a,b))\n",
    "print(set.intersection(a,b))\n",
    "print(set.difference(a,b))\n",
    "\n",
    "print(a^b) # exclusive or\n",
    "print(set.symmetric_difference(a,b))\n",
    "\n",
    "print(a)\n",
    "a.add(100) # 요소 하나씩만 추가할수 있다\n",
    "print(a)\n",
    "\n",
    "a.update({102,103,105}) #요소 여러개 추가할수 있다.\n",
    "print(a)\n",
    "\n",
    "a.remove(100) #특정 요소 삭제 가능\n",
    "print(a)\n",
    "\n",
    "print(a.pop()) # pop은 랜넘으로 삭제 된다. 무조건 하나씩 꺼내는것\n",
    "print(a.pop())\n",
    "print(a)\n",
    "\n",
    "print(len(a))\n",
    "\n",
    "a.discard(1) # remove는 원래 없는데 지우라 그러면 에러나지만 discard는 없으면 말고 있으면 지워라 느낌이다.\n",
    "print(a)\n",
    "          \n",
    "a.clear() #집합 비우기\n",
    "print(a) \n"
   ]
  },
  {
   "cell_type": "markdown",
   "metadata": {},
   "source": [
    "### 딕셔너리"
   ]
  },
  {
   "cell_type": "code",
   "execution_count": 88,
   "metadata": {},
   "outputs": [
    {
     "name": "stdout",
     "output_type": "stream",
     "text": [
      "{'a': 10, 'b': 20, 'c': 30, 'h': 60, 'i': 70}\n",
      "{'a': 10, 'b': 20, 'c': 30, 'h': 60, 'i': 70, 'd': None}\n",
      "{'a': 10, 'b': 20, 'c': 30, 'h': 60, 'i': 70, 'd': None, 'e': 50}\n",
      "{'a': 10, 'b': 20, 'c': 30, 'h': 60, 'i': 70, 'd': None, 'e': 60}\n",
      "{'a': 10, 'b': 20, 'c': 30, 'h': 60, 'i': 70, 'd': 400, 'e': 300}\n",
      "10\n",
      "{'b': 20, 'c': 30, 'h': 60, 'i': 70, 'd': 400, 'e': 300}\n",
      "('e', 300)\n",
      "{'b': 20, 'c': 30, 'h': 60, 'i': 70, 'd': 400}\n",
      "{'b': 20, 'h': 60, 'i': 70, 'd': 400}\n",
      "400\n",
      "400\n",
      "dict_items([('b', 20), ('h', 60), ('i', 70), ('d', 400)])\n",
      "dict_keys(['b', 'h', 'i', 'd']) <class 'dict_keys'>\n",
      "dict_values([20, 60, 70, 400]) <class 'dict_values'>\n"
     ]
    }
   ],
   "source": [
    "dic_name={'a': 10,\n",
    "         \"b\" : 20,\n",
    "         \"c\" : 30,\n",
    "         \"h\":60,\n",
    "         \"i\":70}\n",
    "\n",
    "print(dic_name)\n",
    "\n",
    "dic_name.setdefault(\"d\") #값을 추가할수있다. 밸류값 알아서 None으로 정해줌\n",
    "print(dic_name)\n",
    "dic_name.setdefault(\"e\",50)\n",
    "print(dic_name)\n",
    "dic_name.setdefault(\"d\" ,40) #이미 존재하는 키의 값은 바꿔지지 않는다.\n",
    "\n",
    "dic_name.update(e=60)  # 값 변경(수정),, 문법이 조금 다르다.\n",
    "print(dic_name)\n",
    "\n",
    "dic_name.update(e=300,d=400) #키값은 중복이 되지 않는다, 같은 키는 추가가되는게 아니라 수정이 되는것.\n",
    "print(dic_name)\n",
    "\n",
    "print(dic_name.pop(\"a\"))   #pop()이러면 오류발생, 키 값을 줘야한다 // 없는 키 pop하면 에러를 발생시킨다. \n",
    "print(dic_name)\n",
    "\n",
    "print(dic_name.popitem())  #이거는 순서에 상관없이 랜덤으로 하나 뽑는다.\n",
    "print(dic_name)\n",
    "\n",
    "del dic_name[\"c\"]\n",
    "print(dic_name)\n",
    "\n",
    "'''dic_name.clear()\n",
    "print(dic_name)\n",
    "'''\n",
    "\n",
    "\n",
    "print(dic_name.get(\"d\"))  #밸류 값을 알려주기만 하는것. pop은 아얘 꺼내는 것이다.\n",
    "print(dic_name.get(\"d\",300)) #밸류가 없을때 오류가 나올수가 있으니가 기본으로 나오는 값을 꺼내는것임. none 값이면 300꺼낸다.\n",
    "\n",
    "print(dic_name.items()) # 키 밸류 다 꺼내기\n",
    "keys=dic_name.keys() #키 만 꺼내기\n",
    "print(keys,type(keys))\n",
    "\n",
    "values=dic_name.values() #키 만 꺼내기\n",
    "print(values,type(values))"
   ]
  },
  {
   "cell_type": "markdown",
   "metadata": {},
   "source": [
    "### 제어문\n",
    "조건에 따른 명령 할지 말지 \n",
    "들여쓰기의 중요성\n"
   ]
  },
  {
   "cell_type": "code",
   "execution_count": 93,
   "metadata": {},
   "outputs": [
    {
     "name": "stdout",
     "output_type": "stream",
     "text": [
      "soso\n",
      "456\n",
      "456 <class 'str'>\n",
      "456 <class 'int'>\n"
     ]
    }
   ],
   "source": [
    "score=85\n",
    "if score>=90 :\n",
    "    print(\"ok\")\n",
    "    \n",
    "elif 80<=score<90 :\n",
    "    print(\"soso\")\n",
    "else:\n",
    "    print(\"no\")\n",
    "\n",
    "    \n",
    "    \n",
    "a=input()\n",
    "print(a,type(a))\n",
    "a=int(a)\n",
    "print(a,type(a))\n",
    "\n"
   ]
  },
  {
   "cell_type": "markdown",
   "metadata": {},
   "source": [
    "#### for 문\n",
    "들여쓰기로 구분을 잘해야한다."
   ]
  },
  {
   "cell_type": "code",
   "execution_count": 94,
   "metadata": {},
   "outputs": [
    {
     "name": "stdout",
     "output_type": "stream",
     "text": [
      "10\n"
     ]
    }
   ],
   "source": [
    "sum=0\n",
    "for i in range(5):\n",
    "    sum+=i\n",
    "    \n",
    "print(sum)"
   ]
  },
  {
   "cell_type": "code",
   "execution_count": 99,
   "metadata": {
    "scrolled": true
   },
   "outputs": [
    {
     "name": "stdout",
     "output_type": "stream",
     "text": [
      "a\n",
      "b\n",
      "c\n",
      "a 10\n",
      "b 20\n",
      "c 30\n"
     ]
    }
   ],
   "source": [
    "d1={\"a\":10,\n",
    "    \"b\":20,\n",
    "    \"c\":30\n",
    "}\n",
    "\n",
    "for i in d1:\n",
    "    print(i)\n",
    "    \n",
    "for key, value in d1.items():\n",
    "    print(key, value)"
   ]
  },
  {
   "cell_type": "code",
   "execution_count": 100,
   "metadata": {},
   "outputs": [
    {
     "name": "stdout",
     "output_type": "stream",
     "text": [
      "h\n",
      "e\n",
      "e\n",
      "e\n",
      "e\n",
      "l\n"
     ]
    }
   ],
   "source": [
    "for i in \"heeeel\" :\n",
    "    print(i)"
   ]
  },
  {
   "cell_type": "code",
   "execution_count": 103,
   "metadata": {
    "scrolled": true
   },
   "outputs": [
    {
     "name": "stdout",
     "output_type": "stream",
     "text": [
      "*******\n",
      "*******\n",
      "*******\n",
      "*******\n",
      "*******\n"
     ]
    }
   ],
   "source": [
    "for i in range(5):\n",
    "    for j in range(7) :\n",
    "        print(\"*\",end=\"\")\n",
    "    print()\n",
    "    "
   ]
  },
  {
   "cell_type": "code",
   "execution_count": 108,
   "metadata": {},
   "outputs": [
    {
     "name": "stdout",
     "output_type": "stream",
     "text": [
      "[0, 1, 4, 9, 16, 25]\n",
      "[16, 25, 36, 49, 64, 81]\n"
     ]
    }
   ],
   "source": [
    "num=list(range(6))\n",
    "\n",
    "square=[i**2 for i in num]\n",
    "print(square)\n",
    "\n",
    "num=list(range(10))\n",
    "\n",
    "square=[i**2 for i in num if i>3]\n",
    "print(square)\n"
   ]
  },
  {
   "cell_type": "markdown",
   "metadata": {},
   "source": []
  }
 ],
 "metadata": {
  "kernelspec": {
   "display_name": "Python 3",
   "language": "python",
   "name": "python3"
  },
  "language_info": {
   "codemirror_mode": {
    "name": "ipython",
    "version": 3
   },
   "file_extension": ".py",
   "mimetype": "text/x-python",
   "name": "python",
   "nbconvert_exporter": "python",
   "pygments_lexer": "ipython3",
   "version": "3.7.6"
  }
 },
 "nbformat": 4,
 "nbformat_minor": 4
}
