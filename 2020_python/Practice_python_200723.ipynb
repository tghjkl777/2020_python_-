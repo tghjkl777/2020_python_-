{
 "cells": [
  {
   "cell_type": "code",
   "execution_count": 4,
   "metadata": {},
   "outputs": [
    {
     "data": {
      "text/plain": [
       "100"
      ]
     },
     "execution_count": 4,
     "metadata": {},
     "output_type": "execute_result"
    }
   ],
   "source": [
    "#global vs local\n",
    "\n",
    "value=100\n",
    "globals() #실행시키면 딕셔너리 형태로 들어있는거 보임\n",
    "globals()['value'] #딕셔너리 형태 키값 인자로들어감"
   ]
  },
  {
   "cell_type": "code",
   "execution_count": 8,
   "metadata": {},
   "outputs": [
    {
     "name": "stdout",
     "output_type": "stream",
     "text": [
      "<function func at 0x00000200C004E798>\n",
      "(3, 5)\n"
     ]
    }
   ],
   "source": [
    "def func(x,y):\n",
    "    return x,y\n",
    "print(globals()[\"func\"]) \n",
    "\n",
    "print(globals()[\"func\"](3,5)) # 함수 실행시켜보기. 결과값 볼수 있다. "
   ]
  },
  {
   "cell_type": "code",
   "execution_count": 14,
   "metadata": {},
   "outputs": [
    {
     "name": "stdout",
     "output_type": "stream",
     "text": [
      "<class '__main__.Book'>\n",
      "<__main__.Book object at 0x00000200C0707848>\n"
     ]
    },
    {
     "data": {
      "text/plain": [
       "{'name': '철저입문'}"
      ]
     },
     "execution_count": 14,
     "metadata": {},
     "output_type": "execute_result"
    }
   ],
   "source": [
    "class Book :\n",
    "    def __init__(self,name):\n",
    "        self.name=name\n",
    "print(globals()[\"Book\"]) #클래스인거 알수 있음. \n",
    "print(globals()[\"Book\"]('철저입문'))\n",
    "python=globals()[\"Book\"]('철저입문')\n",
    "python.__dict__"
   ]
  },
  {
   "cell_type": "code",
   "execution_count": 17,
   "metadata": {},
   "outputs": [
    {
     "name": "stdout",
     "output_type": "stream",
     "text": [
      "['kang', 'hong', 'kim']\n",
      "3\n",
      "kim\n",
      "['kang', 'hong', 'lee']\n"
     ]
    }
   ],
   "source": [
    "names=['kang','hong','kim']\n",
    "\n",
    "print(names)\n",
    "print(len(names))\n",
    "print(names[2])\n",
    "\n",
    "student_names=names\n",
    "student_names[2]='lee'\n",
    "print(names)   # 나는 student_names만 바꿨는데 실제로 출력하면 names도 같이 바뀌었음.(주의)************\n",
    "## 주소를 복사해서 넘긴것\n"
   ]
  },
  {
   "cell_type": "code",
   "execution_count": 18,
   "metadata": {},
   "outputs": [
    {
     "name": "stdout",
     "output_type": "stream",
     "text": [
      "10 20\n"
     ]
    }
   ],
   "source": [
    "a=10 \n",
    "b=a\n",
    "b=20\n",
    "print(a,b) #얘는 값을 복사해서 넘기고 "
   ]
  },
  {
   "cell_type": "code",
   "execution_count": 23,
   "metadata": {},
   "outputs": [
    {
     "name": "stdout",
     "output_type": "stream",
     "text": [
      "[20]\n",
      "[20]\n"
     ]
    }
   ],
   "source": [
    "def my_fun(a):\n",
    "    a=a+10\n",
    "    print(a)\n",
    "    \n",
    "my_fun(a)\n",
    "print(a) # a는 그대로 10이다. 주소를 복사한게 아니라 값을 복사한것이다.  call by value\n",
    "\n",
    "\n",
    "a=[10]\n",
    "def my_fun(a):\n",
    "    a[0]=a[0]+10\n",
    "    print(a)\n",
    "    \n",
    "my_fun(a)\n",
    "print(a) ## 얘는 아얘 값이 바뀌어짐. call by reference ,인자를 보낼때 주소값을 복사해서 전달을해준다."
   ]
  },
  {
   "cell_type": "code",
   "execution_count": null,
   "metadata": {},
   "outputs": [],
   "source": [
    "a=[1,2,3]\n"
   ]
  },
  {
   "cell_type": "code",
   "execution_count": 26,
   "metadata": {},
   "outputs": [
    {
     "name": "stdout",
     "output_type": "stream",
     "text": [
      "<class 'list'>\n"
     ]
    }
   ],
   "source": [
    "arrays=[[1,2,3],[4,5,6],[7,8,9]]\n",
    "arrays[0]\n",
    "\n"
   ]
  },
  {
   "cell_type": "code",
   "execution_count": 31,
   "metadata": {},
   "outputs": [
    {
     "name": "stdout",
     "output_type": "stream",
     "text": [
      "[[500, 20], [30, 40], [50, 60]]\n",
      "[[500, 20], [30, 40], [50, 60]]\n",
      "2202251702856\n",
      "2202251702856\n"
     ]
    }
   ],
   "source": [
    "lista=[[10,20],[30,40],[50,60]]\n",
    "listb=lista\n",
    "\n",
    "listb[0][0]=500\n",
    "print(lista)\n",
    "print(listb)\n",
    "print(id(lista))\n",
    "print(id(listb))"
   ]
  },
  {
   "cell_type": "code",
   "execution_count": 30,
   "metadata": {},
   "outputs": [
    {
     "name": "stdout",
     "output_type": "stream",
     "text": [
      "[[500, 20], [30, 40], [50, 60]]\n",
      "[[500, 1000], [30, 40], [50, 60]]\n",
      "2202151957896\n",
      "2202240293896\n"
     ]
    }
   ],
   "source": [
    "import copy #이 모듈을 사용해서 리스트 복사를 하자 그래야 그안에 있는 것도 새로만들어서 복사한다.\n",
    "\n",
    "listb=copy.deepcopy(lista)\n",
    "listb[0][1]=1000\n",
    "\n",
    "print(lista)\n",
    "print(listb)\n",
    "print(id(lista))\n",
    "print(id(listb))"
   ]
  },
  {
   "cell_type": "markdown",
   "metadata": {},
   "source": [
    "## NUMPY \n",
    "-배열을 쓸수 있게 만든다. 과학 연산을 쉼고 빠르게 할수 있는 패키지\n",
    "-배열이랑 리스트랑은 다르다. \n",
    "-속도가 엄청 빨라서 사용함(주이유)"
   ]
  },
  {
   "cell_type": "code",
   "execution_count": 32,
   "metadata": {},
   "outputs": [],
   "source": [
    "import numpy  as np  # C언어로 구현돼서 빠르다.\n"
   ]
  },
  {
   "cell_type": "code",
   "execution_count": 38,
   "metadata": {},
   "outputs": [
    {
     "name": "stdout",
     "output_type": "stream",
     "text": [
      "<class 'numpy.ndarray'>\n"
     ]
    },
    {
     "data": {
      "text/plain": [
       "dtype('float64')"
      ]
     },
     "execution_count": 38,
     "metadata": {},
     "output_type": "execute_result"
    }
   ],
   "source": [
    "#시퀀스 데이터를 이용한 배열(ndarray) 생성\n",
    "\n",
    "data1=[1,2,3,4,5,6]\n",
    "arr1=np.array(data1) #배열을 만드는것\n",
    "print(type(arr1))\n",
    "arr1\n",
    "\n",
    "#차원이 다른애들\n",
    "data2=[[1,2,3],[4,5,6],[7,8,9]]\n",
    "arr2=np.array(data2)\n",
    "arr2 # 2차원 배열로 출력됨\n",
    "\n",
    "data3=[1.2,3.4,5.6,4.4,4.5]\n",
    "arr3=np.array(data3)\n",
    "arr1.dtype  #배열안에 들어 있는 데이터 타입이 뭔지?!\n",
    "arr3.dtype"
   ]
  },
  {
   "cell_type": "code",
   "execution_count": 40,
   "metadata": {},
   "outputs": [
    {
     "data": {
      "text/plain": [
       "dtype('float64')"
      ]
     },
     "execution_count": 40,
     "metadata": {},
     "output_type": "execute_result"
    }
   ],
   "source": [
    "data4=[1.,2.,3.,40]  # 정수 실수를 섞어서 쓰니까 dtype 은 실수다.\n",
    "arr4=np.array(data4)\n",
    "arr4.dtype "
   ]
  },
  {
   "cell_type": "code",
   "execution_count": 42,
   "metadata": {},
   "outputs": [
    {
     "data": {
      "text/plain": [
       "array([0, 1, 2, 3, 4, 5, 6, 7, 8, 9])"
      ]
     },
     "execution_count": 42,
     "metadata": {},
     "output_type": "execute_result"
    }
   ],
   "source": [
    "np.arange(10)"
   ]
  },
  {
   "cell_type": "code",
   "execution_count": 43,
   "metadata": {},
   "outputs": [
    {
     "data": {
      "text/plain": [
       "array([ 1,  2,  3,  4,  5,  6,  7,  8,  9, 10, 11, 12, 13, 14, 15, 16, 17,\n",
       "       18, 19])"
      ]
     },
     "execution_count": 43,
     "metadata": {},
     "output_type": "execute_result"
    }
   ],
   "source": [
    "np.arange(1,20) #시작값주기 "
   ]
  },
  {
   "cell_type": "code",
   "execution_count": 45,
   "metadata": {},
   "outputs": [
    {
     "data": {
      "text/plain": [
       "array([1, 3, 5, 7, 9])"
      ]
     },
     "execution_count": 45,
     "metadata": {},
     "output_type": "execute_result"
    }
   ],
   "source": [
    "np.arange(1,10,2)\n"
   ]
  },
  {
   "cell_type": "code",
   "execution_count": 46,
   "metadata": {},
   "outputs": [
    {
     "data": {
      "text/plain": [
       "array([1., 3., 5., 7., 9.])"
      ]
     },
     "execution_count": 46,
     "metadata": {},
     "output_type": "execute_result"
    }
   ],
   "source": [
    "np.arange(1,10,2,dtype='float') # 실수로도 지정할수 있다. "
   ]
  },
  {
   "cell_type": "code",
   "execution_count": 49,
   "metadata": {},
   "outputs": [
    {
     "name": "stdout",
     "output_type": "stream",
     "text": [
      "[[0 1 2 3 4]\n",
      " [5 6 7 8 9]]\n"
     ]
    },
    {
     "data": {
      "text/plain": [
       "(2, 5)"
      ]
     },
     "execution_count": 49,
     "metadata": {},
     "output_type": "execute_result"
    }
   ],
   "source": [
    "arr5=np.arange(10).reshape(2,5)  #(주의) 원소 총 개수가 행*열과 맞아야 한다.\n",
    "print(arr5)\n",
    "arr5.shape #몇행 몇열인줄 볼수있다."
   ]
  },
  {
   "cell_type": "code",
   "execution_count": 48,
   "metadata": {},
   "outputs": [
    {
     "data": {
      "text/plain": [
       "(6,)"
      ]
     },
     "execution_count": 48,
     "metadata": {},
     "output_type": "execute_result"
    }
   ],
   "source": [
    "arr1.shape"
   ]
  },
  {
   "cell_type": "code",
   "execution_count": 1,
   "metadata": {},
   "outputs": [
    {
     "ename": "NameError",
     "evalue": "name 'np' is not defined",
     "output_type": "error",
     "traceback": [
      "\u001b[1;31m---------------------------------------------------------------------------\u001b[0m",
      "\u001b[1;31mNameError\u001b[0m                                 Traceback (most recent call last)",
      "\u001b[1;32m<ipython-input-1-304c1cb14c9f>\u001b[0m in \u001b[0;36m<module>\u001b[1;34m\u001b[0m\n\u001b[1;32m----> 1\u001b[1;33m \u001b[0mnp\u001b[0m\u001b[1;33m.\u001b[0m\u001b[0mones\u001b[0m\u001b[1;33m(\u001b[0m\u001b[1;33m(\u001b[0m\u001b[1;36m3\u001b[0m\u001b[1;33m,\u001b[0m\u001b[1;36m4\u001b[0m\u001b[1;33m)\u001b[0m\u001b[1;33m)\u001b[0m \u001b[1;31m#값을 1로 전부 채우겠다는 의미.\u001b[0m\u001b[1;33m\u001b[0m\u001b[1;33m\u001b[0m\u001b[0m\n\u001b[0m\u001b[0;32m      2\u001b[0m \u001b[1;33m\u001b[0m\u001b[0m\n\u001b[0;32m      3\u001b[0m \u001b[1;33m\u001b[0m\u001b[0m\n\u001b[0;32m      4\u001b[0m \u001b[0mnp\u001b[0m\u001b[1;33m.\u001b[0m\u001b[0mones\u001b[0m\u001b[1;33m(\u001b[0m\u001b[1;33m(\u001b[0m\u001b[1;36m3\u001b[0m\u001b[1;33m,\u001b[0m\u001b[1;36m5\u001b[0m\u001b[1;33m,\u001b[0m\u001b[1;36m2\u001b[0m\u001b[1;33m)\u001b[0m\u001b[1;33m)\u001b[0m \u001b[1;31m#3차원으로 한다.\u001b[0m\u001b[1;33m\u001b[0m\u001b[1;33m\u001b[0m\u001b[0m\n\u001b[0;32m      5\u001b[0m \u001b[1;33m\u001b[0m\u001b[0m\n",
      "\u001b[1;31mNameError\u001b[0m: name 'np' is not defined"
     ]
    }
   ],
   "source": [
    "np.ones((3,4)) #값을 1로 전부 채우겠다는 의미.\n",
    "\n",
    "\n",
    "np.ones((3,5,2)) #3차원으로 한다. \n",
    "\n",
    "np.empty((3,4))"
   ]
  },
  {
   "cell_type": "code",
   "execution_count": 55,
   "metadata": {},
   "outputs": [
    {
     "data": {
      "text/plain": [
       "array([[1., 0., 0.],\n",
       "       [0., 1., 0.],\n",
       "       [0., 0., 1.]])"
      ]
     },
     "execution_count": 55,
     "metadata": {},
     "output_type": "execute_result"
    }
   ],
   "source": [
    "np.full((3,5),7) # 3핵 5열 함수를 7로 채운다.\n",
    "\n",
    "np.eye(3) #단위 행렬 만들기 "
   ]
  },
  {
   "cell_type": "code",
   "execution_count": 56,
   "metadata": {},
   "outputs": [
    {
     "data": {
      "text/plain": [
       "array([ 1. ,  5.5, 10. ])"
      ]
     },
     "execution_count": 56,
     "metadata": {},
     "output_type": "execute_result"
    }
   ],
   "source": [
    "np.linspace(1,10,3) # 균등하게 나누는것."
   ]
  },
  {
   "cell_type": "code",
   "execution_count": 65,
   "metadata": {},
   "outputs": [
    {
     "name": "stdout",
     "output_type": "stream",
     "text": [
      "['1', '2', '3']\n",
      "[1 2 3]\n",
      "['1' '2' '3']\n"
     ]
    }
   ],
   "source": [
    "data6=['1','2','3']  # 문자열로 들어감 이걸 정수로 변환해줄수 있다. \n",
    "arr6=np.array(data6)\n",
    "print(data6)\n",
    "arr6\n",
    "\n",
    "arr6_num=arr6.astype(int)\n",
    "arr6_num.dtype\n",
    "print(arr6_num)\n",
    "print(arr6)"
   ]
  },
  {
   "cell_type": "code",
   "execution_count": 62,
   "metadata": {},
   "outputs": [
    {
     "data": {
      "text/plain": [
       "dtype('<U1')"
      ]
     },
     "execution_count": 62,
     "metadata": {},
     "output_type": "execute_result"
    }
   ],
   "source": [
    "arr6.dtype\n"
   ]
  },
  {
   "cell_type": "code",
   "execution_count": 67,
   "metadata": {},
   "outputs": [
    {
     "data": {
      "text/plain": [
       "array([1, 3, 5, 7, 9])"
      ]
     },
     "execution_count": 67,
     "metadata": {},
     "output_type": "execute_result"
    }
   ],
   "source": [
    "np.arange(1,10,2)"
   ]
  },
  {
   "cell_type": "code",
   "execution_count": 72,
   "metadata": {},
   "outputs": [
    {
     "name": "stdout",
     "output_type": "stream",
     "text": [
      "0.025545430616634945\n",
      "[[[0.33966115 0.71884512]\n",
      "  [0.86817495 0.21146037]\n",
      "  [0.22876074 0.27194887]]\n",
      "\n",
      " [[0.55955532 0.39330407]\n",
      "  [0.34410796 0.38857483]\n",
      "  [0.83696601 0.95524852]]\n",
      "\n",
      " [[0.98930392 0.32125886]\n",
      "  [0.32391672 0.42975388]\n",
      "  [0.10840225 0.14542459]]\n",
      "\n",
      " [[0.74167044 0.09780899]\n",
      "  [0.08466071 0.35862511]\n",
      "  [0.89222252 0.43029934]]]\n",
      "---------------\n",
      "[[0.73450676 0.44438305]\n",
      " [0.8569413  0.47662443]\n",
      " [0.38958397 0.20805452]]\n"
     ]
    }
   ],
   "source": [
    "#random을 이용해서 값을 채워줌.\n",
    "#1. rand 이용 :0~1사이의 값으로 adarray를 생성한다.(0포함,1불포함)\n",
    "\n",
    "print(np.random.rand())\n",
    "\n",
    "print(np.random.rand(4,3,2)) #4차원 3행 2열\n",
    "print(\"---------------\")\n",
    "print(np.random.rand(3,2)) #3행 2열"
   ]
  },
  {
   "cell_type": "code",
   "execution_count": 94,
   "metadata": {},
   "outputs": [
    {
     "name": "stdout",
     "output_type": "stream",
     "text": [
      "[ 0.32227152  0.06034293 -1.04345    -1.00994188]\n",
      "4\n",
      "[[44 16 87 84 59]\n",
      " [26 67 75 36 97]\n",
      " [57 14 61 23 39]]\n",
      "[90 95 96 90 92]\n"
     ]
    },
    {
     "data": {
      "text/plain": [
       "array([[ 0.66698806,  0.02581308, -0.77761941,  0.94863382],\n",
       "       [ 0.70167179, -1.05108156, -0.36754812, -1.13745969],\n",
       "       [-1.32214752,  1.77225828, -0.34745899,  0.67014016]])"
      ]
     },
     "execution_count": 94,
     "metadata": {},
     "output_type": "execute_result"
    }
   ],
   "source": [
    "print(np.random.randn(4)) \n",
    "\n",
    "#특정 정수 사이에서 랜덤한 값으로 ndarray생성\n",
    "print(np.random.randint(10)) \n",
    "print(np.random.randint(1,100,size=(3,5)))  #사이즈로 행렬 표시함.  #배열 만들려면 반드시 사이즈를 줘야한다. \n",
    "print(np.random.randint(90,100,size=(5))) \n",
    "\n",
    "\n",
    "#seed -랜덤한 값을 동일하게 다시 생성하고자 할때..\n",
    "\n",
    "np.random.seed(23) #이안에 숫자는 크게 의미가 있진 않음,..아무 숫자나 넣어야 한다.\n",
    "#같은 seed를 가지고랜덤하게 만들고\n",
    "np.random.randn(3,4)  #이거 여러번 실행해도 아까랑 같은 값을 계속 출력해준다. seed값 때문에."
   ]
  },
  {
   "cell_type": "code",
   "execution_count": 96,
   "metadata": {},
   "outputs": [
    {
     "data": {
      "text/plain": [
       "array([[[0.42159653, 0.34648944, 0.86978508, 0.42860181, 0.82875148,\n",
       "         0.71785184],\n",
       "        [0.11922669, 0.59638417, 0.1297563 , 0.07753409, 0.83120526,\n",
       "         0.46438561],\n",
       "        [0.16201248, 0.54797529, 0.58848582, 0.77361317, 0.65584546,\n",
       "         0.55770676]],\n",
       "\n",
       "       [[0.17824727, 0.24058353, 0.50605463, 0.3967457 , 0.48305519,\n",
       "         0.95573984],\n",
       "        [0.90160219, 0.50575932, 0.82070149, 0.82771593, 0.23183335,\n",
       "         0.07905549],\n",
       "        [0.46576293, 0.87897581, 0.14750306, 0.23125131, 0.91794581,\n",
       "         0.12906353]]])"
      ]
     },
     "execution_count": 96,
     "metadata": {},
     "output_type": "execute_result"
    }
   ],
   "source": [
    "np.random.rand(2,3)\n",
    "np.random.rand(2,3,6)"
   ]
  },
  {
   "cell_type": "code",
   "execution_count": 101,
   "metadata": {},
   "outputs": [
    {
     "name": "stdout",
     "output_type": "stream",
     "text": [
      "-----------------------------\n"
     ]
    },
    {
     "data": {
      "text/plain": [
       "array([[35, 25, 42, 81, 30],\n",
       "       [52,  0,  9, 41, 29],\n",
       "       [96, 24,  4,  2, 84],\n",
       "       [ 1, 41, 99, 54, 77]])"
      ]
     },
     "execution_count": 101,
     "metadata": {},
     "output_type": "execute_result"
    }
   ],
   "source": [
    "#choice 주어진 1차원 ndarray로 부터 랜덤으로 샘플링함.\n",
    "\n",
    "sample_data=np.array([10,20,30,40,50])\n",
    "np.random.choice(sample_data,size=(2,3))\n",
    "\n",
    "print(\"-----------------------------\")\n",
    "#choice -정수가 주어지면 np.arrange(정수)으로 간주함. \n",
    "np.random.choice(100,size=(4,5)) #한번 뽑은 값을 또 써도 괜찮다 중복된 값이 나올수 있다.\n",
    "\n",
    "np.random.choice(100,size=(4,5),replace=False)#중복된 값을 가지지 못하게 한다."
   ]
  },
  {
   "cell_type": "code",
   "execution_count": 143,
   "metadata": {},
   "outputs": [
    {
     "data": {
      "text/plain": [
       "array([13, 31,  9, 24, 35, 28])"
      ]
     },
     "execution_count": 143,
     "metadata": {},
     "output_type": "execute_result"
    }
   ],
   "source": [
    "np.random.choice(np.arange(1,46),size=6,replace=False) #로또 뽑기\n",
    "\n",
    "# np.random.choice([1,2,3,4,5,6],size=6,replace=False) "
   ]
  },
  {
   "cell_type": "code",
   "execution_count": 111,
   "metadata": {},
   "outputs": [
    {
     "data": {
      "text/plain": [
       "array([[ 1.0654228 , -0.6055636 , -1.33355413,  0.49605774],\n",
       "       [ 0.01319381, -0.48521005,  0.11583088,  0.66509522],\n",
       "       [-0.0265563 ,  0.62321928, -0.00374142,  0.27196926]])"
      ]
     },
     "execution_count": 111,
     "metadata": {},
     "output_type": "execute_result"
    }
   ],
   "source": [
    "np.random.normal(size=(3,4))"
   ]
  },
  {
   "cell_type": "code",
   "execution_count": 121,
   "metadata": {},
   "outputs": [
    {
     "name": "stdout",
     "output_type": "stream",
     "text": [
      "[[ 0  1  2  3  4]\n",
      " [ 5  6  7  8  9]\n",
      " [10 11 12 13 14]]\n"
     ]
    },
    {
     "data": {
      "text/plain": [
       "array([[  0,   1,   4,   9,  16],\n",
       "       [ 25,  36,  49,  64,  81],\n",
       "       [100, 121, 144, 169, 196]])"
      ]
     },
     "execution_count": 121,
     "metadata": {},
     "output_type": "execute_result"
    }
   ],
   "source": [
    "#배열의 연산\n",
    "\n",
    "arr1=np.array([10,20,30,40])\n",
    "arr2=np.array([1,2,3,4])\n",
    "arr1+arr2\n",
    "\n",
    "\n",
    "arr3=np.arange(15).reshape(3,5)\n",
    "print(arr3)\n",
    "\n",
    "arr4=np.arange(15).reshape(3,5)\n",
    "\n",
    "arr3+arr4\n",
    "\n",
    "\n",
    "np.add(arr3,arr4)\n",
    "\n",
    "arr3*arr4\n"
   ]
  },
  {
   "cell_type": "code",
   "execution_count": 148,
   "metadata": {},
   "outputs": [
    {
     "name": "stdout",
     "output_type": "stream",
     "text": [
      "[ 1  4  9 16 25]\n"
     ]
    },
    {
     "data": {
      "text/plain": [
       "array([False, False, False, False, False])"
      ]
     },
     "execution_count": 148,
     "metadata": {},
     "output_type": "execute_result"
    }
   ],
   "source": [
    "ar1=np.array([1,2,3,4,5])\n",
    "ar2=np.array([6,7,8,9,10])\n",
    "\n",
    "ar1**ar2\n",
    "\n",
    "print(ar1**2)\n",
    "\n",
    "ar1>10"
   ]
  },
  {
   "cell_type": "code",
   "execution_count": 159,
   "metadata": {},
   "outputs": [
    {
     "name": "stdout",
     "output_type": "stream",
     "text": [
      "[10 20 30 40]\n",
      "11.180339887498949\n"
     ]
    },
    {
     "data": {
      "text/plain": [
       "array([[False,  True,  True,  True,  True],\n",
       "       [ True,  True,  True,  True,  True]])"
      ]
     },
     "execution_count": 159,
     "metadata": {},
     "output_type": "execute_result"
    }
   ],
   "source": [
    "#통계 함수 =평균 분산 최대 최소 \n",
    "print(arr1)\n",
    "\n",
    "np.mean(arr1)\n",
    "arr1.mean() # 둘다 평균을 이용할수 있는 방법. \n",
    "\n",
    "print(arr1.std())\n",
    "\n",
    "np.cumsum(arr1)  # 누적해서 값을 구해준다.\n",
    "\n",
    "np.cumprod(arr1) #누적곱\n",
    "\n",
    "arr5>0 #양수 트로 음수 펄스\n",
    "\n"
   ]
  },
  {
   "cell_type": "code",
   "execution_count": 161,
   "metadata": {},
   "outputs": [
    {
     "data": {
      "text/plain": [
       "False"
      ]
     },
     "execution_count": 161,
     "metadata": {},
     "output_type": "execute_result"
    }
   ],
   "source": [
    "#any,all 함수\n",
    "# any =특정 조건을 만족하는 것이 하나라도 존재하면 True,아니면 Flase\n",
    "# all=모든 원소가 특정 조건에 만족해야만 true, 아니면 false\n",
    "\n",
    "np.any(arr5>0)\n",
    "np.all(arr5>0)"
   ]
  },
  {
   "cell_type": "code",
   "execution_count": 162,
   "metadata": {},
   "outputs": [
    {
     "data": {
      "text/plain": [
       "array([[0, 1, 2, 3, 4],\n",
       "       [5, 6, 7, 8, 9]])"
      ]
     },
     "execution_count": 162,
     "metadata": {},
     "output_type": "execute_result"
    }
   ],
   "source": [
    "# where 함수\n",
    "# 조건에 따라서 선별적으로 값을 선택\n",
    "\n",
    "np.where(arr5>0,arr5,0) #true 면 arr5 반환 아니면 flase 면 0반환"
   ]
  },
  {
   "cell_type": "markdown",
   "metadata": {},
   "source": [
    "### 인덱싱 : 했을때는 차원이 하나 준다. 슬라이싱은 줄지 않음\n",
    "-파이썬의 리스트와 동일한 개념으로 사용한다.\n",
    "-1차원 벡터 인덱싱\n"
   ]
  },
  {
   "cell_type": "code",
   "execution_count": 164,
   "metadata": {},
   "outputs": [
    {
     "name": "stdout",
     "output_type": "stream",
     "text": [
      "[  10   20   30 1000]\n"
     ]
    }
   ],
   "source": [
    "arr1[3]\n",
    "\n",
    "arr1[3]=1000\n",
    "print(arr1)"
   ]
  },
  {
   "cell_type": "code",
   "execution_count": 177,
   "metadata": {},
   "outputs": [
    {
     "name": "stdout",
     "output_type": "stream",
     "text": [
      "7\n",
      "[[[23 26 24 11 38]\n",
      "  [ 2 30 11 13 30]\n",
      "  [27 38 18 25 15]\n",
      "  [23  2  7 31 31]]\n",
      "\n",
      " [[ 2 23 39 44 37]\n",
      "  [19 43 37  2 22]\n",
      "  [35 10  4 42 34]\n",
      "  [44 29  3 16 16]]\n",
      "\n",
      " [[20 38 31 29  9]\n",
      "  [20  7 47 29 20]\n",
      "  [42 29 25 31 15]\n",
      "  [ 2 21 31 37 21]]]\n",
      "4\n",
      "[[[   23    26    24    11    38]\n",
      "  [    2    30    11    13    30]\n",
      "  [   27    38    18    25    15]\n",
      "  [   23     2     7    31    31]]\n",
      "\n",
      " [[    2    23    39    44    37]\n",
      "  [   19    43    37     2    22]\n",
      "  [   35    10 10000    42    34]\n",
      "  [   44    29     3    16    16]]\n",
      "\n",
      " [[   20    38    31    29     9]\n",
      "  [   20     7    47    29    20]\n",
      "  [   42    29    25    31    15]\n",
      "  [    2    21    31    37    21]]]\n",
      "[[[    0     0     0     0     0]\n",
      "  [    0     0     0     0     0]\n",
      "  [    0     0     0     0     0]\n",
      "  [    0     0     0     0     0]]\n",
      "\n",
      " [[    2    23    39    44    37]\n",
      "  [   19    43    37     2    22]\n",
      "  [   35    10 10000    42    34]\n",
      "  [   44    29     3    16    16]]\n",
      "\n",
      " [[   20    38    31    29     9]\n",
      "  [   20     7    47    29    20]\n",
      "  [   42    29    25    31    15]\n",
      "  [    2    21    31    37    21]]]\n"
     ]
    }
   ],
   "source": [
    "#2차원 행렬인덱싱\n",
    "\n",
    "arr2=np.arange(10).reshape(2,5)\n",
    "arr2\n",
    "\n",
    "#원소에 접근하기 : 인덱스를 ,로 구분해서 접근한다. \n",
    "print(arr2[1,2])\n",
    "\n",
    "ar3=np.random.randint(1,50,size=(3,4,5))\n",
    "print(ar3)\n",
    "print(ar3[1,2,2])\n",
    "\n",
    "#인덱스를 이용한 값 변경\n",
    "\n",
    "ar3[1,2,2]=10000\n",
    "print(ar3)\n",
    "\n",
    "ar3[0]=np.zeros((4,5))\n",
    "print(ar3)"
   ]
  },
  {
   "cell_type": "code",
   "execution_count": 183,
   "metadata": {},
   "outputs": [
    {
     "name": "stdout",
     "output_type": "stream",
     "text": [
      "[0 1 2 3 4 5 6 7 8 9]\n",
      "[2 3 4 5 6]\n"
     ]
    }
   ],
   "source": [
    "arr6=np.array([1,2,3,4,5,6])\n",
    "arr6[arr6>3] #조건에 맞는 배열만 출력하기 \n",
    "\n",
    "#슬라이싱\n",
    "arr7=np.arange(10)\n",
    "print(arr7)\n",
    "print(arr7[2:-3])"
   ]
  },
  {
   "cell_type": "code",
   "execution_count": 228,
   "metadata": {
    "scrolled": true
   },
   "outputs": [
    {
     "name": "stdout",
     "output_type": "stream",
     "text": [
      "[[0 1 2 3 4]\n",
      " [5 6 7 8 9]]\n",
      "------------\n",
      "[[5 6 7 8 9]]\n",
      "==============\n",
      "[[10 20 30]\n",
      " [40 50 60]\n",
      " [70 80 90]]\n",
      "\n",
      "[[20 30]\n",
      " [50 60]\n",
      " [80 90]]\n",
      "@@@@@@@@@@\n",
      "[[40 50 60]\n",
      " [70 80 90]]\n"
     ]
    }
   ],
   "source": [
    "#2차원 배열 슬라이싱\n",
    "arr8=np.arange(10).reshape(2,5)\n",
    "print (arr8)\n",
    "print(\"------------\")\n",
    "print(arr8[:][1:])\n",
    "print(\"==============\")\n",
    "b2=np.arange(10,100,10).reshape(3,3)\n",
    "print(b2)\n",
    "print()\n",
    "print(b2[:,1:])\n",
    "print(\"@@@@@@@@@@\")\n",
    "print(b2[1:][0:])"
   ]
  },
  {
   "cell_type": "code",
   "execution_count": 198,
   "metadata": {
    "scrolled": true
   },
   "outputs": [
    {
     "name": "stdout",
     "output_type": "stream",
     "text": [
      "[[ 0  1  2  3  4]\n",
      " [ 5  6  7  8  9]\n",
      " [10 11 12 13 14]]\n",
      "[ 0  1  2  3  4  5  6  7  8  9 10 11 12 13 14]\n",
      "[ 0  5 10  1  6 11  2  7 12  3  8 13  4  9 14]\n",
      "\n",
      "[[[ 0  1  2]\n",
      "  [ 3  4  5]\n",
      "  [ 6  7  8]\n",
      "  [ 9 10 11]]\n",
      "\n",
      " [[12 13 14]\n",
      "  [15 16 17]\n",
      "  [18 19 20]\n",
      "  [21 22 23]]\n",
      "\n",
      " [[24 25 26]\n",
      "  [27 28 29]\n",
      "  [30 31 32]\n",
      "  [33 34 35]]]\n",
      "[[[-12   1   2]\n",
      "  [  3   4   5]\n",
      "  [  6   7   8]\n",
      "  [  9  10  11]]\n",
      "\n",
      " [[ 12  13  14]\n",
      "  [ 15  16  17]\n",
      "  [ 18  19  20]\n",
      "  [ 21  22  23]]\n",
      "\n",
      " [[ 24  25  26]\n",
      "  [ 27  28  29]\n",
      "  [ 30  31  32]\n",
      "  [ 33  34  35]]]\n"
     ]
    }
   ],
   "source": [
    "#ndarray의 shpae 변경방법...\n",
    "arr11=np.arange(15).reshape(3,5)\n",
    "print(arr11)\n",
    "\n",
    "print(np.ravel(arr11))  # 행을 기준으로 일자로 펼치기\n",
    "print(np.ravel(arr11,order='F')) # 열기준으로 펼치기 \n",
    "\n",
    "print()\n",
    "arr12=np.arange(36).reshape(3,4,3)\n",
    "print(arr12)\n",
    "\n",
    "ar12=np.ravel(arr12)\n",
    "ar12[0]=-12\n",
    "print(arr12)   #원래 값이 바뀐다 . ravel은 그냥 가져다 쓰는거임."
   ]
  },
  {
   "cell_type": "code",
   "execution_count": 203,
   "metadata": {},
   "outputs": [
    {
     "data": {
      "text/plain": [
       "array([[[-12,   1,   2],\n",
       "        [  3,   4,   5],\n",
       "        [  6,   7,   8],\n",
       "        [  9,  10,  11]],\n",
       "\n",
       "       [[ 12,  13,  14],\n",
       "        [ 15,  16,  17],\n",
       "        [ 18,  19,  20],\n",
       "        [ 21,  22,  23]],\n",
       "\n",
       "       [[ 24,  25,  26],\n",
       "        [ 27,  28,  29],\n",
       "        [ 30,  31,  32],\n",
       "        [ 33,  34,  35]]])"
      ]
     },
     "execution_count": 203,
     "metadata": {},
     "output_type": "execute_result"
    }
   ],
   "source": [
    "#flatten사용하면 값을 따로 해서 바꿀수 있다.\n",
    "\n",
    "ar13=arr12.flatten()  #매번 새로운 애를 생성해준다. \n",
    "ar13[0]=-123\n",
    "ar13\n",
    "arr12\n",
    "\n"
   ]
  },
  {
   "cell_type": "code",
   "execution_count": 217,
   "metadata": {},
   "outputs": [
    {
     "name": "stdout",
     "output_type": "stream",
     "text": [
      "105\n",
      "[[ 0  1  2  3  4]\n",
      " [ 5  6  7  8  9]\n",
      " [10 11 12 13 14]]\n",
      "\n",
      "105\n",
      "\n",
      "[15 18 21 24 27]\n",
      "\n",
      "[10 35 60]\n"
     ]
    }
   ],
   "source": [
    "#axis\n",
    "\n",
    "a = np.arange(15)\n",
    "print(np.sum(a))\n",
    "\n",
    "# print(np.sum(a, axis=1)) # 중심축을 이야기한다. 1차원에서는 0이다 없는거라고 보면된다. axis 안들어 가면 기본적으로 전체를 의미한다.\n",
    "\n",
    "b=np.arange(15).reshape(3,5)\n",
    "print(b)\n",
    "print()\n",
    "print(np.sum(b))\n",
    "print()\n",
    "print(np.sum(b,axis =0)) # 열이 기준이 된다.\n",
    "print()\n",
    "print(np.sum(b,axis =1)) #행을 기준으로 연산이 된다.\n"
   ]
  },
  {
   "cell_type": "code",
   "execution_count": 224,
   "metadata": {},
   "outputs": [
    {
     "name": "stdout",
     "output_type": "stream",
     "text": [
      "[[[ 0  1  2  3]\n",
      "  [ 4  5  6  7]\n",
      "  [ 8  9 10 11]\n",
      "  [12 13 14 15]]\n",
      "\n",
      " [[16 17 18 19]\n",
      "  [20 21 22 23]\n",
      "  [24 25 26 27]\n",
      "  [28 29 30 31]]\n",
      "\n",
      " [[32 33 34 35]\n",
      "  [36 37 38 39]\n",
      "  [40 41 42 43]\n",
      "  [44 45 46 47]]]\n",
      "[[48 51 54 57]\n",
      " [60 63 66 69]\n",
      " [72 75 78 81]\n",
      " [84 87 90 93]]\n",
      "\n",
      "[[ 24  28  32  36]\n",
      " [ 88  92  96 100]\n",
      " [152 156 160 164]]\n",
      "\n",
      "[[  6  22  38  54]\n",
      " [ 70  86 102 118]\n",
      " [134 150 166 182]]\n"
     ]
    }
   ],
   "source": [
    "c=np.arange(48).reshape(3,4,4)\n",
    "print(c)\n",
    "print(np.sum(c,axis=0)) #각 위치 원소기준\n",
    "print()\n",
    "print(np.sum(c,axis=1)) #열기준\n",
    "print()\n",
    "print(np.sum(c,axis=2)) #향기준"
   ]
  },
  {
   "cell_type": "code",
   "execution_count": null,
   "metadata": {},
   "outputs": [],
   "source": [
    "#행렬 브로드 캐스팅 broadingcasting :두개의 행랼연산 shape이 다른애들끼리하는것 .1.4*4,3 가운데 두개가 맞아야 할수 있다. \n"
   ]
  }
 ],
 "metadata": {
  "kernelspec": {
   "display_name": "Python 3",
   "language": "python",
   "name": "python3"
  },
  "language_info": {
   "codemirror_mode": {
    "name": "ipython",
    "version": 3
   },
   "file_extension": ".py",
   "mimetype": "text/x-python",
   "name": "python",
   "nbconvert_exporter": "python",
   "pygments_lexer": "ipython3",
   "version": "3.7.6"
  }
 },
 "nbformat": 4,
 "nbformat_minor": 4
}
