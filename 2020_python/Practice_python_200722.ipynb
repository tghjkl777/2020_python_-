{
 "cells": [
  {
   "cell_type": "markdown",
   "metadata": {},
   "source": [
    "### 모듈 \n",
    "-나도 모듈을 만들수 있다.(.py)"
   ]
  },
  {
   "cell_type": "code",
   "execution_count": 7,
   "metadata": {},
   "outputs": [
    {
     "name": "stdout",
     "output_type": "stream",
     "text": [
      "Overwriting C:\\myPycode\\my_first_moudle.py\n"
     ]
    }
   ],
   "source": [
    "%%writefile C:\\myPycode\\my_first_moudle.py  \n",
    "#주피터 통해서 파이썬 파일 만들기    \n",
    "def my_function ():\n",
    "    print(\"this is first module\") \n",
    "    \n",
    "my_function() # 이렇게 써버리면 improt my_first_moudle.py 할때 이거 쓰기만 해도 실행되니까 함수만 쓰고 싶은 경우는\n",
    "\n",
    "# if __name__==\"__main__\":  # 메인이릉 이름이 같을때만 실행시켜준다고 정의해서 사용한다. 즉, 직접 이 파이선 파일을 실행할때만 실행되게\n",
    "#     my_function() "
   ]
  },
  {
   "cell_type": "code",
   "execution_count": 2,
   "metadata": {},
   "outputs": [
    {
     "name": "stdout",
     "output_type": "stream",
     "text": [
      "    \n",
      "def my_function ():\n",
      "    print(\"this is first module\")\n"
     ]
    }
   ],
   "source": [
    "!type C:\\myPycode\\my_first_moudle.py #모듈 파일속 내용보기"
   ]
  },
  {
   "cell_type": "code",
   "execution_count": 8,
   "metadata": {},
   "outputs": [
    {
     "name": "stdout",
     "output_type": "stream",
     "text": [
      "[WinError 2] 지정된 파일을 찾을 수 없습니다: 'C:\\\\myPycode #경로 이동'\n",
      "C:\\Users\\student\\2020_python\n"
     ]
    }
   ],
   "source": [
    "cd C:\\myPycode   #경로 이동"
   ]
  },
  {
   "cell_type": "code",
   "execution_count": 5,
   "metadata": {},
   "outputs": [
    {
     "name": "stdout",
     "output_type": "stream",
     "text": [
      "this is first module\n",
      "this is first module\n"
     ]
    }
   ],
   "source": [
    "import my_first_moudle as my #경로 이동해서 모듈 추가\n",
    "\n",
    "my_first_moudle.my_function()\n",
    "\n",
    "my.my_function()"
   ]
  },
  {
   "cell_type": "code",
   "execution_count": 7,
   "metadata": {},
   "outputs": [
    {
     "data": {
      "text/plain": [
       "['__builtins__',\n",
       " '__cached__',\n",
       " '__doc__',\n",
       " '__file__',\n",
       " '__loader__',\n",
       " '__name__',\n",
       " '__package__',\n",
       " '__spec__',\n",
       " 'my_function']"
      ]
     },
     "execution_count": 7,
     "metadata": {},
     "output_type": "execute_result"
    }
   ],
   "source": [
    "dir(my_first_moudle)  #모듈이 포함하고 있는 내용을 보인다. 나는 하나밖에 안만들었지만 기본적으로 가지고 있는게 있다."
   ]
  },
  {
   "cell_type": "code",
   "execution_count": 9,
   "metadata": {},
   "outputs": [
    {
     "name": "stdout",
     "output_type": "stream",
     "text": [
      "this is first module\n",
      "this is first module\n"
     ]
    }
   ],
   "source": [
    "from my_first_moudle import my_function as m\n",
    "my_function()  #모듈의 이름을 쓰지 않아도 바로 쓸수 있다. \n",
    "m() # 함수도 별칭을 지정할수 있다. "
   ]
  },
  {
   "cell_type": "code",
   "execution_count": 13,
   "metadata": {},
   "outputs": [
    {
     "ename": "ModuleNotFoundError",
     "evalue": "No module named 'my_first_moudle'",
     "output_type": "error",
     "traceback": [
      "\u001b[1;31m---------------------------------------------------------------------------\u001b[0m",
      "\u001b[1;31mModuleNotFoundError\u001b[0m                       Traceback (most recent call last)",
      "\u001b[1;32m<ipython-input-13-f84273034e2c>\u001b[0m in \u001b[0;36m<module>\u001b[1;34m\u001b[0m\n\u001b[1;32m----> 1\u001b[1;33m \u001b[1;32mfrom\u001b[0m \u001b[0mmy_first_moudle\u001b[0m \u001b[1;32mimport\u001b[0m \u001b[1;33m*\u001b[0m \u001b[1;31m# 다 포함해서 쓰고 싶다.\u001b[0m\u001b[1;33m\u001b[0m\u001b[1;33m\u001b[0m\u001b[0m\n\u001b[0m\u001b[0;32m      2\u001b[0m \u001b[0mmy_function\u001b[0m\u001b[1;33m(\u001b[0m\u001b[1;33m)\u001b[0m\u001b[1;33m\u001b[0m\u001b[1;33m\u001b[0m\u001b[0m\n",
      "\u001b[1;31mModuleNotFoundError\u001b[0m: No module named 'my_first_moudle'"
     ]
    }
   ],
   "source": [
    "from my_first_moudle import * # 다 포함해서 쓰고 싶다. \n",
    "my_function()"
   ]
  },
  {
   "cell_type": "code",
   "execution_count": 10,
   "metadata": {},
   "outputs": [
    {
     "name": "stdout",
     "output_type": "stream",
     "text": [
      "this is first module\n"
     ]
    }
   ],
   "source": [
    "#주피터 노트북을 통해서 파이썬 파일 실행시키기\n",
    "%run C:/myPycode/my_first_moudle.py  "
   ]
  },
  {
   "cell_type": "code",
   "execution_count": 12,
   "metadata": {},
   "outputs": [
    {
     "ename": "ModuleNotFoundError",
     "evalue": "No module named 'my_first_moudle'",
     "output_type": "error",
     "traceback": [
      "\u001b[1;31m---------------------------------------------------------------------------\u001b[0m",
      "\u001b[1;31mModuleNotFoundError\u001b[0m                       Traceback (most recent call last)",
      "\u001b[1;32m<ipython-input-12-885a40384226>\u001b[0m in \u001b[0;36m<module>\u001b[1;34m\u001b[0m\n\u001b[1;32m----> 1\u001b[1;33m \u001b[1;32mimport\u001b[0m \u001b[0mmy_first_moudle\u001b[0m\u001b[1;33m\u001b[0m\u001b[1;33m\u001b[0m\u001b[0m\n\u001b[0m",
      "\u001b[1;31mModuleNotFoundError\u001b[0m: No module named 'my_first_moudle'"
     ]
    }
   ],
   "source": [
    "import my_first_moudle"
   ]
  },
  {
   "cell_type": "code",
   "execution_count": 43,
   "metadata": {},
   "outputs": [
    {
     "name": "stdout",
     "output_type": "stream",
     "text": [
      "0.353\n",
      "2 1 3 4 3 1 \n",
      "7 5 3 3 5 5 1 1 1 "
     ]
    }
   ],
   "source": [
    "import random\n",
    "# dir(random)\n",
    "\n",
    "a=random.random()\n",
    "print(\"%.3f\"%a)\n",
    "\n",
    "for i in range(6) :\n",
    "    print(random.randint(1,6), end=\" \")\n",
    "print()\n",
    "\n",
    "for i in range(9) :\n",
    "    print( random.randrange(1,),end=\" \")\n",
    "    \n"
   ]
  },
  {
   "cell_type": "code",
   "execution_count": null,
   "metadata": {},
   "outputs": [],
   "source": [
    "##테스트 힌트"
   ]
  },
  {
   "cell_type": "code",
   "execution_count": 67,
   "metadata": {},
   "outputs": [
    {
     "name": "stdout",
     "output_type": "stream",
     "text": [
      "h\n",
      "iython\n",
      "<class 'enumerate'>\n",
      "0 : a\n",
      "1 : b\n",
      "2 : c\n",
      "0 1\n",
      "1 2\n",
      "2 3\n",
      "3 4\n",
      "4 5\n",
      "5 6\n",
      "\n",
      "0 a\n",
      "a 1\n",
      "1 b\n",
      "b 2\n",
      "2 c\n",
      "c 3\n",
      "100 w\n",
      "101 h\n",
      "102 a\n",
      "103 t\n",
      "[(1, 'kang'), (2, 'kim'), (3, 'hong'), (4, 'lee')]\n",
      "<zip object at 0x000002286110E508>\n"
     ]
    }
   ],
   "source": [
    "a='python'\n",
    "print(a[3])\n",
    "## i 로 바꿀때는 replace를 써야한다.\n",
    "print(a.replace(a[0],'i'))\n",
    "\n",
    "## enumerate : 리스탁 있는 경우 순서와 리스트의 값을 전달하는 기능을 가짐.\n",
    "# 열거한다. \n",
    "# 순서가 있는 자료형 (리스트 , 튜플, 스트링,,,)입력 받아서 인덱스틑 포함하는 enumerate객체를 리턴해준다. \n",
    "# for 문이랑 자주 쓰인다. \n",
    "\n",
    "data=enumerate(('a','b','c'))\n",
    "print(type(data))\n",
    "\n",
    "for i, l in data :\n",
    "    print(i,\":\", l)\n",
    "    \n",
    "\n",
    "for i ,value in enumerate([1,2,3,4,5,6]):\n",
    "    print(i, value)\n",
    "print()    \n",
    "\n",
    "data ={ \"a\":1,\n",
    "      \"b\":2,\n",
    "      \"c\":3}\n",
    "\n",
    "for i,key in enumerate(data):\n",
    "    print(i,key)   # 키값만 받을수 있다. \n",
    "    print(key, data[key])\n",
    "    \n",
    "for i , value in enumerate(\"what\",100): ## 100 부터 나오게 할수 있다 순서를 지정해서 나올수 있다. 열거형 함수이구나.\n",
    "    print(i, value)\n",
    "\n",
    "##ZIP함수 -> 묶어준는 애 \n",
    "number =[1,2,3,4]\n",
    "name=[\"kang\",\"kim\",\"hong\",\"lee\"]\n",
    "\n",
    "persons=list(zip(number,name))\n",
    "print(persons)\n",
    "print(zip(number,name))\n",
    "\n",
    "#함수를 어떻게 쓰지?? map, 수학적인 함수 \n",
    "\n",
    "#파일 저장할때 워드로만 저장했는데.....원래 입출력할떄는 바이너리 코드로 한다.: : 이걸할수 있는 모듈이 따로 있다.\n",
    "import pickle "
   ]
  },
  {
   "cell_type": "code",
   "execution_count": null,
   "metadata": {},
   "outputs": [],
   "source": [
    "#파일 저장할때 워드로만 저장했는데.....원래 입출력할떄는 바이너리 코드로 한다.: : 이걸할수 있는 모듈이 따로 있다.\n",
    "import pickle \n",
    "\n",
    "name='carami'\n",
    "age=29\n",
    "address=\"경기도 고양시\"\n",
    "score={\"kor\":100,\n",
    "      \"eng\":100,\n",
    "      \"math\":100}\n",
    "\n",
    "#확장자 뭐든 상관없다. --> 바이너리형 태로 쓴다\n",
    "with open('carami.txt',\"wb\") as file:\n",
    "    pickle.dump(name.file)\n",
    "    pickle.dump(age.file)\n",
    "    pickle.dump(address.file)\n",
    "    pickle.dump(score.file)\n",
    "    \n",
    "    \n",
    "with open(\"crami.txt\",\"rb\") as file : #바이너리 읽는다. \n",
    "    name=pickle.load(file)\n",
    "    age=pickle.load(file)\n",
    "    address=pickle.load(file)\n",
    "    score=pickle.load(file)\n",
    "    \n",
    "    "
   ]
  },
  {
   "cell_type": "code",
   "execution_count": null,
   "metadata": {},
   "outputs": [],
   "source": []
  }
 ],
 "metadata": {
  "kernelspec": {
   "display_name": "Python 3",
   "language": "python",
   "name": "python3"
  },
  "language_info": {
   "codemirror_mode": {
    "name": "ipython",
    "version": 3
   },
   "file_extension": ".py",
   "mimetype": "text/x-python",
   "name": "python",
   "nbconvert_exporter": "python",
   "pygments_lexer": "ipython3",
   "version": "3.7.6"
  }
 },
 "nbformat": 4,
 "nbformat_minor": 4
}
