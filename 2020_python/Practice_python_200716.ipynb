{
 "cells": [
  {
   "cell_type": "markdown",
   "metadata": {},
   "source": [
    "## 파이썬 계산기처럼 이용하기"
   ]
  },
  {
   "cell_type": "code",
   "execution_count": 1,
   "metadata": {},
   "outputs": [
    {
     "data": {
      "text/plain": [
       "14"
      ]
     },
     "execution_count": 1,
     "metadata": {},
     "output_type": "execute_result"
    }
   ],
   "source": [
    "2+3*4"
   ]
  },
  {
   "cell_type": "code",
   "execution_count": 2,
   "metadata": {},
   "outputs": [
    {
     "data": {
      "text/plain": [
       "5.0"
      ]
     },
     "execution_count": 2,
     "metadata": {},
     "output_type": "execute_result"
    }
   ],
   "source": [
    "10/2"
   ]
  },
  {
   "cell_type": "code",
   "execution_count": 3,
   "metadata": {},
   "outputs": [
    {
     "data": {
      "text/plain": [
       "int"
      ]
     },
     "execution_count": 3,
     "metadata": {},
     "output_type": "execute_result"
    }
   ],
   "source": [
    "type(2) #타입 알기"
   ]
  },
  {
   "cell_type": "code",
   "execution_count": 4,
   "metadata": {},
   "outputs": [
    {
     "data": {
      "text/plain": [
       "16"
      ]
     },
     "execution_count": 4,
     "metadata": {},
     "output_type": "execute_result"
    }
   ],
   "source": [
    "2**4"
   ]
  },
  {
   "cell_type": "code",
   "execution_count": 5,
   "metadata": {},
   "outputs": [
    {
     "data": {
      "text/plain": [
       "3"
      ]
     },
     "execution_count": 5,
     "metadata": {},
     "output_type": "execute_result"
    }
   ],
   "source": [
    "10//3"
   ]
  },
  {
   "cell_type": "code",
   "execution_count": 6,
   "metadata": {},
   "outputs": [
    {
     "data": {
      "text/plain": [
       "1"
      ]
     },
     "execution_count": 6,
     "metadata": {},
     "output_type": "execute_result"
    }
   ],
   "source": [
    "10%3"
   ]
  },
  {
   "cell_type": "code",
   "execution_count": 7,
   "metadata": {},
   "outputs": [
    {
     "data": {
      "text/plain": [
       "2.2973967099940698"
      ]
     },
     "execution_count": 7,
     "metadata": {},
     "output_type": "execute_result"
    }
   ],
   "source": [
    "2**(1.2)"
   ]
  },
  {
   "cell_type": "code",
   "execution_count": 8,
   "metadata": {},
   "outputs": [
    {
     "data": {
      "text/plain": [
       "300000000.0"
      ]
     },
     "execution_count": 8,
     "metadata": {},
     "output_type": "execute_result"
    }
   ],
   "source": [
    "3e8"
   ]
  },
  {
   "cell_type": "code",
   "execution_count": 10,
   "metadata": {},
   "outputs": [
    {
     "data": {
      "text/plain": [
       "17"
      ]
     },
     "execution_count": 10,
     "metadata": {},
     "output_type": "execute_result"
    }
   ],
   "source": [
    "0b10001"
   ]
  },
  {
   "cell_type": "code",
   "execution_count": 3,
   "metadata": {},
   "outputs": [
    {
     "data": {
      "text/plain": [
       "'0b1101111'"
      ]
     },
     "execution_count": 3,
     "metadata": {},
     "output_type": "execute_result"
    }
   ],
   "source": [
    "0b111\n",
    "bin(111)"
   ]
  },
  {
   "cell_type": "markdown",
   "metadata": {},
   "source": [
    "### 예약어"
   ]
  },
  {
   "cell_type": "code",
   "execution_count": 15,
   "metadata": {},
   "outputs": [
    {
     "name": "stdout",
     "output_type": "stream",
     "text": [
      "['False', 'None', 'True', 'and', 'as', 'assert', 'async', 'await', 'break', 'class', 'continue', 'def', 'del', 'elif', 'else', 'except', 'finally', 'for', 'from', 'global', 'if', 'import', 'in', 'is', 'lambda', 'nonlocal', 'not', 'or', 'pass', 'raise', 'return', 'try', 'while', 'with', 'yield']\n"
     ]
    }
   ],
   "source": [
    "import keyword #python keyword\n",
    "\n",
    "print(keyword.kwlist)"
   ]
  },
  {
   "cell_type": "markdown",
   "metadata": {},
   "source": [
    "### 식별자\n",
    "### 이름 붙일때 사용하는 단어\n",
    "(내가 지정하는것,예약어 사용불가, 특수문자는 언더 바만 가능'snake case', 공백포함할수 없음.대소문자 사용 'kamel case')\n",
    "- 카멜은 클래스 이름을 표기할때 많이 쓴다. 대문자로 시작한다.\n",
    "- 스네이크 케이스는 소문자로 시작한다.-> 대부분 변수나 함수에 사용한다. \n",
    "--->> 관행이다. "
   ]
  },
  {
   "cell_type": "markdown",
   "metadata": {},
   "source": [
    "## 변수와 자료형"
   ]
  },
  {
   "cell_type": "code",
   "execution_count": 18,
   "metadata": {},
   "outputs": [
    {
     "name": "stdout",
     "output_type": "stream",
     "text": [
      "123\n",
      "3444\n",
      "<class 'int'>\n",
      "<class 'str'>\n"
     ]
    }
   ],
   "source": [
    "a=123\n",
    "print(a)\n",
    "a=3444\n",
    "print(a)\n",
    "print(type(a))\n",
    "\n",
    "a=\"hello\"\n",
    "print(type(a))"
   ]
  },
  {
   "cell_type": "code",
   "execution_count": 6,
   "metadata": {},
   "outputs": [
    {
     "name": "stdout",
     "output_type": "stream",
     "text": [
      "hello 'this is' me \n",
      "안녕하세여....\n",
      "만나서\n",
      "매우매우\n",
      "반갑습니당\n",
      " hello! hello! hello!\n",
      " hello!1\n",
      "안녕 \\하쇼\n"
     ]
    }
   ],
   "source": [
    "#문자열\n",
    "\n",
    "print(\"hello 'this is' me \")\n",
    "print('''안녕하세여....\n",
    "만나서\n",
    "매우매우\n",
    "반갑습니당''')\n",
    "\n",
    "hi=\" hello!\"\n",
    "print(hi*3)\n",
    "\n",
    "# 문자는 문자 끼리 숫자는 숫자끼리 붙여서 출력해야한다.\n",
    "print(hi+str(1)) # 문자로 변경한것임\n",
    "\n",
    "print(\"안녕 \\\\하쇼\")"
   ]
  },
  {
   "cell_type": "code",
   "execution_count": 108,
   "metadata": {},
   "outputs": [
    {
     "name": "stdout",
     "output_type": "stream",
     "text": [
      "['에스프레소', ' 커피', ' 라떼']\n",
      "['hi', 'hello', 'nice', 'meet', 'you']\n",
      "에스프레소, 커피, 라떼\n",
      "['hi', 'hello', 'nice', 'meet,you,come,to,me,plz']\n",
      "['hi', 'hello', 'nice', 'meet,you,come,to,me,plz']\n",
      "heallo\n",
      "heallo\n",
      "test\n",
      "hi   \n",
      "    test\n",
      "python is so easy0000\n",
      "0000python is so easy\n",
      "python is so easy\n",
      "samtom\n",
      "['서울시', '강남구', '도곡동']\n",
      "서울시 강남구 도곡동\n",
      "서울시^^강남구^^도곡동\n"
     ]
    }
   ],
   "source": [
    "# 문자열 함수-->변환하면 리스트로 바뀐다.\n",
    "coffee= \"에스프레소, 커피, 라떼\"\n",
    "print(coffee.split(\",\"))\n",
    "print(\"hi,hello,nice,meet,you\".split(\",\"))\n",
    "print(coffee) #불변객체->바꿀라면 따로 할당해야한다.\n",
    "\n",
    "print(\"hi,hello,nice,meet,you,come,to,me,plz\".split(\",\",maxsplit=3))\n",
    "print(\"hi,hello,nice,meet,you,come,to,me,plz\".split(\",\",3))\n",
    "\n",
    "print(\"aaaaaaaaaaaaahealloaaaaa\".strip(\"a\"))\n",
    "print(\"aabaabaaabaabaaabbabahealloaaaaa\".strip(\"ba\"))\n",
    "test=\"!@#$%%$$$## ###***&^#####@ $^test $ $%%%!!! !@&&!@#$%^&*\"\n",
    "print(test.strip(\"!@#$%^&* \"))\n",
    "\n",
    "print(\"   hi   \\n    test\".strip())\n",
    "test=\"0000python is so easy0000\"\n",
    "print(test.lstrip(\"0\"))\n",
    "print(test.rstrip(\"0\"))\n",
    "print(test.strip(\"0\"))\n",
    "\n",
    "name1='sam'\n",
    "name2=\"tom\"\n",
    "\n",
    "print(name1+name2)\n",
    "\n",
    "join_test=[\"서울시\",\"강남구\",\"도곡동\"]\n",
    "print(join_test)\n",
    "a=\" \"\n",
    "b=a.join(join_test)\n",
    "print(b)\n",
    "print(\"^^\".join(join_test))\n"
   ]
  },
  {
   "cell_type": "code",
   "execution_count": 9,
   "metadata": {},
   "outputs": [
    {
     "name": "stdout",
     "output_type": "stream",
     "text": [
      "<class 'list'>\n"
     ]
    }
   ],
   "source": [
    "a,b,*c =1,2,3,4,5,6,7,8\n",
    "print(type(c))"
   ]
  }
 ],
 "metadata": {
  "kernelspec": {
   "display_name": "Python 3",
   "language": "python",
   "name": "python3"
  },
  "language_info": {
   "codemirror_mode": {
    "name": "ipython",
    "version": 3
   },
   "file_extension": ".py",
   "mimetype": "text/x-python",
   "name": "python",
   "nbconvert_exporter": "python",
   "pygments_lexer": "ipython3",
   "version": "3.7.6"
  }
 },
 "nbformat": 4,
 "nbformat_minor": 4
}
