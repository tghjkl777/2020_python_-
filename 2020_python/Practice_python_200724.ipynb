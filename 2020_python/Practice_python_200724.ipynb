{
 "cells": [
  {
   "cell_type": "markdown",
   "metadata": {},
   "source": [
    "## pandas  "
   ]
  },
  {
   "cell_type": "code",
   "execution_count": 10,
   "metadata": {},
   "outputs": [],
   "source": [
    "import pandas as pd \n"
   ]
  },
  {
   "cell_type": "code",
   "execution_count": 13,
   "metadata": {},
   "outputs": [
    {
     "data": {
      "text/html": [
       "<div>\n",
       "<style scoped>\n",
       "    .dataframe tbody tr th:only-of-type {\n",
       "        vertical-align: middle;\n",
       "    }\n",
       "\n",
       "    .dataframe tbody tr th {\n",
       "        vertical-align: top;\n",
       "    }\n",
       "\n",
       "    .dataframe thead th {\n",
       "        text-align: right;\n",
       "    }\n",
       "</style>\n",
       "<table border=\"1\" class=\"dataframe\">\n",
       "  <thead>\n",
       "    <tr style=\"text-align: right;\">\n",
       "      <th></th>\n",
       "      <th>이름</th>\n",
       "      <th>나이</th>\n",
       "      <th>주소</th>\n",
       "    </tr>\n",
       "  </thead>\n",
       "  <tbody>\n",
       "    <tr>\n",
       "      <th>0</th>\n",
       "      <td>강경미</td>\n",
       "      <td>30</td>\n",
       "      <td>경기도 고양시</td>\n",
       "    </tr>\n",
       "    <tr>\n",
       "      <th>1</th>\n",
       "      <td>고길동</td>\n",
       "      <td>20</td>\n",
       "      <td>서울시 노원구</td>\n",
       "    </tr>\n",
       "    <tr>\n",
       "      <th>2</th>\n",
       "      <td>개나리</td>\n",
       "      <td>19</td>\n",
       "      <td>서울시 강남구</td>\n",
       "    </tr>\n",
       "  </tbody>\n",
       "</table>\n",
       "</div>"
      ],
      "text/plain": [
       "    이름  나이        주소\n",
       "0  강경미  30  경기도 고양시 \n",
       "1  고길동  20   서울시 노원구\n",
       "2  개나리  19   서울시 강남구"
      ]
     },
     "execution_count": 13,
     "metadata": {},
     "output_type": "execute_result"
    }
   ],
   "source": [
    "data_frame=pd.read_csv(\"student.csv\")   #나는 csv형식으로 읽을 것이다. (엑셀)\n",
    "data_frame"
   ]
  },
  {
   "cell_type": "code",
   "execution_count": 18,
   "metadata": {},
   "outputs": [
    {
     "data": {
      "text/plain": [
       "pandas.core.series.Series"
      ]
     },
     "execution_count": 18,
     "metadata": {},
     "output_type": "execute_result"
    }
   ],
   "source": [
    "type(data_frame)\n",
    "type(data_frame.이름) #한 열식 읽어준다."
   ]
  },
  {
   "cell_type": "code",
   "execution_count": 33,
   "metadata": {},
   "outputs": [
    {
     "data": {
      "text/plain": [
       "pandas.core.frame.DataFrame"
      ]
     },
     "execution_count": 33,
     "metadata": {},
     "output_type": "execute_result"
    }
   ],
   "source": [
    "type(data_frame)"
   ]
  },
  {
   "cell_type": "code",
   "execution_count": 17,
   "metadata": {},
   "outputs": [
    {
     "data": {
      "text/plain": [
       "0    강경미\n",
       "1    고길동\n",
       "2    개나리\n",
       "Name: 이름, dtype: object"
      ]
     },
     "execution_count": 17,
     "metadata": {},
     "output_type": "execute_result"
    }
   ],
   "source": [
    "data_frame.이름"
   ]
  },
  {
   "cell_type": "code",
   "execution_count": 23,
   "metadata": {},
   "outputs": [
    {
     "data": {
      "text/html": [
       "<div>\n",
       "<style scoped>\n",
       "    .dataframe tbody tr th:only-of-type {\n",
       "        vertical-align: middle;\n",
       "    }\n",
       "\n",
       "    .dataframe tbody tr th {\n",
       "        vertical-align: top;\n",
       "    }\n",
       "\n",
       "    .dataframe thead th {\n",
       "        text-align: right;\n",
       "    }\n",
       "</style>\n",
       "<table border=\"1\" class=\"dataframe\">\n",
       "  <thead>\n",
       "    <tr style=\"text-align: right;\">\n",
       "      <th></th>\n",
       "      <th>이름</th>\n",
       "      <th>나이</th>\n",
       "      <th>주소</th>\n",
       "    </tr>\n",
       "  </thead>\n",
       "  <tbody>\n",
       "    <tr>\n",
       "      <th>0</th>\n",
       "      <td>강경미</td>\n",
       "      <td>30</td>\n",
       "      <td>경기도 고양시</td>\n",
       "    </tr>\n",
       "    <tr>\n",
       "      <th>1</th>\n",
       "      <td>고길동</td>\n",
       "      <td>20</td>\n",
       "      <td>서울시 노원구</td>\n",
       "    </tr>\n",
       "    <tr>\n",
       "      <th>2</th>\n",
       "      <td>개나리</td>\n",
       "      <td>19</td>\n",
       "      <td>서울시 강남구</td>\n",
       "    </tr>\n",
       "  </tbody>\n",
       "</table>\n",
       "</div>"
      ],
      "text/plain": [
       "    이름  나이        주소\n",
       "0  강경미  30  경기도 고양시 \n",
       "1  고길동  20   서울시 노원구\n",
       "2  개나리  19   서울시 강남구"
      ]
     },
     "execution_count": 23,
     "metadata": {},
     "output_type": "execute_result"
    }
   ],
   "source": [
    "data_frame.head()  #기본 5개 : 데이터를 정해진 개수만 보는것 상위 5개 or 꼬리 5개\n",
    "data_frame.tail()\n"
   ]
  },
  {
   "cell_type": "code",
   "execution_count": 25,
   "metadata": {},
   "outputs": [
    {
     "data": {
      "text/html": [
       "<div>\n",
       "<style scoped>\n",
       "    .dataframe tbody tr th:only-of-type {\n",
       "        vertical-align: middle;\n",
       "    }\n",
       "\n",
       "    .dataframe tbody tr th {\n",
       "        vertical-align: top;\n",
       "    }\n",
       "\n",
       "    .dataframe thead th {\n",
       "        text-align: right;\n",
       "    }\n",
       "</style>\n",
       "<table border=\"1\" class=\"dataframe\">\n",
       "  <thead>\n",
       "    <tr style=\"text-align: right;\">\n",
       "      <th></th>\n",
       "      <th>이름</th>\n",
       "      <th>나이</th>\n",
       "      <th>주소</th>\n",
       "    </tr>\n",
       "  </thead>\n",
       "  <tbody>\n",
       "    <tr>\n",
       "      <th>0</th>\n",
       "      <td>강경미</td>\n",
       "      <td>30</td>\n",
       "      <td>경기도 고양시</td>\n",
       "    </tr>\n",
       "  </tbody>\n",
       "</table>\n",
       "</div>"
      ],
      "text/plain": [
       "    이름  나이        주소\n",
       "0  강경미  30  경기도 고양시 "
      ]
     },
     "execution_count": 25,
     "metadata": {},
     "output_type": "execute_result"
    }
   ],
   "source": [
    "data_frame.head(n=2)  #원하는 개수만큼 할수 있다.\n",
    "data_frame.head(1)"
   ]
  },
  {
   "cell_type": "code",
   "execution_count": 26,
   "metadata": {},
   "outputs": [
    {
     "data": {
      "text/html": [
       "<div>\n",
       "<style scoped>\n",
       "    .dataframe tbody tr th:only-of-type {\n",
       "        vertical-align: middle;\n",
       "    }\n",
       "\n",
       "    .dataframe tbody tr th {\n",
       "        vertical-align: top;\n",
       "    }\n",
       "\n",
       "    .dataframe thead th {\n",
       "        text-align: right;\n",
       "    }\n",
       "</style>\n",
       "<table border=\"1\" class=\"dataframe\">\n",
       "  <thead>\n",
       "    <tr style=\"text-align: right;\">\n",
       "      <th></th>\n",
       "      <th>이름\\t나이\\t주소</th>\n",
       "    </tr>\n",
       "  </thead>\n",
       "  <tbody>\n",
       "    <tr>\n",
       "      <th>0</th>\n",
       "      <td>강경미\\t30\\t경기도 고양시</td>\n",
       "    </tr>\n",
       "    <tr>\n",
       "      <th>1</th>\n",
       "      <td>고길동\\t20\\t서울시 노원구</td>\n",
       "    </tr>\n",
       "    <tr>\n",
       "      <th>2</th>\n",
       "      <td>개나리\\t19\\t서울시 강남구</td>\n",
       "    </tr>\n",
       "  </tbody>\n",
       "</table>\n",
       "</div>"
      ],
      "text/plain": [
       "          이름\\t나이\\t주소\n",
       "0  강경미\\t30\\t경기도 고양시 \n",
       "1   고길동\\t20\\t서울시 노원구\n",
       "2   개나리\\t19\\t서울시 강남구"
      ]
     },
     "execution_count": 26,
     "metadata": {},
     "output_type": "execute_result"
    }
   ],
   "source": [
    "df=pd.read_csv(\"student.txt\")\n",
    "df   #tab 으로 구분되어 출력 결과가 이상함."
   ]
  },
  {
   "cell_type": "code",
   "execution_count": 28,
   "metadata": {},
   "outputs": [
    {
     "data": {
      "text/html": [
       "<div>\n",
       "<style scoped>\n",
       "    .dataframe tbody tr th:only-of-type {\n",
       "        vertical-align: middle;\n",
       "    }\n",
       "\n",
       "    .dataframe tbody tr th {\n",
       "        vertical-align: top;\n",
       "    }\n",
       "\n",
       "    .dataframe thead th {\n",
       "        text-align: right;\n",
       "    }\n",
       "</style>\n",
       "<table border=\"1\" class=\"dataframe\">\n",
       "  <thead>\n",
       "    <tr style=\"text-align: right;\">\n",
       "      <th></th>\n",
       "      <th>이름</th>\n",
       "      <th>나이</th>\n",
       "      <th>주소</th>\n",
       "    </tr>\n",
       "  </thead>\n",
       "  <tbody>\n",
       "    <tr>\n",
       "      <th>0</th>\n",
       "      <td>강경미</td>\n",
       "      <td>30</td>\n",
       "      <td>경기도 고양시</td>\n",
       "    </tr>\n",
       "    <tr>\n",
       "      <th>1</th>\n",
       "      <td>고길동</td>\n",
       "      <td>20</td>\n",
       "      <td>서울시 노원구</td>\n",
       "    </tr>\n",
       "    <tr>\n",
       "      <th>2</th>\n",
       "      <td>개나리</td>\n",
       "      <td>19</td>\n",
       "      <td>서울시 강남구</td>\n",
       "    </tr>\n",
       "  </tbody>\n",
       "</table>\n",
       "</div>"
      ],
      "text/plain": [
       "    이름  나이        주소\n",
       "0  강경미  30  경기도 고양시 \n",
       "1  고길동  20   서울시 노원구\n",
       "2  개나리  19   서울시 강남구"
      ]
     },
     "execution_count": 28,
     "metadata": {},
     "output_type": "execute_result"
    }
   ],
   "source": [
    "df=pd.read_csv(\"student.txt\",delimiter='\\t') #구분자를 내가 설정해서 구분할수 있다. 제대로 잘나옴.\n",
    "df"
   ]
  },
  {
   "cell_type": "code",
   "execution_count": 29,
   "metadata": {},
   "outputs": [
    {
     "data": {
      "text/html": [
       "<div>\n",
       "<style scoped>\n",
       "    .dataframe tbody tr th:only-of-type {\n",
       "        vertical-align: middle;\n",
       "    }\n",
       "\n",
       "    .dataframe tbody tr th {\n",
       "        vertical-align: top;\n",
       "    }\n",
       "\n",
       "    .dataframe thead th {\n",
       "        text-align: right;\n",
       "    }\n",
       "</style>\n",
       "<table border=\"1\" class=\"dataframe\">\n",
       "  <thead>\n",
       "    <tr style=\"text-align: right;\">\n",
       "      <th></th>\n",
       "      <th>강경미</th>\n",
       "      <th>30</th>\n",
       "      <th>경기도 고양시</th>\n",
       "    </tr>\n",
       "  </thead>\n",
       "  <tbody>\n",
       "    <tr>\n",
       "      <th>0</th>\n",
       "      <td>고길동</td>\n",
       "      <td>20</td>\n",
       "      <td>서울시 노원구</td>\n",
       "    </tr>\n",
       "    <tr>\n",
       "      <th>1</th>\n",
       "      <td>개나리</td>\n",
       "      <td>19</td>\n",
       "      <td>서울시 강남구</td>\n",
       "    </tr>\n",
       "  </tbody>\n",
       "</table>\n",
       "</div>"
      ],
      "text/plain": [
       "   강경미  30 경기도 고양시 \n",
       "0  고길동  20  서울시 노원구\n",
       "1  개나리  19  서울시 강남구"
      ]
     },
     "execution_count": 29,
     "metadata": {},
     "output_type": "execute_result"
    }
   ],
   "source": [
    "df=pd.read_csv(\"student2.txt\")  #컬럼(헤더)이 없는 데이터 출력하면 이상하게 나온다.\n",
    "df"
   ]
  },
  {
   "cell_type": "code",
   "execution_count": 30,
   "metadata": {},
   "outputs": [
    {
     "data": {
      "text/html": [
       "<div>\n",
       "<style scoped>\n",
       "    .dataframe tbody tr th:only-of-type {\n",
       "        vertical-align: middle;\n",
       "    }\n",
       "\n",
       "    .dataframe tbody tr th {\n",
       "        vertical-align: top;\n",
       "    }\n",
       "\n",
       "    .dataframe thead th {\n",
       "        text-align: right;\n",
       "    }\n",
       "</style>\n",
       "<table border=\"1\" class=\"dataframe\">\n",
       "  <thead>\n",
       "    <tr style=\"text-align: right;\">\n",
       "      <th></th>\n",
       "      <th>0</th>\n",
       "      <th>1</th>\n",
       "      <th>2</th>\n",
       "    </tr>\n",
       "  </thead>\n",
       "  <tbody>\n",
       "    <tr>\n",
       "      <th>0</th>\n",
       "      <td>강경미</td>\n",
       "      <td>30</td>\n",
       "      <td>경기도 고양시</td>\n",
       "    </tr>\n",
       "    <tr>\n",
       "      <th>1</th>\n",
       "      <td>고길동</td>\n",
       "      <td>20</td>\n",
       "      <td>서울시 노원구</td>\n",
       "    </tr>\n",
       "    <tr>\n",
       "      <th>2</th>\n",
       "      <td>개나리</td>\n",
       "      <td>19</td>\n",
       "      <td>서울시 강남구</td>\n",
       "    </tr>\n",
       "  </tbody>\n",
       "</table>\n",
       "</div>"
      ],
      "text/plain": [
       "     0   1         2\n",
       "0  강경미  30  경기도 고양시 \n",
       "1  고길동  20   서울시 노원구\n",
       "2  개나리  19   서울시 강남구"
      ]
     },
     "execution_count": 30,
     "metadata": {},
     "output_type": "execute_result"
    }
   ],
   "source": [
    "df=pd.read_csv(\"student2.txt\",header=None) #헤더가 없다고 지정해서 제대로 잘나오게 하는거임. 컬럼 명이 0,1,2 로 나온다.\n",
    "df"
   ]
  },
  {
   "cell_type": "code",
   "execution_count": 31,
   "metadata": {},
   "outputs": [
    {
     "data": {
      "text/html": [
       "<div>\n",
       "<style scoped>\n",
       "    .dataframe tbody tr th:only-of-type {\n",
       "        vertical-align: middle;\n",
       "    }\n",
       "\n",
       "    .dataframe tbody tr th {\n",
       "        vertical-align: top;\n",
       "    }\n",
       "\n",
       "    .dataframe thead th {\n",
       "        text-align: right;\n",
       "    }\n",
       "</style>\n",
       "<table border=\"1\" class=\"dataframe\">\n",
       "  <thead>\n",
       "    <tr style=\"text-align: right;\">\n",
       "      <th></th>\n",
       "      <th>name</th>\n",
       "      <th>age</th>\n",
       "      <th>addr</th>\n",
       "    </tr>\n",
       "  </thead>\n",
       "  <tbody>\n",
       "    <tr>\n",
       "      <th>0</th>\n",
       "      <td>강경미</td>\n",
       "      <td>30</td>\n",
       "      <td>경기도 고양시</td>\n",
       "    </tr>\n",
       "    <tr>\n",
       "      <th>1</th>\n",
       "      <td>고길동</td>\n",
       "      <td>20</td>\n",
       "      <td>서울시 노원구</td>\n",
       "    </tr>\n",
       "    <tr>\n",
       "      <th>2</th>\n",
       "      <td>개나리</td>\n",
       "      <td>19</td>\n",
       "      <td>서울시 강남구</td>\n",
       "    </tr>\n",
       "  </tbody>\n",
       "</table>\n",
       "</div>"
      ],
      "text/plain": [
       "  name  age      addr\n",
       "0  강경미   30  경기도 고양시 \n",
       "1  고길동   20   서울시 노원구\n",
       "2  개나리   19   서울시 강남구"
      ]
     },
     "execution_count": 31,
     "metadata": {},
     "output_type": "execute_result"
    }
   ],
   "source": [
    "df.columns=['name','age','addr']  #컬럼명을 직접 지정해 줄수 있다. \n",
    "df"
   ]
  },
  {
   "cell_type": "code",
   "execution_count": 32,
   "metadata": {},
   "outputs": [
    {
     "data": {
      "text/html": [
       "<div>\n",
       "<style scoped>\n",
       "    .dataframe tbody tr th:only-of-type {\n",
       "        vertical-align: middle;\n",
       "    }\n",
       "\n",
       "    .dataframe tbody tr th {\n",
       "        vertical-align: top;\n",
       "    }\n",
       "\n",
       "    .dataframe thead th {\n",
       "        text-align: right;\n",
       "    }\n",
       "</style>\n",
       "<table border=\"1\" class=\"dataframe\">\n",
       "  <thead>\n",
       "    <tr style=\"text-align: right;\">\n",
       "      <th></th>\n",
       "      <th>Name</th>\n",
       "      <th>Age</th>\n",
       "      <th>Addr</th>\n",
       "    </tr>\n",
       "  </thead>\n",
       "  <tbody>\n",
       "    <tr>\n",
       "      <th>0</th>\n",
       "      <td>강경미</td>\n",
       "      <td>30</td>\n",
       "      <td>경기도 고양시</td>\n",
       "    </tr>\n",
       "    <tr>\n",
       "      <th>1</th>\n",
       "      <td>고길동</td>\n",
       "      <td>20</td>\n",
       "      <td>서울시 노원구</td>\n",
       "    </tr>\n",
       "    <tr>\n",
       "      <th>2</th>\n",
       "      <td>개나리</td>\n",
       "      <td>19</td>\n",
       "      <td>서울시 강남구</td>\n",
       "    </tr>\n",
       "  </tbody>\n",
       "</table>\n",
       "</div>"
      ],
      "text/plain": [
       "  Name  Age      Addr\n",
       "0  강경미   30  경기도 고양시 \n",
       "1  고길동   20   서울시 노원구\n",
       "2  개나리   19   서울시 강남구"
      ]
     },
     "execution_count": 32,
     "metadata": {},
     "output_type": "execute_result"
    }
   ],
   "source": [
    "df=pd.read_csv(\"student2.txt\",header=None, names=['Name','Age','Addr'])#여기서 바로 한번에 지정해서 출력할수 있다.\n",
    "df"
   ]
  },
  {
   "cell_type": "markdown",
   "metadata": {},
   "source": [
    "### Series : padas가 제공하는 객체\n",
    "- numpy의 ndarray를 기반으로 인덱싱을 추가한 1차원 배열\n",
    "- 인덱스를 지정하지 않으면, 기본적으로 ndarray와 같이 0부터 시작하는 인덱스를 자동으로 생성함. \n",
    "- 지정할경우 명시적으로 지정된 index를 사용한다.\n",
    "- 같은 타입의 0개 이상의 데이터를 가질 수 있다."
   ]
  },
  {
   "cell_type": "code",
   "execution_count": 35,
   "metadata": {},
   "outputs": [
    {
     "data": {
      "text/plain": [
       "0    ㅁ\n",
       "1    ㅠ\n",
       "2    ㅊ\n",
       "dtype: object"
      ]
     },
     "execution_count": 35,
     "metadata": {},
     "output_type": "execute_result"
    }
   ],
   "source": [
    "pd.Series([1,2,3]) #인덱스 지정안해서 0부터 시작한다. \n",
    "pd.Series(['ㅁ','ㅠ','ㅊ']) #문자도 가능하다. "
   ]
  },
  {
   "cell_type": "code",
   "execution_count": 37,
   "metadata": {},
   "outputs": [
    {
     "data": {
      "text/plain": [
       "0    0\n",
       "1    1\n",
       "2    2\n",
       "3    3\n",
       "4    4\n",
       "5    5\n",
       "6    6\n",
       "7    7\n",
       "8    8\n",
       "9    9\n",
       "dtype: int32"
      ]
     },
     "execution_count": 37,
     "metadata": {},
     "output_type": "execute_result"
    }
   ],
   "source": [
    "import numpy as np    #numpy가 제공하는 함수 쓸려고 임포트 함.\n",
    "pd.Series(np.arange(10))"
   ]
  },
  {
   "cell_type": "code",
   "execution_count": 45,
   "metadata": {},
   "outputs": [],
   "source": [
    "s = pd.Series(np.arange(10)).head()"
   ]
  },
  {
   "cell_type": "code",
   "execution_count": 46,
   "metadata": {},
   "outputs": [
    {
     "name": "stdout",
     "output_type": "stream",
     "text": [
      "0    0\n",
      "1    1\n",
      "2    2\n",
      "3    3\n",
      "4    4\n",
      "dtype: int32\n"
     ]
    }
   ],
   "source": [
    "print(s)  # 내가 뽑은 애들만 따로 저장 되었음. "
   ]
  },
  {
   "cell_type": "code",
   "execution_count": 53,
   "metadata": {},
   "outputs": [],
   "source": [
    "pd.Series([1,2,3],[100,200,300]) #인덱스 내가 따로 지정할수 있다. \n",
    "s2= pd.Series([1,2,3],['ㄱ','ㄴ','ㄷ'],dtype=np.int16) #문자 인덱스도 가능"
   ]
  },
  {
   "cell_type": "code",
   "execution_count": 54,
   "metadata": {},
   "outputs": [
    {
     "data": {
      "text/plain": [
       "Index(['ㄱ', 'ㄴ', 'ㄷ'], dtype='object')"
      ]
     },
     "execution_count": 54,
     "metadata": {},
     "output_type": "execute_result"
    }
   ],
   "source": [
    "s2.index #인덱스만 보기 "
   ]
  },
  {
   "cell_type": "code",
   "execution_count": 55,
   "metadata": {},
   "outputs": [
    {
     "data": {
      "text/plain": [
       "array([1, 2, 3], dtype=int16)"
      ]
     },
     "execution_count": 55,
     "metadata": {},
     "output_type": "execute_result"
    }
   ],
   "source": [
    "s2.values #값만 보기"
   ]
  },
  {
   "cell_type": "code",
   "execution_count": 59,
   "metadata": {},
   "outputs": [
    {
     "name": "stdout",
     "output_type": "stream",
     "text": [
      "0     1.0\n",
      "1     2.0\n",
      "2     3.0\n",
      "3     4.0\n",
      "4     5.0\n",
      "5     6.0\n",
      "6     7.0\n",
      "7     8.0\n",
      "8     9.0\n",
      "9     4.0\n",
      "10    3.0\n",
      "11    6.0\n",
      "12    6.0\n",
      "13    3.0\n",
      "14    NaN\n",
      "dtype: float64\n"
     ]
    },
    {
     "data": {
      "text/plain": [
       "15"
      ]
     },
     "execution_count": 59,
     "metadata": {},
     "output_type": "execute_result"
    }
   ],
   "source": [
    "s=pd.Series([1,2,3,4,5,6,7,8,9,4,3,6,6,3,np.NaN])  #값이 없다고 넣어 준다, \n",
    "print(s)\n",
    "len(s)# 길이 알려주기"
   ]
  },
  {
   "cell_type": "code",
   "execution_count": 61,
   "metadata": {},
   "outputs": [
    {
     "data": {
      "text/plain": [
       "15"
      ]
     },
     "execution_count": 61,
     "metadata": {},
     "output_type": "execute_result"
    }
   ],
   "source": [
    "s.size #길이 알려주기"
   ]
  },
  {
   "cell_type": "code",
   "execution_count": 64,
   "metadata": {},
   "outputs": [
    {
     "data": {
      "text/plain": [
       "array([ 1.,  2.,  3.,  4.,  5.,  6.,  7.,  8.,  9., nan])"
      ]
     },
     "execution_count": 64,
     "metadata": {},
     "output_type": "execute_result"
    }
   ],
   "source": [
    "s.unique() #중복되는 값 뺴고 보여준다. \n"
   ]
  },
  {
   "cell_type": "code",
   "execution_count": 65,
   "metadata": {},
   "outputs": [
    {
     "data": {
      "text/plain": [
       "14"
      ]
     },
     "execution_count": 65,
     "metadata": {},
     "output_type": "execute_result"
    }
   ],
   "source": [
    "s.count() #nan값을 빼고 개수를 세준다."
   ]
  },
  {
   "cell_type": "code",
   "execution_count": 68,
   "metadata": {},
   "outputs": [
    {
     "data": {
      "text/plain": [
       "nan"
      ]
     },
     "execution_count": 68,
     "metadata": {},
     "output_type": "execute_result"
    }
   ],
   "source": [
    "arr=np.array([3,3,3,np.NaN])\n",
    "arr.mean()"
   ]
  },
  {
   "cell_type": "code",
   "execution_count": 69,
   "metadata": {},
   "outputs": [
    {
     "data": {
      "text/plain": [
       "0    3.0\n",
       "1    3.0\n",
       "2    3.0\n",
       "3    NaN\n",
       "dtype: float64"
      ]
     },
     "execution_count": 69,
     "metadata": {},
     "output_type": "execute_result"
    }
   ],
   "source": [
    "s2=pd.Series(arr)\n",
    "s2"
   ]
  },
  {
   "cell_type": "code",
   "execution_count": 70,
   "metadata": {},
   "outputs": [
    {
     "data": {
      "text/plain": [
       "3.0"
      ]
     },
     "execution_count": 70,
     "metadata": {},
     "output_type": "execute_result"
    }
   ],
   "source": [
    "s2.mean()  #nan을 세지 않고 평균을 낸다."
   ]
  },
  {
   "cell_type": "code",
   "execution_count": 71,
   "metadata": {},
   "outputs": [
    {
     "data": {
      "text/plain": [
       "6.0    3\n",
       "3.0    3\n",
       "4.0    2\n",
       "9.0    1\n",
       "8.0    1\n",
       "7.0    1\n",
       "5.0    1\n",
       "2.0    1\n",
       "1.0    1\n",
       "dtype: int64"
      ]
     },
     "execution_count": 71,
     "metadata": {},
     "output_type": "execute_result"
    }
   ],
   "source": [
    "s.value_counts() # 각각의 value 값이 몇개 씩 있는지. "
   ]
  },
  {
   "cell_type": "code",
   "execution_count": 74,
   "metadata": {},
   "outputs": [
    {
     "data": {
      "text/plain": [
       "0     1.0\n",
       "1     2.0\n",
       "2     3.0\n",
       "3     4.0\n",
       "4     5.0\n",
       "5     6.0\n",
       "6     7.0\n",
       "7     8.0\n",
       "8     9.0\n",
       "9     4.0\n",
       "10    3.0\n",
       "11    6.0\n",
       "12    6.0\n",
       "13    3.0\n",
       "14    NaN\n",
       "dtype: float64"
      ]
     },
     "execution_count": 74,
     "metadata": {},
     "output_type": "execute_result"
    }
   ],
   "source": [
    "s"
   ]
  },
  {
   "cell_type": "code",
   "execution_count": 75,
   "metadata": {},
   "outputs": [
    {
     "data": {
      "text/plain": [
       "3.0"
      ]
     },
     "execution_count": 75,
     "metadata": {},
     "output_type": "execute_result"
    }
   ],
   "source": [
    "s[2]"
   ]
  },
  {
   "cell_type": "code",
   "execution_count": 78,
   "metadata": {},
   "outputs": [
    {
     "data": {
      "text/plain": [
       "2    3.0\n",
       "1    2.0\n",
       "dtype: float64"
      ]
     },
     "execution_count": 78,
     "metadata": {},
     "output_type": "execute_result"
    }
   ],
   "source": [
    "s[[2,1]] #인덱스 원하는거 각각 선택해서 출력하기 "
   ]
  },
  {
   "cell_type": "code",
   "execution_count": 80,
   "metadata": {},
   "outputs": [
    {
     "data": {
      "text/plain": [
       "6.0    1\n",
       "3.0    1\n",
       "dtype: int64"
      ]
     },
     "execution_count": 80,
     "metadata": {},
     "output_type": "execute_result"
    }
   ],
   "source": [
    "s[[2,5]].value_counts()"
   ]
  },
  {
   "cell_type": "code",
   "execution_count": 82,
   "metadata": {},
   "outputs": [
    {
     "data": {
      "text/plain": [
       "0     2\n",
       "1     4\n",
       "2     6\n",
       "3     8\n",
       "4    10\n",
       "dtype: int64"
      ]
     },
     "execution_count": 82,
     "metadata": {},
     "output_type": "execute_result"
    }
   ],
   "source": [
    "#연산\n",
    "\n",
    "s1=pd.Series([1,2,3,4,5])\n",
    "s2=pd.Series([1,2,3,4,5])\n",
    "\n",
    "#인덱스 기준 연산\n",
    "s1+s2"
   ]
  },
  {
   "cell_type": "code",
   "execution_count": 85,
   "metadata": {},
   "outputs": [
    {
     "data": {
      "text/plain": [
       "0     1\n",
       "1     4\n",
       "2     9\n",
       "3    16\n",
       "4    25\n",
       "dtype: int64"
      ]
     },
     "execution_count": 85,
     "metadata": {},
     "output_type": "execute_result"
    }
   ],
   "source": [
    "#산술 연산\n",
    "s1 **3\n",
    "\n",
    "s1*s2"
   ]
  },
  {
   "cell_type": "code",
   "execution_count": 86,
   "metadata": {},
   "outputs": [
    {
     "data": {
      "text/plain": [
       "0     2.0\n",
       "1     4.0\n",
       "2     6.0\n",
       "3     8.0\n",
       "4    10.0\n",
       "5     NaN\n",
       "7     NaN\n",
       "dtype: float64"
      ]
     },
     "execution_count": 86,
     "metadata": {},
     "output_type": "execute_result"
    }
   ],
   "source": [
    "# index 짝이 안맞으면....??\n",
    "s1[5]=45\n",
    "s2[7]=10\n",
    " \n",
    "s1+s2   # 짝이 안 맞으면 결과는 NaN으로 주어진다. "
   ]
  },
  {
   "cell_type": "code",
   "execution_count": 11,
   "metadata": {},
   "outputs": [
    {
     "ename": "NameError",
     "evalue": "name 'pd' is not defined",
     "output_type": "error",
     "traceback": [
      "\u001b[1;31m---------------------------------------------------------------------------\u001b[0m",
      "\u001b[1;31mNameError\u001b[0m                                 Traceback (most recent call last)",
      "\u001b[1;32m<ipython-input-11-a0208085f0cc>\u001b[0m in \u001b[0;36m<module>\u001b[1;34m\u001b[0m\n\u001b[1;32m----> 1\u001b[1;33m \u001b[0ms3\u001b[0m\u001b[1;33m=\u001b[0m \u001b[0mpd\u001b[0m\u001b[1;33m.\u001b[0m\u001b[0mSeries\u001b[0m\u001b[1;33m(\u001b[0m\u001b[0mnp\u001b[0m\u001b[1;33m.\u001b[0m\u001b[0marange\u001b[0m\u001b[1;33m(\u001b[0m\u001b[1;36m10\u001b[0m\u001b[1;33m)\u001b[0m\u001b[1;33m,\u001b[0m\u001b[0mnp\u001b[0m\u001b[1;33m.\u001b[0m\u001b[0marange\u001b[0m\u001b[1;33m(\u001b[0m\u001b[1;36m10\u001b[0m\u001b[1;33m)\u001b[0m\u001b[1;33m+\u001b[0m\u001b[1;36m1\u001b[0m\u001b[1;33m)\u001b[0m\u001b[1;33m\u001b[0m\u001b[1;33m\u001b[0m\u001b[0m\n\u001b[0m\u001b[0;32m      2\u001b[0m \u001b[0ms3\u001b[0m\u001b[1;33m\u001b[0m\u001b[1;33m\u001b[0m\u001b[0m\n",
      "\u001b[1;31mNameError\u001b[0m: name 'pd' is not defined"
     ]
    }
   ],
   "source": [
    "s3= pd.Series(np.arange(10),np.arange(10)+1)"
   ]
  },
  {
   "cell_type": "code",
   "execution_count": 92,
   "metadata": {},
   "outputs": [
    {
     "data": {
      "text/plain": [
       "1    0\n",
       "3    2\n",
       "5    4\n",
       "7    6\n",
       "9    8\n",
       "dtype: int32"
      ]
     },
     "execution_count": 92,
     "metadata": {},
     "output_type": "execute_result"
    }
   ],
   "source": [
    "#boolean 연산\n",
    "s3>5\n",
    "\n",
    "s5=s3[s3%2==0]  #짝수만 넣겠다. \n",
    "s5"
   ]
  },
  {
   "cell_type": "code",
   "execution_count": 95,
   "metadata": {},
   "outputs": [
    {
     "data": {
      "text/plain": [
       "6     5\n",
       "7     6\n",
       "8     7\n",
       "9     8\n",
       "10    9\n",
       "dtype: int32"
      ]
     },
     "execution_count": 95,
     "metadata": {},
     "output_type": "execute_result"
    }
   ],
   "source": [
    "s6=s3[s3.index>5] #인덱스가 5번 보다 큰거로만 생성한다. \n",
    "\n",
    "s6"
   ]
  },
  {
   "cell_type": "code",
   "execution_count": 10,
   "metadata": {},
   "outputs": [
    {
     "ename": "NameError",
     "evalue": "name 's3' is not defined",
     "output_type": "error",
     "traceback": [
      "\u001b[1;31m---------------------------------------------------------------------------\u001b[0m",
      "\u001b[1;31mNameError\u001b[0m                                 Traceback (most recent call last)",
      "\u001b[1;32m<ipython-input-10-41e264c5a4ba>\u001b[0m in \u001b[0;36m<module>\u001b[1;34m\u001b[0m\n\u001b[1;32m----> 1\u001b[1;33m \u001b[0ms6\u001b[0m\u001b[1;33m=\u001b[0m\u001b[0ms3\u001b[0m\u001b[1;33m[\u001b[0m\u001b[1;36m3\u001b[0m\u001b[1;33m<\u001b[0m\u001b[0ms3\u001b[0m\u001b[1;33m.\u001b[0m\u001b[0mindex\u001b[0m\u001b[1;33m<\u001b[0m\u001b[1;36m5\u001b[0m\u001b[1;33m]\u001b[0m\u001b[1;33m\u001b[0m\u001b[1;33m\u001b[0m\u001b[0m\n\u001b[0m",
      "\u001b[1;31mNameError\u001b[0m: name 's3' is not defined"
     ]
    }
   ],
   "source": [
    "s6=s3[3<s3.index<5]"
   ]
  },
  {
   "cell_type": "code",
   "execution_count": 96,
   "metadata": {},
   "outputs": [
    {
     "data": {
      "text/plain": [
       "5    4\n",
       "6    5\n",
       "7    6\n",
       "8    7\n",
       "dtype: int32"
      ]
     },
     "execution_count": 96,
     "metadata": {},
     "output_type": "execute_result"
    }
   ],
   "source": [
    "s7=s3[(s3>3)& (s3<8)]\n",
    "s7"
   ]
  },
  {
   "cell_type": "code",
   "execution_count": 99,
   "metadata": {},
   "outputs": [
    {
     "data": {
      "text/plain": [
       "17"
      ]
     },
     "execution_count": 99,
     "metadata": {},
     "output_type": "execute_result"
    }
   ],
   "source": [
    "s3[s3>7].sum() #값이 7보다 큰것들의 합을 구하고 싶을떄 "
   ]
  },
  {
   "cell_type": "code",
   "execution_count": 100,
   "metadata": {},
   "outputs": [
    {
     "data": {
      "text/plain": [
       "2"
      ]
     },
     "execution_count": 100,
     "metadata": {},
     "output_type": "execute_result"
    }
   ],
   "source": [
    "(s3>7).sum() # 값이 7보다 큰것들의 개수를 구함. 결과 값이 ture,false, true, true,.....이런식으로나오니 여기서 true만 센다."
   ]
  },
  {
   "cell_type": "code",
   "execution_count": 106,
   "metadata": {},
   "outputs": [
    {
     "name": "stdout",
     "output_type": "stream",
     "text": [
      "a    100\n",
      "b    101\n",
      "c    102\n",
      "d    103\n",
      "e    104\n",
      "dtype: int32\n"
     ]
    },
    {
     "data": {
      "text/plain": [
       "a    100\n",
       "b    101\n",
       "c    102\n",
       "d    103\n",
       "dtype: int32"
      ]
     },
     "execution_count": 106,
     "metadata": {},
     "output_type": "execute_result"
    }
   ],
   "source": [
    "s=pd.Series(np.arange(100,105),['a','b','c','d','e'])\n",
    "print(s)\n",
    "d=s.drop('e')  #r값지웠는데 밑에 s출력하면 안지워져 있음 . 값자체를 바꾸지는 않고 있음.\n",
    "s\n",
    "d #값을 새로 받으면 여기에는 반영된다."
   ]
  },
  {
   "cell_type": "code",
   "execution_count": 105,
   "metadata": {},
   "outputs": [
    {
     "name": "stdout",
     "output_type": "stream",
     "text": [
      "a    100\n",
      "b    101\n",
      "c    102\n",
      "d    103\n",
      "dtype: int32\n"
     ]
    }
   ],
   "source": [
    "s.drop('e',inplace=True)  #inplace 주어서 반영 될수 있도록 한다. \n",
    "print(s)"
   ]
  },
  {
   "cell_type": "code",
   "execution_count": 110,
   "metadata": {},
   "outputs": [
    {
     "data": {
      "text/plain": [
       "a      1\n",
       "b      2\n",
       "c    102\n",
       "d    103\n",
       "e    104\n",
       "dtype: int32"
      ]
     },
     "execution_count": 110,
     "metadata": {},
     "output_type": "execute_result"
    }
   ],
   "source": [
    "s[['a','b']] #인덱스 여러개에 접근\n",
    "s[['a','b']]=[1,2]  # 값 변경\n",
    "s"
   ]
  },
  {
   "cell_type": "code",
   "execution_count": 112,
   "metadata": {},
   "outputs": [
    {
     "data": {
      "text/plain": [
       "b      2\n",
       "c    102\n",
       "dtype: int32"
      ]
     },
     "execution_count": 112,
     "metadata": {},
     "output_type": "execute_result"
    }
   ],
   "source": [
    "s[1:3] #슬라이싱도 가능하다. 인덱스 이름으로 접근 안해도 된다. 숫자로도 접근 가능."
   ]
  },
  {
   "cell_type": "code",
   "execution_count": 114,
   "metadata": {},
   "outputs": [
    {
     "data": {
      "text/plain": [
       "a      1\n",
       "b      2\n",
       "c    102\n",
       "dtype: int32"
      ]
     },
     "execution_count": 114,
     "metadata": {},
     "output_type": "execute_result"
    }
   ],
   "source": [
    "s['a':'c'] #문자값으로 슬라이싱 하면 마지막 인덱스가 포함된다."
   ]
  },
  {
   "cell_type": "markdown",
   "metadata": {},
   "source": [
    "### data_frame 사용하기\n"
   ]
  },
  {
   "cell_type": "code",
   "execution_count": 118,
   "metadata": {},
   "outputs": [
    {
     "data": {
      "text/html": [
       "<div>\n",
       "<style scoped>\n",
       "    .dataframe tbody tr th:only-of-type {\n",
       "        vertical-align: middle;\n",
       "    }\n",
       "\n",
       "    .dataframe tbody tr th {\n",
       "        vertical-align: top;\n",
       "    }\n",
       "\n",
       "    .dataframe thead th {\n",
       "        text-align: right;\n",
       "    }\n",
       "</style>\n",
       "<table border=\"1\" class=\"dataframe\">\n",
       "  <thead>\n",
       "    <tr style=\"text-align: right;\">\n",
       "      <th></th>\n",
       "      <th>name</th>\n",
       "      <th>age</th>\n",
       "      <th>arr</th>\n",
       "    </tr>\n",
       "  </thead>\n",
       "  <tbody>\n",
       "    <tr>\n",
       "      <th>0</th>\n",
       "      <td>kang</td>\n",
       "      <td>30</td>\n",
       "      <td>seoul</td>\n",
       "    </tr>\n",
       "    <tr>\n",
       "      <th>1</th>\n",
       "      <td>kim</td>\n",
       "      <td>23</td>\n",
       "      <td>busan</td>\n",
       "    </tr>\n",
       "    <tr>\n",
       "      <th>2</th>\n",
       "      <td>kong</td>\n",
       "      <td>28</td>\n",
       "      <td>lee</td>\n",
       "    </tr>\n",
       "    <tr>\n",
       "      <th>3</th>\n",
       "      <td>park</td>\n",
       "      <td>29</td>\n",
       "      <td>gwangju</td>\n",
       "    </tr>\n",
       "  </tbody>\n",
       "</table>\n",
       "</div>"
      ],
      "text/plain": [
       "   name  age      arr\n",
       "0  kang   30    seoul\n",
       "1   kim   23    busan\n",
       "2  kong   28      lee\n",
       "3  park   29  gwangju"
      ]
     },
     "execution_count": 118,
     "metadata": {},
     "output_type": "execute_result"
    }
   ],
   "source": [
    "student_dict_list =[{'name':'kang',\n",
    "                    'age':30,\n",
    "                    'arr': 'seoul'},\n",
    "                    {'name':'kim',\n",
    "                    'age':23,\n",
    "                    'arr': 'busan'},\n",
    "                    {'name':'kong',\n",
    "                    'age':28,\n",
    "                    'arr': 'lee'},\n",
    "                    {'name':'park',\n",
    "                    'age':29,\n",
    "                    'arr': 'gwangju'}\n",
    "]\n",
    "df=pd.DataFrame(student_dict_list)\n",
    "df"
   ]
  },
  {
   "cell_type": "code",
   "execution_count": 119,
   "metadata": {},
   "outputs": [
    {
     "data": {
      "text/html": [
       "<div>\n",
       "<style scoped>\n",
       "    .dataframe tbody tr th:only-of-type {\n",
       "        vertical-align: middle;\n",
       "    }\n",
       "\n",
       "    .dataframe tbody tr th {\n",
       "        vertical-align: top;\n",
       "    }\n",
       "\n",
       "    .dataframe thead th {\n",
       "        text-align: right;\n",
       "    }\n",
       "</style>\n",
       "<table border=\"1\" class=\"dataframe\">\n",
       "  <thead>\n",
       "    <tr style=\"text-align: right;\">\n",
       "      <th></th>\n",
       "      <th>name</th>\n",
       "      <th>age</th>\n",
       "      <th>arr</th>\n",
       "    </tr>\n",
       "  </thead>\n",
       "  <tbody>\n",
       "    <tr>\n",
       "      <th>0</th>\n",
       "      <td>kang</td>\n",
       "      <td>30</td>\n",
       "      <td>seoul</td>\n",
       "    </tr>\n",
       "    <tr>\n",
       "      <th>1</th>\n",
       "      <td>kim</td>\n",
       "      <td>23</td>\n",
       "      <td>busan</td>\n",
       "    </tr>\n",
       "    <tr>\n",
       "      <th>2</th>\n",
       "      <td>kong</td>\n",
       "      <td>28</td>\n",
       "      <td>lee</td>\n",
       "    </tr>\n",
       "  </tbody>\n",
       "</table>\n",
       "</div>"
      ],
      "text/plain": [
       "   name  age    arr\n",
       "0  kang   30  seoul\n",
       "1   kim   23  busan\n",
       "2  kong   28    lee"
      ]
     },
     "execution_count": 119,
     "metadata": {},
     "output_type": "execute_result"
    }
   ],
   "source": [
    "df.head(3)"
   ]
  },
  {
   "cell_type": "code",
   "execution_count": 120,
   "metadata": {},
   "outputs": [
    {
     "data": {
      "text/html": [
       "<div>\n",
       "<style scoped>\n",
       "    .dataframe tbody tr th:only-of-type {\n",
       "        vertical-align: middle;\n",
       "    }\n",
       "\n",
       "    .dataframe tbody tr th {\n",
       "        vertical-align: top;\n",
       "    }\n",
       "\n",
       "    .dataframe thead th {\n",
       "        text-align: right;\n",
       "    }\n",
       "</style>\n",
       "<table border=\"1\" class=\"dataframe\">\n",
       "  <thead>\n",
       "    <tr style=\"text-align: right;\">\n",
       "      <th></th>\n",
       "      <th>name</th>\n",
       "      <th>age</th>\n",
       "      <th>arr</th>\n",
       "    </tr>\n",
       "  </thead>\n",
       "  <tbody>\n",
       "    <tr>\n",
       "      <th>1</th>\n",
       "      <td>kim</td>\n",
       "      <td>23</td>\n",
       "      <td>busan</td>\n",
       "    </tr>\n",
       "    <tr>\n",
       "      <th>2</th>\n",
       "      <td>kong</td>\n",
       "      <td>28</td>\n",
       "      <td>lee</td>\n",
       "    </tr>\n",
       "    <tr>\n",
       "      <th>3</th>\n",
       "      <td>park</td>\n",
       "      <td>29</td>\n",
       "      <td>gwangju</td>\n",
       "    </tr>\n",
       "  </tbody>\n",
       "</table>\n",
       "</div>"
      ],
      "text/plain": [
       "   name  age      arr\n",
       "1   kim   23    busan\n",
       "2  kong   28      lee\n",
       "3  park   29  gwangju"
      ]
     },
     "execution_count": 120,
     "metadata": {},
     "output_type": "execute_result"
    }
   ],
   "source": [
    "df.tail(3)"
   ]
  },
  {
   "cell_type": "code",
   "execution_count": 121,
   "metadata": {},
   "outputs": [
    {
     "data": {
      "text/html": [
       "<div>\n",
       "<style scoped>\n",
       "    .dataframe tbody tr th:only-of-type {\n",
       "        vertical-align: middle;\n",
       "    }\n",
       "\n",
       "    .dataframe tbody tr th {\n",
       "        vertical-align: top;\n",
       "    }\n",
       "\n",
       "    .dataframe thead th {\n",
       "        text-align: right;\n",
       "    }\n",
       "</style>\n",
       "<table border=\"1\" class=\"dataframe\">\n",
       "  <thead>\n",
       "    <tr style=\"text-align: right;\">\n",
       "      <th></th>\n",
       "      <th>age</th>\n",
       "      <th>arr</th>\n",
       "      <th>name</th>\n",
       "    </tr>\n",
       "  </thead>\n",
       "  <tbody>\n",
       "    <tr>\n",
       "      <th>0</th>\n",
       "      <td>30</td>\n",
       "      <td>seoul</td>\n",
       "      <td>kang</td>\n",
       "    </tr>\n",
       "    <tr>\n",
       "      <th>1</th>\n",
       "      <td>23</td>\n",
       "      <td>busan</td>\n",
       "      <td>kim</td>\n",
       "    </tr>\n",
       "    <tr>\n",
       "      <th>2</th>\n",
       "      <td>28</td>\n",
       "      <td>lee</td>\n",
       "      <td>kong</td>\n",
       "    </tr>\n",
       "    <tr>\n",
       "      <th>3</th>\n",
       "      <td>29</td>\n",
       "      <td>gwangju</td>\n",
       "      <td>park</td>\n",
       "    </tr>\n",
       "  </tbody>\n",
       "</table>\n",
       "</div>"
      ],
      "text/plain": [
       "   age      arr  name\n",
       "0   30    seoul  kang\n",
       "1   23    busan   kim\n",
       "2   28      lee  kong\n",
       "3   29  gwangju  park"
      ]
     },
     "execution_count": 121,
     "metadata": {},
     "output_type": "execute_result"
    }
   ],
   "source": [
    "df[['age','arr','name']]  #순서 지정할수 있다. "
   ]
  },
  {
   "cell_type": "code",
   "execution_count": 122,
   "metadata": {},
   "outputs": [],
   "source": [
    "#파일로 저장하기\n",
    "df.to_csv(\"student_data.csv\")"
   ]
  },
  {
   "cell_type": "code",
   "execution_count": 124,
   "metadata": {},
   "outputs": [],
   "source": [
    "df.to_csv(\"student_data.csv\", index=True,header=True) #기본 값으로 트루를 가진다."
   ]
  },
  {
   "cell_type": "code",
   "execution_count": 125,
   "metadata": {},
   "outputs": [],
   "source": [
    "df.to_csv(\"student_data.csv\", index=False,header=False) # 인덱스랑 헤더가 저장이 안된다. "
   ]
  },
  {
   "cell_type": "code",
   "execution_count": 129,
   "metadata": {},
   "outputs": [
    {
     "data": {
      "text/html": [
       "<div>\n",
       "<style scoped>\n",
       "    .dataframe tbody tr th:only-of-type {\n",
       "        vertical-align: middle;\n",
       "    }\n",
       "\n",
       "    .dataframe tbody tr th {\n",
       "        vertical-align: top;\n",
       "    }\n",
       "\n",
       "    .dataframe thead th {\n",
       "        text-align: right;\n",
       "    }\n",
       "</style>\n",
       "<table border=\"1\" class=\"dataframe\">\n",
       "  <thead>\n",
       "    <tr style=\"text-align: right;\">\n",
       "      <th></th>\n",
       "      <th>0</th>\n",
       "      <th>1</th>\n",
       "      <th>2</th>\n",
       "    </tr>\n",
       "  </thead>\n",
       "  <tbody>\n",
       "    <tr>\n",
       "      <th>0</th>\n",
       "      <td>carami</td>\n",
       "      <td>30</td>\n",
       "      <td>seoul</td>\n",
       "    </tr>\n",
       "    <tr>\n",
       "      <th>1</th>\n",
       "      <td>park</td>\n",
       "      <td>38</td>\n",
       "      <td>seoul</td>\n",
       "    </tr>\n",
       "    <tr>\n",
       "      <th>2</th>\n",
       "      <td>ji</td>\n",
       "      <td>45</td>\n",
       "      <td>jeju</td>\n",
       "    </tr>\n",
       "    <tr>\n",
       "      <th>3</th>\n",
       "      <td>lee</td>\n",
       "      <td>12</td>\n",
       "      <td>busan</td>\n",
       "    </tr>\n",
       "    <tr>\n",
       "      <th>4</th>\n",
       "      <td>jang</td>\n",
       "      <td>25</td>\n",
       "      <td>incheon</td>\n",
       "    </tr>\n",
       "    <tr>\n",
       "      <th>5</th>\n",
       "      <td>kim</td>\n",
       "      <td>98</td>\n",
       "      <td>junju</td>\n",
       "    </tr>\n",
       "  </tbody>\n",
       "</table>\n",
       "</div>"
      ],
      "text/plain": [
       "        0   1        2\n",
       "0  carami  30    seoul\n",
       "1    park  38    seoul\n",
       "2      ji  45     jeju\n",
       "3     lee  12    busan\n",
       "4    jang  25  incheon\n",
       "5     kim  98    junju"
      ]
     },
     "execution_count": 129,
     "metadata": {},
     "output_type": "execute_result"
    }
   ],
   "source": [
    "student_list=[['carami',30,'seoul'],['park',38,'seoul'],['ji',45,'jeju'],\n",
    "              ['lee',12,'busan'],['jang',25,'incheon'],['kim',98,'junju']\n",
    "             ]\n",
    "\n",
    "colum_list=['name','age','addr']\n",
    "df=pd.DataFrame.from_records(student_list) #컬럼 이름이 없이 만들어 짐. \n",
    "df"
   ]
  },
  {
   "cell_type": "code",
   "execution_count": 130,
   "metadata": {
    "scrolled": true
   },
   "outputs": [
    {
     "data": {
      "text/html": [
       "<div>\n",
       "<style scoped>\n",
       "    .dataframe tbody tr th:only-of-type {\n",
       "        vertical-align: middle;\n",
       "    }\n",
       "\n",
       "    .dataframe tbody tr th {\n",
       "        vertical-align: top;\n",
       "    }\n",
       "\n",
       "    .dataframe thead th {\n",
       "        text-align: right;\n",
       "    }\n",
       "</style>\n",
       "<table border=\"1\" class=\"dataframe\">\n",
       "  <thead>\n",
       "    <tr style=\"text-align: right;\">\n",
       "      <th></th>\n",
       "      <th>name</th>\n",
       "      <th>age</th>\n",
       "      <th>addr</th>\n",
       "    </tr>\n",
       "  </thead>\n",
       "  <tbody>\n",
       "    <tr>\n",
       "      <th>0</th>\n",
       "      <td>carami</td>\n",
       "      <td>30</td>\n",
       "      <td>seoul</td>\n",
       "    </tr>\n",
       "    <tr>\n",
       "      <th>1</th>\n",
       "      <td>park</td>\n",
       "      <td>38</td>\n",
       "      <td>seoul</td>\n",
       "    </tr>\n",
       "    <tr>\n",
       "      <th>2</th>\n",
       "      <td>ji</td>\n",
       "      <td>45</td>\n",
       "      <td>jeju</td>\n",
       "    </tr>\n",
       "    <tr>\n",
       "      <th>3</th>\n",
       "      <td>lee</td>\n",
       "      <td>12</td>\n",
       "      <td>busan</td>\n",
       "    </tr>\n",
       "    <tr>\n",
       "      <th>4</th>\n",
       "      <td>jang</td>\n",
       "      <td>25</td>\n",
       "      <td>incheon</td>\n",
       "    </tr>\n",
       "    <tr>\n",
       "      <th>5</th>\n",
       "      <td>kim</td>\n",
       "      <td>98</td>\n",
       "      <td>junju</td>\n",
       "    </tr>\n",
       "  </tbody>\n",
       "</table>\n",
       "</div>"
      ],
      "text/plain": [
       "     name  age     addr\n",
       "0  carami   30    seoul\n",
       "1    park   38    seoul\n",
       "2      ji   45     jeju\n",
       "3     lee   12    busan\n",
       "4    jang   25  incheon\n",
       "5     kim   98    junju"
      ]
     },
     "execution_count": 130,
     "metadata": {},
     "output_type": "execute_result"
    }
   ],
   "source": [
    "df=pd.DataFrame.from_records(student_list,columns=colum_list) ## 컬럼이름 지정함. \n",
    "df"
   ]
  },
  {
   "cell_type": "code",
   "execution_count": 131,
   "metadata": {},
   "outputs": [
    {
     "data": {
      "text/html": [
       "<div>\n",
       "<style scoped>\n",
       "    .dataframe tbody tr th:only-of-type {\n",
       "        vertical-align: middle;\n",
       "    }\n",
       "\n",
       "    .dataframe tbody tr th {\n",
       "        vertical-align: top;\n",
       "    }\n",
       "\n",
       "    .dataframe thead th {\n",
       "        text-align: right;\n",
       "    }\n",
       "</style>\n",
       "<table border=\"1\" class=\"dataframe\">\n",
       "  <thead>\n",
       "    <tr style=\"text-align: right;\">\n",
       "      <th></th>\n",
       "      <th>0</th>\n",
       "      <th>1</th>\n",
       "      <th>2</th>\n",
       "    </tr>\n",
       "  </thead>\n",
       "  <tbody>\n",
       "    <tr>\n",
       "      <th>0</th>\n",
       "      <td>carami</td>\n",
       "      <td>30</td>\n",
       "      <td>None</td>\n",
       "    </tr>\n",
       "    <tr>\n",
       "      <th>1</th>\n",
       "      <td>park</td>\n",
       "      <td>38</td>\n",
       "      <td>seoul</td>\n",
       "    </tr>\n",
       "    <tr>\n",
       "      <th>2</th>\n",
       "      <td>ji</td>\n",
       "      <td>45</td>\n",
       "      <td>jeju</td>\n",
       "    </tr>\n",
       "    <tr>\n",
       "      <th>3</th>\n",
       "      <td>lee</td>\n",
       "      <td>12</td>\n",
       "      <td>busan</td>\n",
       "    </tr>\n",
       "    <tr>\n",
       "      <th>4</th>\n",
       "      <td>jang</td>\n",
       "      <td>25</td>\n",
       "      <td>incheon</td>\n",
       "    </tr>\n",
       "    <tr>\n",
       "      <th>5</th>\n",
       "      <td>kim</td>\n",
       "      <td>98</td>\n",
       "      <td>junju</td>\n",
       "    </tr>\n",
       "  </tbody>\n",
       "</table>\n",
       "</div>"
      ],
      "text/plain": [
       "        0   1        2\n",
       "0  carami  30     None\n",
       "1    park  38    seoul\n",
       "2      ji  45     jeju\n",
       "3     lee  12    busan\n",
       "4    jang  25  incheon\n",
       "5     kim  98    junju"
      ]
     },
     "execution_count": 131,
     "metadata": {},
     "output_type": "execute_result"
    }
   ],
   "source": [
    "student_list2=[['carami',30],['park',38,'seoul'],['ji',45,'jeju'],\n",
    "              ['lee',12,'busan'],['jang',25,'incheon'],['kim',98,'junju']\n",
    "             ]\n",
    "\n",
    "df=pd.DataFrame.from_records(student_list2) #컬럼 이름이 없이 만들어 짐. \n",
    "df"
   ]
  },
  {
   "cell_type": "markdown",
   "metadata": {},
   "source": [
    "## DB에서 data 꺼내오기\n",
    "\n",
    "1. db와 열결해주는 모듈이 있는데.. 이것을  import\n",
    "2. db에 접속\n",
    "3. 쿼리 작성\n",
    "4. 쿼리 실행\n",
    "5. 원하는 방법으로 결과값 얻기 \n",
    "6. 접속 종료 (why? 접속가능 할수 있는 애들 숫자가 정해져있기 때문에) \n"
   ]
  },
  {
   "cell_type": "code",
   "execution_count": 134,
   "metadata": {},
   "outputs": [
    {
     "name": "stdout",
     "output_type": "stream",
     "text": [
      "Requirement already satisfied: cx_Oracle in c:\\programdata\\anaconda3\\lib\\site-packages (8.0.0)\n",
      "Note: you may need to restart the kernel to use updated packages.\n"
     ]
    }
   ],
   "source": [
    "pip install cx_Oracle"
   ]
  },
  {
   "cell_type": "code",
   "execution_count": 1,
   "metadata": {},
   "outputs": [],
   "source": [
    "import cx_Oracle"
   ]
  },
  {
   "cell_type": "code",
   "execution_count": 3,
   "metadata": {},
   "outputs": [],
   "source": [
    "conn=cx_Oracle.connect('hr/hr@70.12.116.70:1521/xe') # "
   ]
  },
  {
   "cell_type": "code",
   "execution_count": 4,
   "metadata": {},
   "outputs": [
    {
     "data": {
      "text/plain": [
       "<cx_Oracle.Connection to hr@70.12.116.70:1521/xe>"
      ]
     },
     "execution_count": 4,
     "metadata": {},
     "output_type": "execute_result"
    }
   ],
   "source": [
    "conn #접속 확인"
   ]
  },
  {
   "cell_type": "code",
   "execution_count": 7,
   "metadata": {},
   "outputs": [
    {
     "data": {
      "text/plain": [
       "<cx_Oracle.Cursor on <cx_Oracle.Connection to hr@70.12.116.70:1521/xe>>"
      ]
     },
     "execution_count": 7,
     "metadata": {},
     "output_type": "execute_result"
    }
   ],
   "source": [
    "query ='select * from employees'\n",
    "cursor= conn.cursor()\n",
    "cursor.execute(query)\n",
    "cursor"
   ]
  },
  {
   "cell_type": "code",
   "execution_count": 8,
   "metadata": {},
   "outputs": [
    {
     "name": "stdout",
     "output_type": "stream",
     "text": [
      "(100, 'Steven', 'King', 'SKING', '515.123.4567', datetime.datetime(2003, 6, 17, 0, 0), 'AD_PRES', 24000.0, None, None, 90)\n",
      "(101, 'Neena', 'Kochhar', 'NKOCHHAR', '515.123.4568', datetime.datetime(2005, 9, 21, 0, 0), 'AD_VP', 17000.0, None, 100, 90)\n",
      "(102, 'Lex', 'De Haan', 'LDEHAAN', '515.123.4569', datetime.datetime(2001, 1, 13, 0, 0), 'AD_VP', 17000.0, None, 100, 90)\n",
      "(103, 'Alexander', 'Hunold', 'AHUNOLD', '590.423.4567', datetime.datetime(2006, 1, 3, 0, 0), 'IT_PROG', 9000.0, None, 102, 60)\n",
      "(104, 'Bruce', 'Ernst', 'BERNST', '590.423.4568', datetime.datetime(2007, 5, 21, 0, 0), 'IT_PROG', 6000.0, None, 103, 60)\n",
      "(105, 'David', 'Austin', 'DAUSTIN', '590.423.4569', datetime.datetime(2005, 6, 25, 0, 0), 'IT_PROG', 4800.0, None, 103, 60)\n",
      "(106, 'Valli', 'Pataballa', 'VPATABAL', '590.423.4560', datetime.datetime(2006, 2, 5, 0, 0), 'IT_PROG', 4800.0, None, 103, 60)\n",
      "(107, 'Diana', 'Lorentz', 'DLORENTZ', '590.423.5567', datetime.datetime(2007, 2, 7, 0, 0), 'IT_PROG', 4200.0, None, 103, 60)\n",
      "(108, 'Nancy', 'Greenberg', 'NGREENBE', '515.124.4569', datetime.datetime(2002, 8, 17, 0, 0), 'FI_MGR', 12008.0, None, 101, 100)\n",
      "(109, 'Daniel', 'Faviet', 'DFAVIET', '515.124.4169', datetime.datetime(2002, 8, 16, 0, 0), 'FI_ACCOUNT', 9000.0, None, 108, 100)\n",
      "(110, 'John', 'Chen', 'JCHEN', '515.124.4269', datetime.datetime(2005, 9, 28, 0, 0), 'FI_ACCOUNT', 8200.0, None, 108, 100)\n",
      "(111, 'Ismael', 'Sciarra', 'ISCIARRA', '515.124.4369', datetime.datetime(2005, 9, 30, 0, 0), 'FI_ACCOUNT', 7700.0, None, 108, 100)\n",
      "(112, 'Jose Manuel', 'Urman', 'JMURMAN', '515.124.4469', datetime.datetime(2006, 3, 7, 0, 0), 'FI_ACCOUNT', 7800.0, None, 108, 100)\n",
      "(113, 'Luis', 'Popp', 'LPOPP', '515.124.4567', datetime.datetime(2007, 12, 7, 0, 0), 'FI_ACCOUNT', 6900.0, None, 108, 100)\n",
      "(114, 'Den', 'Raphaely', 'DRAPHEAL', '515.127.4561', datetime.datetime(2002, 12, 7, 0, 0), 'PU_MAN', 11000.0, None, 100, 30)\n",
      "(115, 'Alexander', 'Khoo', 'AKHOO', '515.127.4562', datetime.datetime(2003, 5, 18, 0, 0), 'PU_CLERK', 3100.0, None, 114, 30)\n",
      "(116, 'Shelli', 'Baida', 'SBAIDA', '515.127.4563', datetime.datetime(2005, 12, 24, 0, 0), 'PU_CLERK', 2900.0, None, 114, 30)\n",
      "(117, 'Sigal', 'Tobias', 'STOBIAS', '515.127.4564', datetime.datetime(2005, 7, 24, 0, 0), 'PU_CLERK', 2800.0, None, 114, 30)\n",
      "(118, 'Guy', 'Himuro', 'GHIMURO', '515.127.4565', datetime.datetime(2006, 11, 15, 0, 0), 'PU_CLERK', 2600.0, None, 114, 30)\n",
      "(119, 'Karen', 'Colmenares', 'KCOLMENA', '515.127.4566', datetime.datetime(2007, 8, 10, 0, 0), 'PU_CLERK', 2500.0, None, 114, 30)\n",
      "(120, 'Matthew', 'Weiss', 'MWEISS', '650.123.1234', datetime.datetime(2004, 7, 18, 0, 0), 'ST_MAN', 8000.0, None, 100, 50)\n",
      "(121, 'Adam', 'Fripp', 'AFRIPP', '650.123.2234', datetime.datetime(2005, 4, 10, 0, 0), 'ST_MAN', 8200.0, None, 100, 50)\n",
      "(122, 'Payam', 'Kaufling', 'PKAUFLIN', '650.123.3234', datetime.datetime(2003, 5, 1, 0, 0), 'ST_MAN', 7900.0, None, 100, 50)\n",
      "(123, 'Shanta', 'Vollman', 'SVOLLMAN', '650.123.4234', datetime.datetime(2005, 10, 10, 0, 0), 'ST_MAN', 6500.0, None, 100, 50)\n",
      "(124, 'Kevin', 'Mourgos', 'KMOURGOS', '650.123.5234', datetime.datetime(2007, 11, 16, 0, 0), 'ST_MAN', 5800.0, None, 100, 50)\n",
      "(125, 'Julia', 'Nayer', 'JNAYER', '650.124.1214', datetime.datetime(2005, 7, 16, 0, 0), 'ST_CLERK', 3200.0, None, 120, 50)\n",
      "(126, 'Irene', 'Mikkilineni', 'IMIKKILI', '650.124.1224', datetime.datetime(2006, 9, 28, 0, 0), 'ST_CLERK', 2700.0, None, 120, 50)\n",
      "(127, 'James', 'Landry', 'JLANDRY', '650.124.1334', datetime.datetime(2007, 1, 14, 0, 0), 'ST_CLERK', 2400.0, None, 120, 50)\n",
      "(128, 'Steven', 'Markle', 'SMARKLE', '650.124.1434', datetime.datetime(2008, 3, 8, 0, 0), 'ST_CLERK', 2200.0, None, 120, 50)\n",
      "(129, 'Laura', 'Bissot', 'LBISSOT', '650.124.5234', datetime.datetime(2005, 8, 20, 0, 0), 'ST_CLERK', 3300.0, None, 121, 50)\n",
      "(130, 'Mozhe', 'Atkinson', 'MATKINSO', '650.124.6234', datetime.datetime(2005, 10, 30, 0, 0), 'ST_CLERK', 2800.0, None, 121, 50)\n",
      "(131, 'James', 'Marlow', 'JAMRLOW', '650.124.7234', datetime.datetime(2005, 2, 16, 0, 0), 'ST_CLERK', 2500.0, None, 121, 50)\n",
      "(132, 'TJ', 'Olson', 'TJOLSON', '650.124.8234', datetime.datetime(2007, 4, 10, 0, 0), 'ST_CLERK', 2100.0, None, 121, 50)\n",
      "(133, 'Jason', 'Mallin', 'JMALLIN', '650.127.1934', datetime.datetime(2004, 6, 14, 0, 0), 'ST_CLERK', 3300.0, None, 122, 50)\n",
      "(134, 'Michael', 'Rogers', 'MROGERS', '650.127.1834', datetime.datetime(2006, 8, 26, 0, 0), 'ST_CLERK', 2900.0, None, 122, 50)\n",
      "(135, 'Ki', 'Gee', 'KGEE', '650.127.1734', datetime.datetime(2007, 12, 12, 0, 0), 'ST_CLERK', 2400.0, None, 122, 50)\n",
      "(136, 'Hazel', 'Philtanker', 'HPHILTAN', '650.127.1634', datetime.datetime(2008, 2, 6, 0, 0), 'ST_CLERK', 2200.0, None, 122, 50)\n",
      "(137, 'Renske', 'Ladwig', 'RLADWIG', '650.121.1234', datetime.datetime(2003, 7, 14, 0, 0), 'ST_CLERK', 3600.0, None, 123, 50)\n",
      "(138, 'Stephen', 'Stiles', 'SSTILES', '650.121.2034', datetime.datetime(2005, 10, 26, 0, 0), 'ST_CLERK', 3200.0, None, 123, 50)\n",
      "(139, 'John', 'Seo', 'JSEO', '650.121.2019', datetime.datetime(2006, 2, 12, 0, 0), 'ST_CLERK', 2700.0, None, 123, 50)\n",
      "(140, 'Joshua', 'Patel', 'JPATEL', '650.121.1834', datetime.datetime(2006, 4, 6, 0, 0), 'ST_CLERK', 2500.0, None, 123, 50)\n",
      "(141, 'Trenna', 'Rajs', 'TRAJS', '650.121.8009', datetime.datetime(2003, 10, 17, 0, 0), 'ST_CLERK', 3500.0, None, 124, 50)\n",
      "(142, 'Curtis', 'Davies', 'CDAVIES', '650.121.2994', datetime.datetime(2005, 1, 29, 0, 0), 'ST_CLERK', 3100.0, None, 124, 50)\n",
      "(143, 'Randall', 'Matos', 'RMATOS', '650.121.2874', datetime.datetime(2006, 3, 15, 0, 0), 'ST_CLERK', 2600.0, None, 124, 50)\n",
      "(144, 'Peter', 'Vargas', 'PVARGAS', '650.121.2004', datetime.datetime(2006, 7, 9, 0, 0), 'ST_CLERK', 2500.0, None, 124, 50)\n",
      "(145, 'John', 'Russell', 'JRUSSEL', '011.44.1344.429268', datetime.datetime(2004, 10, 1, 0, 0), 'SA_MAN', 14000.0, 0.4, 100, 80)\n",
      "(146, 'Karen', 'Partners', 'KPARTNER', '011.44.1344.467268', datetime.datetime(2005, 1, 5, 0, 0), 'SA_MAN', 13500.0, 0.3, 100, 80)\n",
      "(147, 'Alberto', 'Errazuriz', 'AERRAZUR', '011.44.1344.429278', datetime.datetime(2005, 3, 10, 0, 0), 'SA_MAN', 12000.0, 0.3, 100, 80)\n",
      "(148, 'Gerald', 'Cambrault', 'GCAMBRAU', '011.44.1344.619268', datetime.datetime(2007, 10, 15, 0, 0), 'SA_MAN', 11000.0, 0.3, 100, 80)\n",
      "(149, 'Eleni', 'Zlotkey', 'EZLOTKEY', '011.44.1344.429018', datetime.datetime(2008, 1, 29, 0, 0), 'SA_MAN', 10500.0, 0.2, 100, 80)\n",
      "(150, 'Peter', 'Tucker', 'PTUCKER', '011.44.1344.129268', datetime.datetime(2005, 1, 30, 0, 0), 'SA_REP', 10000.0, 0.3, 145, 80)\n",
      "(151, 'David', 'Bernstein', 'DBERNSTE', '011.44.1344.345268', datetime.datetime(2005, 3, 24, 0, 0), 'SA_REP', 9500.0, 0.25, 145, 80)\n",
      "(152, 'Peter', 'Hall', 'PHALL', '011.44.1344.478968', datetime.datetime(2005, 8, 20, 0, 0), 'SA_REP', 9000.0, 0.25, 145, 80)\n",
      "(153, 'Christopher', 'Olsen', 'COLSEN', '011.44.1344.498718', datetime.datetime(2006, 3, 30, 0, 0), 'SA_REP', 8000.0, 0.2, 145, 80)\n",
      "(154, 'Nanette', 'Cambrault', 'NCAMBRAU', '011.44.1344.987668', datetime.datetime(2006, 12, 9, 0, 0), 'SA_REP', 7500.0, 0.2, 145, 80)\n",
      "(155, 'Oliver', 'Tuvault', 'OTUVAULT', '011.44.1344.486508', datetime.datetime(2007, 11, 23, 0, 0), 'SA_REP', 7000.0, 0.15, 145, 80)\n",
      "(156, 'Janette', 'King', 'JKING', '011.44.1345.429268', datetime.datetime(2004, 1, 30, 0, 0), 'SA_REP', 10000.0, 0.35, 146, 80)\n",
      "(157, 'Patrick', 'Sully', 'PSULLY', '011.44.1345.929268', datetime.datetime(2004, 3, 4, 0, 0), 'SA_REP', 9500.0, 0.35, 146, 80)\n",
      "(158, 'Allan', 'McEwen', 'AMCEWEN', '011.44.1345.829268', datetime.datetime(2004, 8, 1, 0, 0), 'SA_REP', 9000.0, 0.35, 146, 80)\n",
      "(159, 'Lindsey', 'Smith', 'LSMITH', '011.44.1345.729268', datetime.datetime(2005, 3, 10, 0, 0), 'SA_REP', 8000.0, 0.3, 146, 80)\n",
      "(160, 'Louise', 'Doran', 'LDORAN', '011.44.1345.629268', datetime.datetime(2005, 12, 15, 0, 0), 'SA_REP', 7500.0, 0.3, 146, 80)\n",
      "(161, 'Sarath', 'Sewall', 'SSEWALL', '011.44.1345.529268', datetime.datetime(2006, 11, 3, 0, 0), 'SA_REP', 7000.0, 0.25, 146, 80)\n",
      "(162, 'Clara', 'Vishney', 'CVISHNEY', '011.44.1346.129268', datetime.datetime(2005, 11, 11, 0, 0), 'SA_REP', 10500.0, 0.25, 147, 80)\n",
      "(163, 'Danielle', 'Greene', 'DGREENE', '011.44.1346.229268', datetime.datetime(2007, 3, 19, 0, 0), 'SA_REP', 9500.0, 0.15, 147, 80)\n",
      "(164, 'Mattea', 'Marvins', 'MMARVINS', '011.44.1346.329268', datetime.datetime(2008, 1, 24, 0, 0), 'SA_REP', 7200.0, 0.1, 147, 80)\n",
      "(165, 'David', 'Lee', 'DLEE', '011.44.1346.529268', datetime.datetime(2008, 2, 23, 0, 0), 'SA_REP', 6800.0, 0.1, 147, 80)\n",
      "(166, 'Sundar', 'Ande', 'SANDE', '011.44.1346.629268', datetime.datetime(2008, 3, 24, 0, 0), 'SA_REP', 6400.0, 0.1, 147, 80)\n",
      "(167, 'Amit', 'Banda', 'ABANDA', '011.44.1346.729268', datetime.datetime(2008, 4, 21, 0, 0), 'SA_REP', 6200.0, 0.1, 147, 80)\n",
      "(168, 'Lisa', 'Ozer', 'LOZER', '011.44.1343.929268', datetime.datetime(2005, 3, 11, 0, 0), 'SA_REP', 11500.0, 0.25, 148, 80)\n",
      "(169, 'Harrison', 'Bloom', 'HBLOOM', '011.44.1343.829268', datetime.datetime(2006, 3, 23, 0, 0), 'SA_REP', 10000.0, 0.2, 148, 80)\n",
      "(170, 'Tayler', 'Fox', 'TFOX', '011.44.1343.729268', datetime.datetime(2006, 1, 24, 0, 0), 'SA_REP', 9600.0, 0.2, 148, 80)\n",
      "(171, 'William', 'Smith', 'WSMITH', '011.44.1343.629268', datetime.datetime(2007, 2, 23, 0, 0), 'SA_REP', 7400.0, 0.15, 148, 80)\n",
      "(172, 'Elizabeth', 'Bates', 'EBATES', '011.44.1343.529268', datetime.datetime(2007, 3, 24, 0, 0), 'SA_REP', 7300.0, 0.15, 148, 80)\n",
      "(173, 'Sundita', 'Kumar', 'SKUMAR', '011.44.1343.329268', datetime.datetime(2008, 4, 21, 0, 0), 'SA_REP', 6100.0, 0.1, 148, 80)\n",
      "(174, 'Ellen', 'Abel', 'EABEL', '011.44.1644.429267', datetime.datetime(2004, 5, 11, 0, 0), 'SA_REP', 11000.0, 0.3, 149, 80)\n",
      "(175, 'Alyssa', 'Hutton', 'AHUTTON', '011.44.1644.429266', datetime.datetime(2005, 3, 19, 0, 0), 'SA_REP', 8800.0, 0.25, 149, 80)\n",
      "(176, 'Jonathon', 'Taylor', 'JTAYLOR', '011.44.1644.429265', datetime.datetime(2006, 3, 24, 0, 0), 'SA_REP', 8600.0, 0.2, 149, 80)\n",
      "(177, 'Jack', 'Livingston', 'JLIVINGS', '011.44.1644.429264', datetime.datetime(2006, 4, 23, 0, 0), 'SA_REP', 8400.0, 0.2, 149, 80)\n",
      "(178, 'Kimberely', 'Grant', 'KGRANT', '011.44.1644.429263', datetime.datetime(2007, 5, 24, 0, 0), 'SA_REP', 7000.0, 0.15, 149, None)\n",
      "(179, 'Charles', 'Johnson', 'CJOHNSON', '011.44.1644.429262', datetime.datetime(2008, 1, 4, 0, 0), 'SA_REP', 6200.0, 0.1, 149, 80)\n",
      "(180, 'Winston', 'Taylor', 'WTAYLOR', '650.507.9876', datetime.datetime(2006, 1, 24, 0, 0), 'SH_CLERK', 3200.0, None, 120, 50)\n",
      "(181, 'Jean', 'Fleaur', 'JFLEAUR', '650.507.9877', datetime.datetime(2006, 2, 23, 0, 0), 'SH_CLERK', 3100.0, None, 120, 50)\n",
      "(182, 'Martha', 'Sullivan', 'MSULLIVA', '650.507.9878', datetime.datetime(2007, 6, 21, 0, 0), 'SH_CLERK', 2500.0, None, 120, 50)\n",
      "(183, 'Girard', 'Geoni', 'GGEONI', '650.507.9879', datetime.datetime(2008, 2, 3, 0, 0), 'SH_CLERK', 2800.0, None, 120, 50)\n",
      "(184, 'Nandita', 'Sarchand', 'NSARCHAN', '650.509.1876', datetime.datetime(2004, 1, 27, 0, 0), 'SH_CLERK', 4200.0, None, 121, 50)\n",
      "(185, 'Alexis', 'Bull', 'ABULL', '650.509.2876', datetime.datetime(2005, 2, 20, 0, 0), 'SH_CLERK', 4100.0, None, 121, 50)\n",
      "(186, 'Julia', 'Dellinger', 'JDELLING', '650.509.3876', datetime.datetime(2006, 6, 24, 0, 0), 'SH_CLERK', 3400.0, None, 121, 50)\n",
      "(187, 'Anthony', 'Cabrio', 'ACABRIO', '650.509.4876', datetime.datetime(2007, 2, 7, 0, 0), 'SH_CLERK', 3000.0, None, 121, 50)\n",
      "(188, 'Kelly', 'Chung', 'KCHUNG', '650.505.1876', datetime.datetime(2005, 6, 14, 0, 0), 'SH_CLERK', 3800.0, None, 122, 50)\n",
      "(189, 'Jennifer', 'Dilly', 'JDILLY', '650.505.2876', datetime.datetime(2005, 8, 13, 0, 0), 'SH_CLERK', 3600.0, None, 122, 50)\n",
      "(190, 'Timothy', 'Gates', 'TGATES', '650.505.3876', datetime.datetime(2006, 7, 11, 0, 0), 'SH_CLERK', 2900.0, None, 122, 50)\n",
      "(191, 'Randall', 'Perkins', 'RPERKINS', '650.505.4876', datetime.datetime(2007, 12, 19, 0, 0), 'SH_CLERK', 2500.0, None, 122, 50)\n",
      "(192, 'Sarah', 'Bell', 'SBELL', '650.501.1876', datetime.datetime(2004, 2, 4, 0, 0), 'SH_CLERK', 4000.0, None, 123, 50)\n",
      "(193, 'Britney', 'Everett', 'BEVERETT', '650.501.2876', datetime.datetime(2005, 3, 3, 0, 0), 'SH_CLERK', 3900.0, None, 123, 50)\n",
      "(194, 'Samuel', 'McCain', 'SMCCAIN', '650.501.3876', datetime.datetime(2006, 7, 1, 0, 0), 'SH_CLERK', 3200.0, None, 123, 50)\n",
      "(195, 'Vance', 'Jones', 'VJONES', '650.501.4876', datetime.datetime(2007, 3, 17, 0, 0), 'SH_CLERK', 2800.0, None, 123, 50)\n",
      "(196, 'Alana', 'Walsh', 'AWALSH', '650.507.9811', datetime.datetime(2006, 4, 24, 0, 0), 'SH_CLERK', 3100.0, None, 124, 50)\n",
      "(197, 'Kevin', 'Feeney', 'KFEENEY', '650.507.9822', datetime.datetime(2006, 5, 23, 0, 0), 'SH_CLERK', 3000.0, None, 124, 50)\n",
      "(198, 'Donald', 'OConnell', 'DOCONNEL', '650.507.9833', datetime.datetime(2007, 6, 21, 0, 0), 'SH_CLERK', 2600.0, None, 124, 50)\n",
      "(199, 'Douglas', 'Grant', 'DGRANT', '650.507.9844', datetime.datetime(2008, 1, 13, 0, 0), 'SH_CLERK', 2600.0, None, 124, 50)\n",
      "(200, 'Jennifer', 'Whalen', 'JWHALEN', '515.123.4444', datetime.datetime(2003, 9, 17, 0, 0), 'AD_ASST', 4400.0, None, 101, 10)\n",
      "(201, 'Michael', 'Hartstein', 'MHARTSTE', '515.123.5555', datetime.datetime(2004, 2, 17, 0, 0), 'MK_MAN', 13000.0, None, 100, 20)\n",
      "(202, 'Pat', 'Fay', 'PFAY', '603.123.6666', datetime.datetime(2005, 8, 17, 0, 0), 'MK_REP', 6000.0, None, 201, 20)\n",
      "(203, 'Susan', 'Mavris', 'SMAVRIS', '515.123.7777', datetime.datetime(2002, 6, 7, 0, 0), 'HR_REP', 6500.0, None, 101, 40)\n",
      "(204, 'Hermann', 'Baer', 'HBAER', '515.123.8888', datetime.datetime(2002, 6, 7, 0, 0), 'PR_REP', 10000.0, None, 101, 70)\n",
      "(205, 'Shelley', 'Higgins', 'SHIGGINS', '515.123.8080', datetime.datetime(2002, 6, 7, 0, 0), 'AC_MGR', 12008.0, None, 101, 110)\n",
      "(206, 'William', 'Gietz', 'WGIETZ', '515.123.8181', datetime.datetime(2002, 6, 7, 0, 0), 'AC_ACCOUNT', 8300.0, None, 205, 110)\n"
     ]
    }
   ],
   "source": [
    "for row in cursor :\n",
    "    print(row)"
   ]
  },
  {
   "cell_type": "code",
   "execution_count": 9,
   "metadata": {},
   "outputs": [],
   "source": [
    "cursor.close()\n",
    "conn.close()"
   ]
  },
  {
   "cell_type": "code",
   "execution_count": null,
   "metadata": {},
   "outputs": [],
   "source": []
  }
 ],
 "metadata": {
  "kernelspec": {
   "display_name": "Python 3",
   "language": "python",
   "name": "python3"
  },
  "language_info": {
   "codemirror_mode": {
    "name": "ipython",
    "version": 3
   },
   "file_extension": ".py",
   "mimetype": "text/x-python",
   "name": "python",
   "nbconvert_exporter": "python",
   "pygments_lexer": "ipython3",
   "version": "3.7.6"
  }
 },
 "nbformat": 4,
 "nbformat_minor": 4
}
