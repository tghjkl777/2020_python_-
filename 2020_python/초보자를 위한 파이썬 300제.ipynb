{
 "cells": [
  {
   "cell_type": "markdown",
   "metadata": {},
   "source": [
    "# 파이썬 연습문제 풀이(2020/07/16)\n",
    "### [초보자를 위한 파이썬](https://wikidocs.net/7014)"
   ]
  },
  {
   "cell_type": "code",
   "execution_count": 34,
   "metadata": {},
   "outputs": [
    {
     "name": "stdout",
     "output_type": "stream",
     "text": [
      "Hello world\n",
      "Mary's consmetics\n",
      "신씨가 소리를 질렀다. \"도둑이야\".\n",
      "\"c:\\windos\"\n",
      "안녕하세요.\n",
      "만나서\t\t반갑습니다.\n",
      "오늘은 일요일\n",
      "naver;kakao;samsung\n",
      "naver/kakao/samsung\n",
      "first second\n",
      "1.6666666666666667\n"
     ]
    }
   ],
   "source": [
    "# 1~10 파이썬 시작\n",
    "\n",
    "print(\"Hello world\")\n",
    "\n",
    "print(\"Mary\\'s consmetics\")\n",
    "\n",
    "print(\"신씨가 소리를 질렀다. \\\"도둑이야\\\".\")\n",
    "\n",
    "print(\"\\\"c:\\\\windos\\\"\")\n",
    "\n",
    "print(\"안녕하세요.\\n만나서\\t\\t반갑습니다.\")\n",
    "\n",
    "print(\"오늘은\",\"일요일\")\n",
    "\n",
    "print(\"naver\",\"kakao\",\"samsung\",sep=\";\")\n",
    "\n",
    "print(\"naver\",\"kakao\",\"samsung\",sep=\"/\")\n",
    "\n",
    "print(\"first\", end=\" \");print(\"second\")\n",
    "\n",
    "print(5/3)\n"
   ]
  },
  {
   "cell_type": "code",
   "execution_count": 28,
   "metadata": {
    "scrolled": false
   },
   "outputs": [
    {
     "name": "stdout",
     "output_type": "stream",
     "text": [
      "500000\n",
      "hello! python\n",
      "8\n",
      "<class 'str'>\n",
      "<class 'int'>\n",
      "<class 'int'>\n",
      "<class 'float'>\n",
      "2019 2018 2017\n",
      "total: 1749024\n"
     ]
    }
   ],
   "source": [
    "# 11~20  파이썬 변수\n",
    "\n",
    "samsung=50000\n",
    "print(samsung*10)\n",
    "\n",
    "total = 298000000000000\n",
    "current=50000\n",
    "PER=15.79\n",
    "\n",
    "s=\"hello\"\n",
    "t=\"python\"\n",
    "print(s+\"!\",t)\n",
    "\n",
    "print(2+2*3)\n",
    "\n",
    "a=\"128\"\n",
    "print(type(a))\n",
    "\n",
    "num_str=\"720\"\n",
    "num_str=int(num_str)\n",
    "print(type(num_str))\n",
    "\n",
    "num=100\n",
    "numt=int(num)\n",
    "print(type(num))\n",
    "\n",
    "str_1=\"15.79\"\n",
    "str_1=float(str_1)\n",
    "print(type(str_1))\n",
    "\n",
    "year=\"2020\"\n",
    "year=int(year)\n",
    "print(year-1,year-2,year-3)\n",
    "\n",
    "air_condition =48584\n",
    "print(\"total: {}\".format(air_condition*36))\n"
   ]
  },
  {
   "cell_type": "code",
   "execution_count": 77,
   "metadata": {},
   "outputs": [
    {
     "name": "stdout",
     "output_type": "stream",
     "text": [
      "p t\n",
      "2210\n",
      "홀홀홀\n",
      "nohtyP\n",
      "010 1111 2222\n",
      "01011112222\n",
      "kr\n",
      "p\n",
      "Abcdefg2A365A23A\n",
      "abcd\n"
     ]
    }
   ],
   "source": [
    "# 21~30 파이썬 문자열\n",
    "\n",
    "letters='python'\n",
    "print(letters[0],letters[2])\n",
    "\n",
    "license_plate = \"24가 2210\"\n",
    "print(license_plate[-4:])\n",
    "\n",
    "#오프셋 지정하기.\n",
    "string=\"홀짝홀짝홀짝\"\n",
    "print(string[: :2])\n",
    "\n",
    "string =\"Python\"\n",
    "print(string[::-1])\n",
    "\n",
    "phone_number=\"010-1111-2222\"\n",
    "phone_number=phone_number.replace(\"-\",\" \")\n",
    "print(phone_number)\n",
    "\n",
    "\n",
    "phone_number=\"010-1111-2222\"\n",
    "phone_number=phone_number.replace(\"-\",\"\")\n",
    "print(phone_number)\n",
    "\n",
    "url=\"http://sharebook.kr\"\n",
    "url=url.split(\".\")\n",
    "print(url[-1])\n",
    "\n",
    "lang = \"python\"\n",
    "print(lang[0])\n",
    "\n",
    "string=\"abcdefg2a365a23a\"\n",
    "print(string.replace(\"a\",\"A\"))\n",
    "\n",
    "string= 'abcd'\n",
    "string.replace('b','B')\n",
    "print(string)"
   ]
  },
  {
   "cell_type": "code",
   "execution_count": 99,
   "metadata": {
    "scrolled": true
   },
   "outputs": [
    {
     "name": "stdout",
     "output_type": "stream",
     "text": [
      "34\n",
      "HiHiHi\n",
      "--------------------------------------------------------------------------------\n",
      "python java python java python java python java \n",
      "이름 : 김민수 나이 : 10 \n",
      "이름 : 이철희 나이 : 13 \n",
      "\n",
      "이름 : 김민수 나이 : 10\n",
      "이름 : 이철희 나이 : 13\n",
      "5969782550\n",
      "2020/03\n",
      "삼성전자\n"
     ]
    }
   ],
   "source": [
    "# 31~40 파이썬 문자열\n",
    "\n",
    "a=\"3\"\n",
    "b=\"4\"\n",
    "print(a+b)\n",
    "\n",
    "print(\"Hi\" * 3)\n",
    "\n",
    "print(\"-\"*80)\n",
    "\n",
    "t1=\"python\"\n",
    "t2=\"java\"\n",
    "print((t1+\" \"+t2+\" \")*4)\n",
    "\n",
    "name1=\"김민수\"\n",
    "age1=10\n",
    "name2=\"이철희\"\n",
    "age2=13\n",
    "print(\"이름 : %s 나이 : %d \"%(name1,age1))\n",
    "print(\"이름 : %s 나이 : %d \"%(name2,age2))\n",
    "print()\n",
    "print(\"이름 : {} 나이 : {}\".format(name1,age1))\n",
    "print(\"이름 : {} 나이 : {}\".format(name2,age2))\n",
    "\n",
    "상장주식=\"5,969,782,550\"\n",
    "상장주식=상장주식.replace(\",\",\"\")\n",
    "상장주식=int(상장주식)\n",
    "print(상장주식)\n",
    "\n",
    "time = \"2020/03(E) (IFRS연결)\"\n",
    "print(time[:7])\n",
    "\n",
    "data=\"      삼성전자     \"\n",
    "print(data.strip())"
   ]
  },
  {
   "cell_type": "code",
   "execution_count": 136,
   "metadata": {},
   "outputs": [
    {
     "name": "stdout",
     "output_type": "stream",
     "text": [
      "BTC_KRW\n",
      "btc_krw\n",
      "Hello\n",
      "True\n",
      "False\n",
      "True\n",
      "['hello', 'world']\n",
      "['btc', 'krw']\n",
      "['2020', '05', '01']\n",
      "039490\n"
     ]
    }
   ],
   "source": [
    "# 41~50 파이썬 문자열\n",
    "\n",
    "ticker=\"btc_krw\"\n",
    "print(ticker.upper())\n",
    "\n",
    "ticker=\"BTC_KRW\"\n",
    "print(ticker.lower())\n",
    "\n",
    "hello=\"hello\"\n",
    "print(hello.capitalize())\n",
    "\n",
    "file_name=\"report.xlsx\"\n",
    "print(file_name.endswith((\"xlsx\",\"xls\")))\n",
    "print(file_name.endswith(\"xls\"))\n",
    "\n",
    "file_name=\"2020_report.xlsx\"\n",
    "print(file_name.startswith(\"2020\"))\n",
    "\n",
    "a=\"hello world\"\n",
    "print(a.split())\n",
    "\n",
    "ticker=\"btc_krw\"\n",
    "print(ticker.split(\"_\"))\n",
    "\n",
    "date = \"2020-05-01\"\n",
    "print(date.split(\"-\"))\n",
    "\n",
    "data = \"039490     \"\n",
    "print(data.rstrip())"
   ]
  },
  {
   "cell_type": "code",
   "execution_count": 155,
   "metadata": {},
   "outputs": [
    {
     "name": "stdout",
     "output_type": "stream",
     "text": [
      "['docter stranger', 'split', 'licky']\n",
      "['docter stranger', 'split', 'licky', 'batman']\n",
      "['닥터 스트레인지', '슈퍼맨', '스플릿', '럭키', '배트맨']\n",
      "['닥터 스트레인지', '슈퍼맨', '스플릿', '배트맨']\n",
      "['닥터 스트레인지', '슈퍼맨']\n",
      "['C', 'C++', 'JAVA', 'Python', 'Go', 'C#']\n",
      "7\n",
      "1\n",
      "15\n",
      "12\n",
      "3.0\n"
     ]
    }
   ],
   "source": [
    "# 51~60 파이썬 리스트\n",
    "\n",
    "movie_rank=[\"docter stranger\",\"split\",\"licky\"]\n",
    "print(movie_rank)\n",
    "movie_rank.append(\"batman\")\n",
    "print(movie_rank)\n",
    "\n",
    "movie_rank = ['닥터 스트레인지', '스플릿', '럭키', '배트맨']\n",
    "movie_rank.insert(1,\"슈퍼맨\")\n",
    "print(movie_rank)\n",
    "\n",
    "movie_rank.remove(\"럭키\")\n",
    "print(movie_rank)\n",
    "\n",
    "movie_rank = ['닥터 스트레인지', '슈퍼맨', '스플릿', '배트맨']\n",
    "del movie_rank[2:]\n",
    "print(movie_rank)\n",
    "\n",
    "lang1 = [\"C\", \"C++\", \"JAVA\"]\n",
    "lang2 = [\"Python\", \"Go\", \"C#\"]\n",
    "langs=lang1+lang2\n",
    "print(langs)\n",
    "\n",
    "nums = [1, 2, 3, 4, 5, 6, 7]\n",
    "print(max(nums),min(nums),sep=\"\\n\")\n",
    "\n",
    "nums = [1, 2, 3, 4, 5]\n",
    "print(sum(nums))\n",
    "\n",
    "cook = [\"피자\", \"김밥\", \"만두\", \"양념치킨\", \"족발\",\n",
    "        \"피자\", \"김치만두\", \"쫄면\", \"쏘세지\", \"라면\",\n",
    "        \"팥빙수\", \"김치전\"]\n",
    "print(len(cook))\n",
    "\n",
    "nums = [1, 2, 3, 4, 5]\n",
    "print(sum(nums)/len(nums))"
   ]
  },
  {
   "cell_type": "code",
   "execution_count": 166,
   "metadata": {},
   "outputs": [
    {
     "name": "stdout",
     "output_type": "stream",
     "text": [
      "[100, 130, 140, 150, 160, 170]\n",
      "[1, 3, 5, 7, 9]\n",
      "[2, 4, 6, 8, 10]\n",
      "[5, 4, 3, 2, 1]\n",
      "[5, 4, 3, 2, 1]\n",
      "삼성전자 Naver\n"
     ]
    }
   ],
   "source": [
    "# 51~60 파이썬 리스트\n",
    "\n",
    "price = ['20180728', 100, 130, 140, 150, 160, 170]\n",
    "print(price[1:])\n",
    "\n",
    "nums = [1, 2, 3, 4, 5, 6, 7, 8, 9, 10]\n",
    "print(nums[::2])\n",
    "\n",
    "print(nums[1::2])\n",
    "\n",
    "nums = [1, 2, 3, 4, 5]\n",
    "print(nums[::-1])\n",
    "nums.reverse()\n",
    "print(nums)\n",
    "\n",
    "interest = ['삼성전자', 'LG전자', 'Naver']\n",
    "print(interest[0],interest[2])\n"
   ]
  },
  {
   "cell_type": "code",
   "execution_count": null,
   "metadata": {},
   "outputs": [],
   "source": []
  }
 ],
 "metadata": {
  "kernelspec": {
   "display_name": "Python 3",
   "language": "python",
   "name": "python3"
  },
  "language_info": {
   "codemirror_mode": {
    "name": "ipython",
    "version": 3
   },
   "file_extension": ".py",
   "mimetype": "text/x-python",
   "name": "python",
   "nbconvert_exporter": "python",
   "pygments_lexer": "ipython3",
   "version": "3.7.6"
  }
 },
 "nbformat": 4,
 "nbformat_minor": 4
}
