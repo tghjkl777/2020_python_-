{
 "cells": [
  {
   "cell_type": "markdown",
   "metadata": {},
   "source": [
    "# 파이썬 연습문제 풀이(2020/07/16)\n",
    "### [초보자를 위한 파이썬](https://wikidocs.net/7014)"
   ]
  },
  {
   "cell_type": "code",
   "execution_count": null,
   "metadata": {},
   "outputs": [],
   "source": [
    "# 1~10 파이썬 시작\n",
    "\n",
    "print(\"Hello world\")\n",
    "\n",
    "print(\"Mary\\'s consmetics\")\n",
    "\n",
    "print(\"신씨가 소리를 질렀다. \\\"도둑이야\\\".\")\n",
    "\n",
    "print(\"\\\"c:\\\\windos\\\"\")\n",
    "\n",
    "print(\"안녕하세요.\\n만나서\\t\\t반갑습니다.\")\n",
    "\n",
    "print(\"오늘은\",\"일요일\")\n",
    "\n",
    "print(\"naver\",\"kakao\",\"samsung\",sep=\";\")\n",
    "\n",
    "print(\"naver\",\"kakao\",\"samsung\",sep=\"/\")\n",
    "\n",
    "print(\"first\", end=\" \");print(\"second\")\n",
    "\n",
    "print(5/3)\n"
   ]
  },
  {
   "cell_type": "code",
   "execution_count": null,
   "metadata": {
    "scrolled": false
   },
   "outputs": [],
   "source": [
    "# 11~20  파이썬 변수\n",
    "\n",
    "samsung=50000\n",
    "print(samsung*10)\n",
    "\n",
    "total = 298000000000000\n",
    "current=50000\n",
    "PER=15.79\n",
    "\n",
    "s=\"hello\"\n",
    "t=\"python\"\n",
    "print(s+\"!\",t)\n",
    "\n",
    "print(2+2*3)\n",
    "\n",
    "a=\"128\"\n",
    "print(type(a))\n",
    "\n",
    "num_str=\"720\"\n",
    "num_str=int(num_str)\n",
    "print(type(num_str))\n",
    "\n",
    "num=100\n",
    "numt=int(num)\n",
    "print(type(num))\n",
    "\n",
    "str_1=\"15.79\"\n",
    "str_1=float(str_1)\n",
    "print(type(str_1))\n",
    "\n",
    "year=\"2020\"\n",
    "year=int(year)\n",
    "print(year-1,year-2,year-3)\n",
    "\n",
    "air_condition =48584\n",
    "print(\"total: {}\".format(air_condition*36))\n"
   ]
  },
  {
   "cell_type": "code",
   "execution_count": null,
   "metadata": {},
   "outputs": [],
   "source": [
    "# 21~30 파이썬 문자열\n",
    "\n",
    "letters='python'\n",
    "print(letters[0],letters[2])\n",
    "\n",
    "license_plate = \"24가 2210\"\n",
    "print(license_plate[-4:])\n",
    "\n",
    "#오프셋 지정하기.\n",
    "string=\"홀짝홀짝홀짝\"\n",
    "print(string[: :2])\n",
    "\n",
    "string =\"Python\"\n",
    "print(string[::-1])\n",
    "\n",
    "phone_number=\"010-1111-2222\"\n",
    "phone_number=phone_number.replace(\"-\",\" \")\n",
    "print(phone_number)\n",
    "\n",
    "\n",
    "phone_number=\"010-1111-2222\"\n",
    "phone_number=phone_number.replace(\"-\",\"\")\n",
    "print(phone_number)\n",
    "\n",
    "url=\"http://sharebook.kr\"\n",
    "url=url.split(\".\")\n",
    "print(url[-1])\n",
    "\n",
    "lang = \"python\"\n",
    "print(lang[0])\n",
    "\n",
    "string=\"abcdefg2a365a23a\"\n",
    "print(string.replace(\"a\",\"A\"))\n",
    "\n",
    "string= 'abcd'\n",
    "string.replace('b','B')\n",
    "print(string)"
   ]
  },
  {
   "cell_type": "code",
   "execution_count": null,
   "metadata": {
    "scrolled": true
   },
   "outputs": [],
   "source": [
    "# 31~40 파이썬 문자열\n",
    "\n",
    "a=\"3\"\n",
    "b=\"4\"\n",
    "print(a+b)\n",
    "\n",
    "print(\"Hi\" * 3)\n",
    "\n",
    "print(\"-\"*80)\n",
    "\n",
    "t1=\"python\"\n",
    "t2=\"java\"\n",
    "print((t1+\" \"+t2+\" \")*4)\n",
    "\n",
    "name1=\"김민수\"\n",
    "age1=10\n",
    "name2=\"이철희\"\n",
    "age2=13\n",
    "print(\"이름 : %s 나이 : %d \"%(name1,age1))\n",
    "print(\"이름 : %s 나이 : %d \"%(name2,age2))\n",
    "print()\n",
    "print(\"이름 : {} 나이 : {}\".format(name1,age1))\n",
    "print(\"이름 : {} 나이 : {}\".format(name2,age2))\n",
    "\n",
    "상장주식=\"5,969,782,550\"\n",
    "상장주식=상장주식.replace(\",\",\"\")\n",
    "상장주식=int(상장주식)\n",
    "print(상장주식)\n",
    "\n",
    "time = \"2020/03(E) (IFRS연결)\"\n",
    "print(time[:7])\n",
    "\n",
    "data=\"      삼성전자     \"\n",
    "print(data.strip())"
   ]
  },
  {
   "cell_type": "code",
   "execution_count": null,
   "metadata": {},
   "outputs": [],
   "source": [
    "# 41~50 파이썬 문자열\n",
    "\n",
    "ticker=\"btc_krw\"\n",
    "print(ticker.upper())\n",
    "\n",
    "ticker=\"BTC_KRW\"\n",
    "print(ticker.lower())\n",
    "\n",
    "hello=\"hello\"\n",
    "print(hello.capitalize())\n",
    "\n",
    "file_name=\"report.xlsx\"\n",
    "print(file_name.endswith((\"xlsx\",\"xls\")))\n",
    "print(file_name.endswith(\"xls\"))\n",
    "\n",
    "file_name=\"2020_report.xlsx\"\n",
    "print(file_name.startswith(\"2020\"))\n",
    "\n",
    "a=\"hello world\"\n",
    "print(a.split())\n",
    "\n",
    "ticker=\"btc_krw\"\n",
    "print(ticker.split(\"_\"))\n",
    "\n",
    "date = \"2020-05-01\"\n",
    "print(date.split(\"-\"))\n",
    "\n",
    "data = \"039490     \"\n",
    "print(data.rstrip())"
   ]
  },
  {
   "cell_type": "code",
   "execution_count": null,
   "metadata": {},
   "outputs": [],
   "source": [
    "# 51~60 파이썬 리스트\n",
    "\n",
    "movie_rank=[\"docter stranger\",\"split\",\"licky\"]\n",
    "print(movie_rank)\n",
    "movie_rank.append(\"batman\")\n",
    "print(movie_rank)\n",
    "\n",
    "movie_rank = ['닥터 스트레인지', '스플릿', '럭키', '배트맨']\n",
    "movie_rank.insert(1,\"슈퍼맨\")\n",
    "print(movie_rank)\n",
    "\n",
    "movie_rank.remove(\"럭키\")\n",
    "print(movie_rank)\n",
    "\n",
    "movie_rank = ['닥터 스트레인지', '슈퍼맨', '스플릿', '배트맨']\n",
    "del movie_rank[2:]\n",
    "print(movie_rank)\n",
    "\n",
    "lang1 = [\"C\", \"C++\", \"JAVA\"]\n",
    "lang2 = [\"Python\", \"Go\", \"C#\"]\n",
    "langs=lang1+lang2\n",
    "print(langs)\n",
    "\n",
    "nums = [1, 2, 3, 4, 5, 6, 7]\n",
    "print(max(nums),min(nums),sep=\"\\n\")\n",
    "\n",
    "nums = [1, 2, 3, 4, 5]\n",
    "print(sum(nums))\n",
    "\n",
    "cook = [\"피자\", \"김밥\", \"만두\", \"양념치킨\", \"족발\",\n",
    "        \"피자\", \"김치만두\", \"쫄면\", \"쏘세지\", \"라면\",\n",
    "        \"팥빙수\", \"김치전\"]\n",
    "print(len(cook))\n",
    "\n",
    "nums = [1, 2, 3, 4, 5]\n",
    "print(sum(nums)/len(nums))"
   ]
  },
  {
   "cell_type": "code",
   "execution_count": null,
   "metadata": {},
   "outputs": [],
   "source": [
    "# 61~70 파이썬 리스트\n",
    "\n",
    "price = ['20180728', 100, 130, 140, 150, 160, 170]\n",
    "print(price[1:])\n",
    "\n",
    "nums = [1, 2, 3, 4, 5, 6, 7, 8, 9, 10]\n",
    "print(nums[::2])\n",
    "\n",
    "print(nums[1::2])\n",
    "\n",
    "nums = [1, 2, 3, 4, 5]\n",
    "print(nums[::-1])\n",
    "nums.reverse()\n",
    "print(nums)\n",
    "\n",
    "interest = ['삼성전자', 'LG전자', 'Naver']\n",
    "print(interest[0],interest[2])\n",
    "\n",
    "#join 메서드\n",
    "interest = ['삼성전자', 'LG전자', 'Naver',\n",
    "            'SK하이닉스', '미래에셋대우']\n",
    "concat=\"/\" # 사이에 들어간다. \n",
    "print(concat.join(interest))\n",
    "\n",
    "interest = ['삼성전자', 'LG전자', 'Naver', \n",
    "            'SK하이닉스', '미래에셋대우']\n",
    "concat=\"\\n\" # 사이에 들어간다. \n",
    "print(concat.join(interest))\n",
    "\n",
    "string = \"삼성전자/LG전자/Naver\"\n",
    "interest=string.split(\"/\")\n",
    "print(interest)\n",
    "\n",
    "#바로 반환됨\n",
    "data = [2, 4, 3, 1, 5, 10, 9]\n",
    "data.sort()\n",
    "print(data)\n",
    "\n",
    "#저장하는거 지정해야한다.\n",
    "data = [2, 4, 3, 1, 5, 10, 9]\n",
    "data2 = sorted(data)\n",
    "print(data2)"
   ]
  },
  {
   "cell_type": "code",
   "execution_count": null,
   "metadata": {},
   "outputs": [],
   "source": [
    "# 71~80 파이썬 튜플\n",
    "\n",
    "my_variable=()\n",
    "print(type(my_variable),my_variable)\n",
    "\n",
    "movie_rank=\"닥터 스트레인지\",\"스플릿\",\"럭키\"\n",
    "print(type(movie_rank),movie_rank)\n",
    "\n",
    "num_tuple=(1,)\n",
    "print(type(num_tuple),num_tuple)\n",
    "\n",
    "t = 1, 2, 3, 4\n",
    "print(type(t))\n",
    "\n",
    "interest = ('삼성전자', 'LG전자', 'SK Hynix')\n",
    "interest=list(interest)\n",
    "print(type(interest),interest)\n",
    "\n",
    "temp = ('apple', 'banana', 'cake')\n",
    "a, b, c = temp\n",
    "print(a, b, c)\n",
    "\n",
    "odd=tuple(range(2,100,2))\n",
    "print(odd)\n"
   ]
  },
  {
   "cell_type": "code",
   "execution_count": null,
   "metadata": {},
   "outputs": [],
   "source": [
    "#81~90 파이썬 딕셔너리\n",
    "\n",
    "a,b,*c=1,2,3,4,5,6,7 # star expression\n",
    "print(a,b,c)\n",
    "print(type(a),type(c))\n",
    "\n",
    "scores = [8.8, 8.9, 8.7, 9.2, 9.3, 9.7, 9.9, 9.5, 7.8, 9.4]\n",
    "*valid_score,a,b=scores\n",
    "print(valid_score)\n",
    "\n",
    "scores = [8.8, 8.9, 8.7, 9.2, 9.3, 9.7, 9.9, 9.5, 7.8, 9.4]\n",
    "_,_,*valid_score=scores\n",
    "print(valid_score)\n",
    "\n",
    "scores = [8.8, 8.9, 8.7, 9.2, 9.3, 9.7, 9.9, 9.5, 7.8, 9.4]\n",
    "_,*valid_score,_=scores\n",
    "print(valid_score)\n",
    "\n",
    "temp={}\n",
    "print(temp,type(temp))\n",
    "\n",
    "ice_creame={ \"메로나\" :1000,\n",
    "            \"폴라포\" : 1200,\n",
    "            \"빵빠레\": 1800\n",
    "    }\n",
    "\n",
    "print(ice_creame)\n",
    "\n",
    "ice_creame.update(죠스바=1200)\n",
    "print(ice_creame)\n",
    "ice_creame.setdefault(\"월드콘\",1500)\n",
    "print(ice_creame)\n",
    "ice_creame[\"투게더\"]=5000\n",
    "print(ice_creame)\n",
    "\n",
    "print(ice_creame.get(\"메로나\"))\n",
    "\n",
    "ice_creame.update(메로나=1300)\n",
    "print(ice_creame)\n",
    "\n",
    "ice_creame.pop(\"메로나\")\n",
    "print(ice_creame)\n",
    "\n",
    "icecream = {'폴라포': 1200, '빵빠레': 1800,\n",
    "            '월드콘': 1500, '메로나': 1000}\n",
    "icecream['폴라포']\n",
    "\n"
   ]
  },
  {
   "cell_type": "code",
   "execution_count": null,
   "metadata": {},
   "outputs": [],
   "source": [
    "#91~100\n",
    "\n",
    "inventory = {\"메로나\":[300,20],\n",
    "            \"비비빅\":(400,3),\n",
    "            \"죠스바\":(250,100)\n",
    "            }\n",
    "print(inventory)\n",
    "\n",
    "inventory = {\"메로나\": [300, 20],\n",
    "              \"비비빅\": [400, 3],\n",
    "              \"죠스바\": [250, 100]}\n",
    "\n",
    "print(inventory[\"메로나\"][0],\"원\")\n",
    "\n",
    "inventory = {\"메로나\": [300, 20],\n",
    "              \"비비빅\": [400, 3],\n",
    "              \"죠스바\": [250, 100]}\n",
    "\n",
    "print(inventory[\"메로나\"][1],\"개\")\n",
    "\n",
    "inventory = {\"메로나\": [300, 20],\n",
    "              \"비비빅\": [400, 3],\n",
    "              \"죠스바\": [250, 100]}\n",
    "\n",
    "inventory[\"월드콘\"]=[500,7]\n",
    "print(inventory)\n",
    "\n",
    "icecream = {'탱크보이': 1200, '폴라포': 1200, '빵빠레': 1800,\n",
    "            '월드콘': 1500, '메로나': 1000}\n",
    "key_list=list(icecream.keys())\n",
    "print(key_list)\n",
    "\n",
    "icecream = {'탱크보이': 1200, '폴라포': 1200, '빵빠레': 1800,\n",
    "            '월드콘': 1500, '메로나': 1000}\n",
    "new_product = {'팥빙수':2700, '아맛나':1000}\n",
    "icecream.update(new_product)\n",
    "print(icecream)\n",
    "\n",
    "keys = (\"apple\", \"pear\", \"peach\")\n",
    "vals = (300, 250, 400)\n",
    "result=dict(zip(keys,vals))\n",
    "print(result)\n",
    "\n"
   ]
  },
  {
   "cell_type": "code",
   "execution_count": null,
   "metadata": {},
   "outputs": [],
   "source": [
    "# 101~110 파이썬 분기문\n",
    "\n",
    "print(3==5)\n",
    "\n",
    "print(3<5)\n",
    "\n",
    "a=4\n",
    "print(1<a<5)\n",
    "\n",
    "print ((3 == 3) and (4 != 3))\n",
    "\n",
    "print(3>=4)\n",
    "\n",
    "if 4 < 3:\n",
    "    print(\"Hello World\")\n",
    "\n",
    "if 4 < 3:\n",
    "    print(\"Hello World.\")\n",
    "else:\n",
    "    print(\"Hi, there.\")    \n",
    "    \n",
    "    \n",
    "if True :\n",
    "    print (\"1\")\n",
    "    print (\"2\")\n",
    "else :\n",
    "    print(\"3\")\n",
    "print(\"4\")\n",
    "\n",
    "if True :\n",
    "    if False:\n",
    "        print(\"1\")\n",
    "        print(\"2\")\n",
    "    else:\n",
    "        print(\"3\")\n",
    "else :\n",
    "    print(\"4\")\n",
    "print(\"5\")"
   ]
  },
  {
   "cell_type": "code",
   "execution_count": 3,
   "metadata": {},
   "outputs": [
    {
     "name": "stdout",
     "output_type": "stream",
     "text": [
      "3\n",
      "33\n",
      "숫자를 입력하세요 :10\n",
      "20\n"
     ]
    }
   ],
   "source": [
    "# 111~120 파이썬 분기문\n",
    "\n",
    "string1=input()\n",
    "print(string1*2)\n",
    "\n",
    "a=input(\"숫자를 입력하세요 :\")\n",
    "print(int(a)+10)"
   ]
  },
  {
   "cell_type": "code",
   "execution_count": 4,
   "metadata": {},
   "outputs": [
    {
     "name": "stdout",
     "output_type": "stream",
     "text": [
      "30\n",
      "짝\n"
     ]
    }
   ],
   "source": [
    "num=int(input())\n",
    "if num%2==0 :\n",
    "    print(\"짝\")\n",
    "else :\n",
    "    print(\"홀\")"
   ]
  },
  {
   "cell_type": "code",
   "execution_count": 6,
   "metadata": {},
   "outputs": [
    {
     "name": "stdout",
     "output_type": "stream",
     "text": [
      "15\n",
      "0\n"
     ]
    }
   ],
   "source": [
    "num=int(input())-20\n",
    "\n",
    "if num>255 :\n",
    "    print(255)\n",
    "elif num <0 :\n",
    "    print(0)\n",
    "else :\n",
    "    print(num)"
   ]
  },
  {
   "cell_type": "code",
   "execution_count": 8,
   "metadata": {},
   "outputs": [
    {
     "name": "stdout",
     "output_type": "stream",
     "text": [
      "현재 시간: 03:45\n",
      "정각 아님\n"
     ]
    }
   ],
   "source": [
    "time=input(\"현재 시간: \")\n",
    "if time[3:]==\"00\" :\n",
    "    print(\"정각\")\n",
    "else :\n",
    "    print(\"정각 아님\")"
   ]
  },
  {
   "cell_type": "code",
   "execution_count": 10,
   "metadata": {},
   "outputs": [
    {
     "name": "stdout",
     "output_type": "stream",
     "text": [
      "좋아하는 과일은? :복숭아\n",
      "땡\n"
     ]
    }
   ],
   "source": [
    "fruit = [\"사과\", \"포도\", \"홍시\"]\n",
    "one=input(\"좋아하는 과일은? :\")\n",
    "if one in fruit :\n",
    "    print(\"정답이요\")\n",
    "else :\n",
    "    print(\"땡\")"
   ]
  },
  {
   "cell_type": "code",
   "execution_count": 15,
   "metadata": {},
   "outputs": [
    {
     "name": "stdout",
     "output_type": "stream",
     "text": [
      "제가 좋아하는 계절은qqh\n",
      "오답\n"
     ]
    },
    {
     "data": {
      "text/plain": [
       "dict_keys"
      ]
     },
     "execution_count": 15,
     "metadata": {},
     "output_type": "execute_result"
    }
   ],
   "source": [
    "fruit = {\"봄\" : \"딸기\", \"여름\" : \"토마토\", \"가을\" : \"사과\"}\n",
    "\n",
    "like=input(\"제가 좋아하는 계절은\")\n",
    "if like in fruit.keys() :\n",
    "    print(\"정답\")\n",
    "else :\n",
    "    print(\"오답\")\n",
    "\n"
   ]
  },
  {
   "cell_type": "code",
   "execution_count": 18,
   "metadata": {},
   "outputs": [
    {
     "name": "stdout",
     "output_type": "stream",
     "text": [
      "제가 좋아하는 과일은 ㅁ\n",
      "오답\n"
     ]
    }
   ],
   "source": [
    "fruit = {\"봄\" : \"딸기\", \"여름\" : \"토마토\", \"가을\" : \"사과\"}\n",
    "\n",
    "like=input(\"제가 좋아하는 과일은 \")\n",
    "if like in fruit.values() :\n",
    "    print(\"정답\")\n",
    "else :\n",
    "    print(\"오답\")"
   ]
  },
  {
   "cell_type": "code",
   "execution_count": 20,
   "metadata": {},
   "outputs": [
    {
     "name": "stdout",
     "output_type": "stream",
     "text": [
      "a\n",
      "A\n"
     ]
    }
   ],
   "source": [
    "# 121~130 파이썬 분기문\n",
    "\n",
    "one=input()\n",
    "if one.islower():\n",
    "    print(one.upper())\n",
    "else :\n",
    "    print(one.lower())"
   ]
  },
  {
   "cell_type": "code",
   "execution_count": 21,
   "metadata": {},
   "outputs": [
    {
     "name": "stdout",
     "output_type": "stream",
     "text": [
      "score: 85\n",
      "a\n"
     ]
    }
   ],
   "source": [
    "score=int(input(\"score: \"))\n",
    "if 80<score<=100:\n",
    "    print(\"a\")\n",
    "elif 60<score<80:\n",
    "    print(\"b\")\n",
    "elif 40<score<=60:\n",
    "    print(\"c\")\n",
    "elif 30<score<=40 :\n",
    "    print(\"d\")\n",
    "else :\n",
    "    print(\"f\")"
   ]
  },
  {
   "cell_type": "code",
   "execution_count": 22,
   "metadata": {},
   "outputs": [
    {
     "name": "stdout",
     "output_type": "stream",
     "text": [
      "input number010\n",
      "input number19\n",
      "input number220\n",
      "20\n"
     ]
    }
   ],
   "source": [
    "array=[]\n",
    "for i in range(3) :\n",
    "    num=int(input(\"input number{} \".format(i)))\n",
    "    array.append(num)\n",
    "    \n",
    "print(max(array))"
   ]
  },
  {
   "cell_type": "code",
   "execution_count": 24,
   "metadata": {},
   "outputs": [
    {
     "name": "stdout",
     "output_type": "stream",
     "text": [
      "번호 입력 : 011-345-1922\n",
      "skt\n"
     ]
    }
   ],
   "source": [
    "number= input(\"번호 입력 : \")\n",
    "number=number[:3]\n",
    "\n",
    "if number==\"011\":\n",
    "    print(\"skt\")\n",
    "elif number==\"016\":\n",
    "    print(\"kt\")\n",
    "elif number==\"019\":\n",
    "    print(\"lgu\")\n",
    "else :\n",
    "    print(\"몰라\")"
   ]
  },
  {
   "cell_type": "code",
   "execution_count": null,
   "metadata": {},
   "outputs": [],
   "source": []
  },
  {
   "cell_type": "code",
   "execution_count": null,
   "metadata": {},
   "outputs": [],
   "source": []
  },
  {
   "cell_type": "code",
   "execution_count": null,
   "metadata": {},
   "outputs": [],
   "source": []
  },
  {
   "cell_type": "code",
   "execution_count": null,
   "metadata": {},
   "outputs": [],
   "source": []
  },
  {
   "cell_type": "code",
   "execution_count": null,
   "metadata": {},
   "outputs": [],
   "source": []
  },
  {
   "cell_type": "code",
   "execution_count": 52,
   "metadata": {},
   "outputs": [
    {
     "name": "stdout",
     "output_type": "stream",
     "text": [
      "사과\n",
      "귤\n",
      "수박\n",
      "#####\n",
      "#####\n",
      "#####\n",
      "A\n",
      "B\n",
      "C\n",
      "출력: A\n",
      "출력: B\n",
      "출력: C\n",
      "변환: a\n",
      "변환: b\n",
      "변환: c\n",
      "10\n",
      "20\n",
      "30\n",
      "10\n",
      "20\n",
      "30\n"
     ]
    }
   ],
   "source": [
    "# 131~140 파이썬 반복문\n",
    "\n",
    "과일 = [\"사과\", \"귤\", \"수박\"]\n",
    "for 변수 in 과일:\n",
    "    print(변수)\n",
    "    \n",
    "과일 = [\"사과\", \"귤\", \"수박\"]\n",
    "for 변수 in 과일:\n",
    "  print(\"#####\")\n",
    "\n",
    "for 변수 in [\"A\", \"B\", \"C\"]:\n",
    "  print(변수)\n",
    "\n",
    "for 변수 in [\"A\", \"B\", \"C\"]:\n",
    "  print(\"출력:\", 변수)\n",
    "\n",
    "for 변수 in [\"A\", \"B\", \"C\"]:\n",
    "  b = 변수.lower()\n",
    "  print(\"변환:\", b)\n",
    "\n",
    "for 변수 in [10,20,30] :\n",
    "    print(변수)\n",
    "    \n",
    "for i in range(1,4):\n",
    "    print(i*10)"
   ]
  },
  {
   "cell_type": "code",
   "execution_count": null,
   "metadata": {},
   "outputs": [],
   "source": [
    "# 141~150 파이썬 반복문\n"
   ]
  },
  {
   "cell_type": "code",
   "execution_count": null,
   "metadata": {},
   "outputs": [],
   "source": [
    "# 151~160 파이썬 반복문"
   ]
  },
  {
   "cell_type": "code",
   "execution_count": 51,
   "metadata": {},
   "outputs": [
    {
     "name": "stdout",
     "output_type": "stream",
     "text": [
      "012345678910111213141516171819202122232425262728293031323334353637383940414243444546474849\n",
      "2002\n",
      "2006\n",
      "2010\n",
      "2014\n",
      "2018\n",
      "2022\n",
      "2026\n",
      "2030\n",
      "2034\n",
      "2038\n",
      "2042\n",
      "2046\n",
      "2050\n",
      "3\n",
      "6\n",
      "9\n",
      "12\n",
      "15\n",
      "18\n",
      "21\n",
      "24\n",
      "27\n",
      "30\n",
      "50 49 48 47 46 45 44 43 42 41 40 39 38 37 36 35 34 33 32 31 30 29 28 27 26 25 24 23 22 21 20 19 18 17 16 15 14 13 12 11 10 9 8 7 6 5 4 3 2 1 0 \n",
      "0.0\n",
      "0.1\n",
      "0.2\n",
      "0.3\n",
      "0.4\n",
      "0.5\n",
      "0.6\n",
      "0.7\n",
      "0.8\n",
      "0.9\n",
      "3 * 0 = 0\n",
      "3 * 1 = 3\n",
      "3 * 2 = 6\n",
      "3 * 3 = 9\n",
      "3 * 4 = 12\n",
      "3 * 5 = 15\n",
      "3 * 6 = 18\n",
      "3 * 7 = 21\n",
      "3 * 8 = 24\n",
      "3 * 9 = 27\n",
      "3 * 1 = 3\n",
      "3 * 3 = 9\n",
      "3 * 5 = 15\n",
      "3 * 7 = 21\n",
      "3 * 9 = 27\n",
      "55\n",
      "25\n",
      "3628800\n"
     ]
    }
   ],
   "source": [
    "# 161~170 파이썬 반복문\n",
    "for i in range(50):\n",
    "    print(i,end=\"\")\n",
    "print()\n",
    "    \n",
    "for cup in range(2002,2051,4):\n",
    "\n",
    "        print(cup)\n",
    "        \n",
    "for i in range(1,30+1):\n",
    "    if i%3==0:\n",
    "        print(i)\n",
    "        \n",
    "for i in range(50,-1,-1):\n",
    "    print(i,end=\" \")\n",
    "print()\n",
    "\n",
    "for i in range(10):\n",
    "    print(i/10)\n",
    "\n",
    "for i in range(10):\n",
    "    print(\"3 * {} = {}\".format(i,i*3))\n",
    "    \n",
    "for i in range(10):\n",
    "    if i%2==1 :\n",
    "        print(\"3 * {} = {}\".format(i,i*3))\n",
    "        \n",
    "sum=0\n",
    "for i in range(1,10+1):\n",
    "    sum+=i\n",
    "print(sum)\n",
    "\n",
    "sum=0\n",
    "for i in range(1,10+1,2):\n",
    "    sum+=i\n",
    "print(sum)\n",
    "\n",
    "mul=1\n",
    "for i in range(1,10+1):\n",
    "    mul*=i\n",
    "print(mul)"
   ]
  },
  {
   "cell_type": "code",
   "execution_count": 77,
   "metadata": {},
   "outputs": [
    {
     "name": "stdout",
     "output_type": "stream",
     "text": [
      "32100\n",
      "32150\n",
      "32000\n",
      "32500\n",
      "0 32100\n",
      "1 32150\n",
      "2 32000\n",
      "3 32500\n",
      "0 32100\n",
      "1 32150\n",
      "2 32000\n",
      "3 32500\n",
      "3 32100\n",
      "2 32150\n",
      "1 32000\n",
      "0 32500\n",
      "100 32100\n",
      "110 32150\n",
      "120 32000\n",
      "130 32500\n",
      "나 가\n",
      "다 나\n",
      "라 다\n",
      "가 나 다\n",
      "나 다 라\n",
      "다 라 마\n",
      "라 다\n",
      "다 나\n",
      "나 가\n",
      "100\n",
      "200\n",
      "400\n",
      "233.33333333333334\n",
      "466.6666666666667\n",
      "733.3333333333334\n",
      "1033.3333333333333\n",
      "[50, 100, 30, 80, 0]\n"
     ]
    }
   ],
   "source": [
    "# 171~180 파이썬 반복문\n",
    "\n",
    "price_list = [32100, 32150, 32000, 32500]\n",
    "\n",
    "for i in range(len(price_list)) :\n",
    "    print(price_list[i])\n",
    "\n",
    "for i in range(len(price_list)) :\n",
    "    print(i,price_list[i])\n",
    "    \n",
    "for i, data in enumerate(price_list) : # enumerate 사용\n",
    "    print(i,data)\n",
    "    \n",
    "for i in range(len(price_list)) :\n",
    "    print(len(price_list)-1-i,price_list[i])\n",
    "    \n",
    "for i in range(len(price_list)) :\n",
    "    print(100+i*10,price_list[i])    \n",
    "    \n",
    "my_list = [\"가\", \"나\", \"다\", \"라\"]\n",
    "for i in range(1,len(my_list)):\n",
    "    print(my_list[i],my_list[i-1])\n",
    "\n",
    "my_list = [\"가\", \"나\", \"다\", \"라\", \"마\"]\n",
    "for i in range(len(my_list)-2):\n",
    "    print(my_list[i],my_list[i+1],my_list[i+2])\n",
    "\n",
    "my_list = [\"가\", \"나\", \"다\", \"라\"]\n",
    "for i in range(len(my_list)-1,0,-1):\n",
    "    print(my_list[i],my_list[i-1])\n",
    "    \n",
    "my_list = [100, 200, 400, 800]\n",
    "for i in range(0,len(my_list)-1):\n",
    "    print(my_list[i+1]-my_list[i])\n",
    "    \n",
    "my_list = [100, 200, 400, 800, 1000, 1300]\n",
    "for i in range(len(my_list)-2):\n",
    "    avgg=(my_list[i]+my_list[i+1]+my_list[i+2])/3\n",
    "    print(avgg)\n",
    "    \n",
    "low_prices  = [100, 200, 400, 800, 1000]\n",
    "high_prices = [150, 300, 430, 880, 1000]\n",
    "\n",
    "\n",
    "a=[]\n",
    "for i in range(5) :\n",
    "    a.append(high_prices[i]-low_prices[i])\n",
    "print(a)\n",
    "    "
   ]
  },
  {
   "cell_type": "code",
   "execution_count": 78,
   "metadata": {},
   "outputs": [
    {
     "name": "stdout",
     "output_type": "stream",
     "text": [
      "[['101호', '102호'], ['201호', '202호'], ['301호', '302호']]\n"
     ]
    }
   ],
   "source": [
    "# 181~190 파이썬 반복문\n",
    "\n",
    "apart=[[\"101호\",\"102호\"],[\"201호\",\"202호\"],[\"301호\",\"302호\"]]\n",
    "print(apart)\n",
    "\n",
    "st"
   ]
  },
  {
   "cell_type": "code",
   "execution_count": null,
   "metadata": {},
   "outputs": [],
   "source": [
    "# 191~200 파이썬 반복문"
   ]
  },
  {
   "cell_type": "code",
   "execution_count": 3,
   "metadata": {},
   "outputs": [
    {
     "name": "stdout",
     "output_type": "stream",
     "text": [
      "비트코인\n",
      "비트코인\n",
      "비트코인\n",
      "비트코인\n",
      "비트코인\n",
      "비트코인\n",
      "비트코인\n",
      "비트코인\n",
      "비트코인\n",
      "비트코인\n",
      "비트코인\n"
     ]
    }
   ],
   "source": [
    "# 201~210 파이썬 반복문 , 나머지 예측문제임\n",
    "def print_coin():\n",
    "    print(\"비트코인\")\n",
    "print_coin()\n",
    "\n",
    "for i in range(10): \n",
    "    print_coin()"
   ]
  },
  {
   "cell_type": "code",
   "execution_count": 4,
   "metadata": {},
   "outputs": [
    {
     "name": "stdout",
     "output_type": "stream",
     "text": [
      "bit coin\n",
      "bit coin\n",
      "bit coin\n",
      "bit coin\n",
      "bit coin\n",
      "bit coin\n",
      "bit coin\n",
      "bit coin\n",
      "bit coin\n",
      "bit coin\n"
     ]
    }
   ],
   "source": [
    "def print_coin():\n",
    "    for i in range(10):\n",
    "        print(\"bit coin\")\n",
    "print_coin()"
   ]
  },
  {
   "cell_type": "code",
   "execution_count": 7,
   "metadata": {},
   "outputs": [
    {
     "name": "stdout",
     "output_type": "stream",
     "text": [
      "안녕\n",
      "hi\n",
      "안녕hi\n",
      "hi:D\n"
     ]
    }
   ],
   "source": [
    "# 211~220 파이썬 반복문\n",
    "\n",
    "def 함수(문자열):\n",
    "    print(문자열)\n",
    "    \n",
    "함수(\"안녕\")\n",
    "함수(\"hi\")\n",
    "\n",
    "def 함수(a, b) :\n",
    "    print(a + b)\n",
    "\n",
    "함수(\"안녕\", \"hi\")\n",
    "\n",
    "def print_with_smile(string) :\n",
    "    print(string+\":D\")\n",
    "    \n",
    "print_with_smile(\"hi\")\n"
   ]
  },
  {
   "cell_type": "code",
   "execution_count": 12,
   "metadata": {},
   "outputs": [
    {
     "name": "stdout",
     "output_type": "stream",
     "text": [
      "1300\n",
      "3+4=7\n",
      "3-4=-1\n",
      "3*4=12\n",
      "3/4=0.75\n",
      "15\n"
     ]
    }
   ],
   "source": [
    "def print_upper_price(price):\n",
    "    print(int(price*1.3))\n",
    "    \n",
    "print_upper_price(1000)\n",
    "\n",
    "def print_sum(a,b) :\n",
    "    print(a+b)\n",
    "    \n",
    "def print_arithemetic_operation(a,b):\n",
    "    print(\"{}+{}={}\".format(a,b,a+b))\n",
    "    print(\"{}-{}={}\".format(a,b,a-b))\n",
    "    print(\"{}*{}={}\".format(a,b,a*b))    \n",
    "    print(\"{}/{}={}\".format(a,b,a/b))\n",
    "    \n",
    "print_arithemetic_operation(3,4)\n",
    "\n",
    "def print_max(a,b,c) :\n",
    "    if a>b and a>c :\n",
    "        max=a\n",
    "    elif b>a and b>c :\n",
    "        max=b\n",
    "    else :\n",
    "        max=c\n",
    "        \n",
    "    return max\n",
    "\n",
    "print(print_max(5,15,13))\n",
    "    "
   ]
  },
  {
   "cell_type": "code",
   "execution_count": 31,
   "metadata": {},
   "outputs": [
    {
     "name": "stdout",
     "output_type": "stream",
     "text": [
      "nohthp\n",
      "2.0\n",
      "2\n",
      "10\n",
      "12\n",
      "이름\n",
      "나이\n",
      "성별\n",
      "[100, 130, 100, 100]\n",
      "아이엠어보\n",
      "이유알어걸\n"
     ]
    }
   ],
   "source": [
    "# 221~230 파이썬 반복문\n",
    "\n",
    "def print_reverse(string):\n",
    "    print(string[::-1])    \n",
    "print_reverse(\"phthon\")\n",
    "\n",
    "def print_score(score_list):\n",
    "    print(sum(score_list)/len(score_list))              \n",
    "print_score([1,2,3])\n",
    "\n",
    "def print_even(check):\n",
    "    for i in check:\n",
    "        if i%2==0:\n",
    "            print(i)\n",
    "        \n",
    "print_even([1,3,2,10,12,11,15])    \n",
    "\n",
    "def print_keys(dic) :\n",
    "    dicc=list(dic.keys())\n",
    "    for i in dicc :\n",
    "        print(i)\n",
    "print_keys ({\"이름\":\"김말똥\", \"나이\":30, \"성별\":0})\n",
    "\n",
    "my_dict = {\"10/26\" : [100, 130, 100, 100],\n",
    "           \"10/27\" : [10, 12, 10, 11]}\n",
    "\n",
    "def print_value_by_key(dicc,key):\n",
    "    for i in dicc.keys():\n",
    "        if i==key :\n",
    "            print(dicc.get(i))\n",
    "            break\n",
    "print_value_by_key  (my_dict, \"10/26\")\n",
    "\n",
    "def print_5xn(string):\n",
    "    for i in range(0,len(string),5):\n",
    "        print(string[i:i+5])\n",
    "        \n",
    "print_5xn(\"아이엠어보이유알어걸\")        "
   ]
  },
  {
   "cell_type": "code",
   "execution_count": 46,
   "metadata": {},
   "outputs": [
    {
     "name": "stdout",
     "output_type": "stream",
     "text": [
      "아름 25 여자\n",
      "아름 25 여자\n",
      "dont let them know about my deth\n",
      "모름 0 모름\n",
      "아름 25 여자\n",
      "dont let them know about my deth\n"
     ]
    },
    {
     "ename": "NameError",
     "evalue": "name 'areum' is not defined",
     "output_type": "error",
     "traceback": [
      "\u001b[1;31m---------------------------------------------------------------------------\u001b[0m",
      "\u001b[1;31mNameError\u001b[0m                                 Traceback (most recent call last)",
      "\u001b[1;32m<ipython-input-46-17d21c1d712f>\u001b[0m in \u001b[0;36m<module>\u001b[1;34m\u001b[0m\n\u001b[0;32m     30\u001b[0m \u001b[1;33m\u001b[0m\u001b[0m\n\u001b[0;32m     31\u001b[0m \u001b[1;32mdel\u001b[0m \u001b[0mareum\u001b[0m\u001b[1;33m\u001b[0m\u001b[1;33m\u001b[0m\u001b[0m\n\u001b[1;32m---> 32\u001b[1;33m \u001b[0mareum\u001b[0m\u001b[1;33m.\u001b[0m\u001b[0mwho\u001b[0m\u001b[1;33m(\u001b[0m\u001b[1;33m)\u001b[0m\u001b[1;33m\u001b[0m\u001b[1;33m\u001b[0m\u001b[0m\n\u001b[0m",
      "\u001b[1;31mNameError\u001b[0m: name 'areum' is not defined"
     ]
    }
   ],
   "source": [
    "#251 ~ 260 파이썬 클래스\n",
    "\n",
    "class Human :\n",
    "    def __init__ (self,name, age, gender):\n",
    "        self.name=name\n",
    "        self.age=age\n",
    "        self.gender=gender\n",
    "        \n",
    "    def who(self):\n",
    "        print(self.name,self.age,self.gender)\n",
    "        \n",
    "    def setInfo(self,name, age, gender):\n",
    "        self.name=name\n",
    "        self.age=age\n",
    "        self.gender=gender\n",
    "        \n",
    "    def __del__(self):\n",
    "        print(\"dont let them know about my deth\")\n",
    "\n",
    "areum = Human(\"아름\", 25, \"여자\")\n",
    "\n",
    "print(areum.name,areum.age,areum.gender)\n",
    "\n",
    "areum.who()\n",
    "\n",
    "areum1 = Human(\"모름\", 0, \"모름\")\n",
    "areum1.who()\n",
    "areum1.setInfo(\"아름\", 25, \"여자\")\n",
    "print(areum1.name,areum1.age,areum1.gender)\n",
    "\n",
    "del areum\n"
   ]
  },
  {
   "cell_type": "code",
   "execution_count": 57,
   "metadata": {},
   "outputs": [
    {
     "name": "stdout",
     "output_type": "stream",
     "text": [
      "삼성전자\n",
      "005930\n",
      "삼성전자\n",
      "005930\n",
      "삼성전자 005930\n"
     ]
    }
   ],
   "source": [
    "#261 ~ 270 파이썬 클래스\n",
    "\n",
    "class Stock :\n",
    "    def __init__(self,name,code):\n",
    "        self.name=name\n",
    "        self.code=code\n",
    "    def set_name(self, name):\n",
    "        self.name=name\n",
    "    def set_code(self,code) :\n",
    "        self.code=code \n",
    "    def get_name(self):\n",
    "        print(self.name)\n",
    "    def get_code(self):\n",
    "        print(self.code)        \n",
    "삼성 = Stock(\"삼성전자\", \"005930\")       \n",
    "print(삼성.name)\n",
    "print(삼성.code)\n",
    "삼성.get_name()\n",
    "삼성.get_code()\n",
    "a = Stock(None, None)\n",
    "a.set_name(\"삼성전자\")\n",
    "a.set_code(\"005930\")\n",
    "print(a.name, a.code)\n",
    "\n"
   ]
  },
  {
   "cell_type": "code",
   "execution_count": null,
   "metadata": {},
   "outputs": [],
   "source": []
  }
 ],
 "metadata": {
  "kernelspec": {
   "display_name": "Python 3",
   "language": "python",
   "name": "python3"
  },
  "language_info": {
   "codemirror_mode": {
    "name": "ipython",
    "version": 3
   },
   "file_extension": ".py",
   "mimetype": "text/x-python",
   "name": "python",
   "nbconvert_exporter": "python",
   "pygments_lexer": "ipython3",
   "version": "3.7.6"
  }
 },
 "nbformat": 4,
 "nbformat_minor": 4
}
