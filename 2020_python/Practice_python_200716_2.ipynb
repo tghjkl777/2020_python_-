{
 "cells": [
  {
   "cell_type": "markdown",
   "metadata": {},
   "source": [
    "# 파이썬 리스트"
   ]
  },
  {
   "cell_type": "code",
   "execution_count": 38,
   "metadata": {},
   "outputs": [
    {
     "name": "stdout",
     "output_type": "stream",
     "text": [
      "[1, 2, 3, 4, 5, 6]\n",
      "[2, 3, 4, 5, 6]\n",
      "[2, 3, 4, 6]\n",
      "[2, 3, 4, 6, [12, 3]]\n",
      "5\n",
      "[2, 3, 4, 6, [12, 3], 12, 3]\n",
      "[266, 2, 3, 4, 6, [12, 3], 12, 3]\n",
      "10\n",
      "1\n",
      "9\n",
      "[0, 1, 2, 3, 4, 5, 6, 7, 8]\n",
      "0.5916011185726863\n"
     ]
    }
   ],
   "source": [
    "import random\n",
    "\n",
    "a=[1,2,3,4,5,6]\n",
    "print(a)\n",
    "\n",
    "a.remove(1) #안에 내용물 이름,첫번째로 일치하는거 삭제.\n",
    "print(a)\n",
    "\n",
    "del a[3] #인덱스 값\n",
    "print(a)\n",
    "\n",
    "a.append([12,3])#리스트뒤에 한개 항목추가\n",
    "print(a)\n",
    "print(len(a))\n",
    "\n",
    "a.extend([12,3])#리스트에 여러개 항목 추가\n",
    "print(a)\n",
    "\n",
    "a.insert(0,266) #어느 위치에 어떤값을 넣는것\n",
    "print(a)\n",
    "\n",
    "\n",
    "a=list(range(10))\n",
    "print(len(a))\n",
    "print(a.count(2))\n",
    "\n",
    "print(a.pop())\n",
    "print(a)\n",
    "\n",
    "b=random.random()\n",
    "print(b)\n"
   ]
  },
  {
   "cell_type": "markdown",
   "metadata": {},
   "source": [
    "sum()--> 이런애들 내장함수임 buitin function\n",
    "a.count()-->이런가는 "
   ]
  },
  {
   "cell_type": "code",
   "execution_count": null,
   "metadata": {},
   "outputs": [],
   "source": []
  }
 ],
 "metadata": {
  "kernelspec": {
   "display_name": "Python 3",
   "language": "python",
   "name": "python3"
  },
  "language_info": {
   "codemirror_mode": {
    "name": "ipython",
    "version": 3
   },
   "file_extension": ".py",
   "mimetype": "text/x-python",
   "name": "python",
   "nbconvert_exporter": "python",
   "pygments_lexer": "ipython3",
   "version": "3.7.6"
  }
 },
 "nbformat": 4,
 "nbformat_minor": 4
}
