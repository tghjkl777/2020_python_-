{
 "cells": [
  {
   "cell_type": "markdown",
   "metadata": {},
   "source": [
    "클래스 상속 : 상속 받고 그이후에 개별로 해야 하는일 하면 된다.\n"
   ]
  },
  {
   "cell_type": "code",
   "execution_count": null,
   "metadata": {},
   "outputs": [],
   "source": [
    "class Person:\n",
    "    def hello(self) :\n",
    "        print(\"hi\")\n",
    "    def name(self):\n",
    "        print(\"MY NAMe\")\n",
    "        \n",
    "class Student (Person): # 인자 값에 상속하는 클래스 이름을 써주면된다.\n",
    "    def hello(self):\n",
    "        super().hello() # 부모의 메소드중 hello 호출해줘! \n",
    "        print(\"hello i am a student\") # 메소드 오버라이딩. 상속된 애가 원래 있는 함수 다시 구현해서 사용한다.\n",
    "                                        # 내가 다시 구현한 거를쓰고 싶다.\n",
    "    def study(self) :\n",
    "        print(\"i have to study\")\n",
    "\n",
    "str=Student()\n",
    "str.hello()\n",
    "str.study()    \n",
    "\n"
   ]
  },
  {
   "cell_type": "code",
   "execution_count": null,
   "metadata": {},
   "outputs": [],
   "source": [
    "class Bicycle :\n",
    "    def __init__(self,size,color):\n",
    "        self.size=size\n",
    "        self.color=color\n",
    "    def mov(self,speed):\n",
    "        print(\"Bicycle speed {}\".format(speed))\n",
    "        \n",
    "    def turn(self, direction):\n",
    "        print(\"Bicycle turn {}\".format(direction))\n",
    "        \n",
    "    def stop (self):\n",
    "        print(\"Bicycle {}  {} stop\".format(self.size,self.color))\n",
    "        \n",
    "class FoldingBicycle (Bicycle):\n",
    "    \n",
    "    def __init__(self, size,color,state):\n",
    "        Bicycle.__init__(self,size,color)\n",
    "        self.state=state \n",
    "        \n",
    "    def fold(self):\n",
    "        self.state=\"folding\"\n",
    "        print(\"Foding 스타일 {}\".format(self.state))\n",
    "        \n",
    "    def unfold(self):\n",
    "        self.state=\"unfolding\"\n",
    "        print(\"Folding 스타일 {}\".format(self.state))\n",
    "        \n",
    "        \n",
    "unfold_by=FoldingBicycle(25,\"white\",\"unfolding\")\n",
    "\n",
    "unfold_by.mov(20)\n",
    "unfold_by.fold()\n",
    "unfold_by.unfold()"
   ]
  },
  {
   "cell_type": "code",
   "execution_count": 1,
   "metadata": {
    "scrolled": true
   },
   "outputs": [
    {
     "name": "stdout",
     "output_type": "stream",
     "text": [
      "hi ccccccccc\n",
      "[<class '__main__.D'>, <class '__main__.C'>, <class '__main__.A'>, <class 'object'>]\n",
      "[<class '__main__.A'>, <class 'object'>]\n"
     ]
    }
   ],
   "source": [
    "#다중 상속 : 다이아몬드 프라브럼\n",
    "\n",
    "class A :\n",
    "    def hello(self):\n",
    "        print(\"hi aaaaaaaa\")\n",
    "        \n",
    "class B :\n",
    "    def hello(self):\n",
    "        print(\"hi bbbbbbb\")\n",
    "        \n",
    "        \n",
    "class C(A) :\n",
    "    def hello(self):\n",
    "        print(\"hi ccccccccc\")\n",
    "        \n",
    "                \n",
    "class D(C,A) :\n",
    "    def hello_hi(self):\n",
    "        print(\"hi dddd\")\n",
    "        \n",
    "child=D()\n",
    "child.hello()\n",
    "\n",
    "print(D.mro()) # 각각의 상속 관계를 알려준다. 나오는 순서를 알려준다.\n",
    "print(A.mro())\n"
   ]
  },
  {
   "cell_type": "code",
   "execution_count": null,
   "metadata": {},
   "outputs": [],
   "source": [
    "# 추상클래스 ex) 음식, 포유류 : 너무 광범위 해서 구체적으로 구현하기 어려운 경우 이런걸 추상클래스라고 한다. \n",
    "\n",
    "from abc import *  #추상 클래스 사용하기 위한 모듈\n",
    "\n",
    "#d추상클래스 만들기 -상속해줄 목적으로 사용하는 것\n",
    "class StudentBase(metaclass=ABCMeta):\n",
    "    def hello(self): # 추상 클래스에 추상 메소드만 있는거는 아니다. \n",
    "        print(\"hello\")\n",
    "    \n",
    "    @abstractmethod #추상메소드 구현하지 않는다. pass쓰고 끝\n",
    "    def study(self):\n",
    "        pass\n",
    "    \n",
    "\n",
    "#kim=StudentBase() # 추상 클래스는 자체적으로 객체 생성이 안된다. 불완전하다. \n",
    "                    # 추상클래스는 단지 부모의 역할만 하기위해 만들어진 아이다.\n",
    "\n",
    "class Student(StudentBase): # 추상클래스에 있는 함수를 반드시 구현해줘야 한다. /반드시 구현돼야할 함수를 추상 메소드로 해준다.\n",
    "    def study(self):\n",
    "        print(\"공부하다\")\n",
    "        \n",
    "\n",
    "kim =Student()\n",
    "kim.hello() # 메소드 그냥 잘 출력된다.\n",
    "kim.study()\n"
   ]
  },
  {
   "cell_type": "markdown",
   "metadata": {},
   "source": [
    "## 예외 처리 \n",
    "예외 :걸리면 프로그램이 종료된다.\n",
    "예외 발생한 지점 부터 그 이후는 다 실행되지 않는다.\n",
    "\n",
    "예외처리로 "
   ]
  },
  {
   "cell_type": "code",
   "execution_count": null,
   "metadata": {},
   "outputs": [],
   "source": [
    "i=int(input())\n",
    "\n",
    "try :\n",
    "    print(10/i)\n",
    "    \n",
    "#     print(123)\n",
    "#     print(123)\n",
    "#     print(123)\n",
    "#     print(123)\n",
    "#     print(123)    쓸데 없이 try 블록을 크게 묶지 말자/\n",
    "\n",
    "except : #프로그램이 종료되지 않고 처리하기 위해서 \n",
    "    print(\"plz num have to be more than one\")\n",
    "    \n",
    "print(123)\n",
    "print(123)\n",
    "print(123)\n",
    "print(123)\n",
    "print(123)\n",
    "\n"
   ]
  },
  {
   "cell_type": "code",
   "execution_count": null,
   "metadata": {},
   "outputs": [],
   "source": [
    "arr=list(range(5))\n",
    "\n",
    "try :\n",
    "    for i in range(10):\n",
    "        print(arr[i])\n",
    "except :\n",
    "    print(\"out of index\")"
   ]
  },
  {
   "cell_type": "code",
   "execution_count": null,
   "metadata": {},
   "outputs": [],
   "source": [
    "arr=[10,20,30]\n",
    "\n",
    "try :\n",
    "    index, x = map(int, input().split()) #IndexError, ZeroDivisionError \n",
    "    print(arr[index]/x)\n",
    "except IndexError:\n",
    "    print(\"indexERRPr\")\n",
    "    \n",
    "except ZeroDivisionError :\n",
    "    print(\"zroERRPr\")\n",
    "except Exception as e: # 에러들의 가장 위 에러들임. //// e 라고 선언해서 에러가 어떤 에런지 출력할수 있게 받아올수 있다.\n",
    "    print(\"EORRR!!\",e)\n",
    "else :  # 예외가 발생하지 않았을때 작성하는 추가코드 예외가 발생하지 않았을때만 실행된다. \n",
    "    print(\"연산 성공!!!\")\n",
    "finally :  # 예외 있던 없던 무족건 반드시 실행할 블록  : 반드시 실행할 문잘을 넣는다.\n",
    "    print(\"나는 꼭 나와\")\n",
    "    \n",
    "print(\"끝\") #예외에 따라 나올수도 있고 안나올수 있음. "
   ]
  },
  {
   "cell_type": "markdown",
   "metadata": {},
   "source": [
    "#### 예외 발생시키기! (내가 지정해서!)"
   ]
  },
  {
   "cell_type": "code",
   "execution_count": 3,
   "metadata": {},
   "outputs": [
    {
     "name": "stdout",
     "output_type": "stream",
     "text": [
      "2\n",
      "예외나와부럿 __init__() takes 1 positional argument but 2 were given\n"
     ]
    }
   ],
   "source": [
    "class CaramiException(Exception):\n",
    "    def __init__(self) :\n",
    "        super().__init__()\n",
    "\n",
    "def my_func ():\n",
    "    try:\n",
    "        value=int(input())\n",
    "        if value %3!=0:\n",
    "            raise CaramiException (\"3배수만 가능\")\n",
    "        print(\"답은 {}\".format(value))\n",
    "    except Exception as e :\n",
    "        print(\"예외나와부럿\",e)\n",
    "\n",
    "\n",
    "    \n",
    "    \n",
    "try :\n",
    "    my_func()\n",
    "except Exception as e :\n",
    "    print(\"예외 발생 \",e) "
   ]
  },
  {
   "cell_type": "markdown",
   "metadata": {},
   "source": [
    "### 문자열과 텍스트 파일 다루기"
   ]
  },
  {
   "cell_type": "code",
   "execution_count": 6,
   "metadata": {},
   "outputs": [
    {
     "data": {
      "text/plain": [
       "['a', 'b', 'c', 'd', 'e', 'f']"
      ]
     },
     "execution_count": 6,
     "metadata": {},
     "output_type": "execute_result"
    }
   ],
   "source": [
    "\"a,b,c,d,e,f\".split(\",\")\n",
    "\"a b c d e f\".split()"
   ]
  },
  {
   "cell_type": "code",
   "execution_count": 8,
   "metadata": {},
   "outputs": [
    {
     "data": {
      "text/plain": [
       "['i', 'am', 'a', 'doctor']"
      ]
     },
     "execution_count": 8,
     "metadata": {},
     "output_type": "execute_result"
    }
   ],
   "source": [
    "ans=\"i am a doctor\"\n",
    "ans.split(maxsplit=3)"
   ]
  },
  {
   "cell_type": "code",
   "execution_count": 18,
   "metadata": {},
   "outputs": [
    {
     "data": {
      "text/plain": [
       "'dwoapgruihwada   a'"
      ]
     },
     "execution_count": 18,
     "metadata": {},
     "output_type": "execute_result"
    }
   ],
   "source": [
    "b=\"a   adawhiurgpaowd\"\n",
    "b[::-1]"
   ]
  },
  {
   "cell_type": "code",
   "execution_count": 24,
   "metadata": {},
   "outputs": [
    {
     "name": "stdout",
     "output_type": "stream",
     "text": [
      "['0', '1', '2', '3', '4']\n"
     ]
    },
    {
     "data": {
      "text/plain": [
       "'0__1__2__3__4'"
      ]
     },
     "execution_count": 24,
     "metadata": {},
     "output_type": "execute_result"
    }
   ],
   "source": [
    "a=list(map(str,list(range(5))))\n",
    "\n",
    "print(a)\n",
    "\n",
    "b=\"__\"\n",
    "b.join(a)\n",
    "\n",
    "str."
   ]
  },
  {
   "cell_type": "code",
   "execution_count": 25,
   "metadata": {},
   "outputs": [
    {
     "data": {
      "text/plain": [
       "False"
      ]
     },
     "execution_count": 25,
     "metadata": {},
     "output_type": "execute_result"
    }
   ],
   "source": [
    "\"123\".isalpha()"
   ]
  },
  {
   "cell_type": "code",
   "execution_count": 26,
   "metadata": {},
   "outputs": [
    {
     "data": {
      "text/plain": [
       "True"
      ]
     },
     "execution_count": 26,
     "metadata": {},
     "output_type": "execute_result"
    }
   ],
   "source": [
    "\"AVSSDF\".isupper()"
   ]
  },
  {
   "cell_type": "code",
   "execution_count": 29,
   "metadata": {},
   "outputs": [
    {
     "data": {
      "text/plain": [
       "98"
      ]
     },
     "execution_count": 29,
     "metadata": {},
     "output_type": "execute_result"
    }
   ],
   "source": [
    "ord('b')"
   ]
  }
 ],
 "metadata": {
  "kernelspec": {
   "display_name": "Python 3",
   "language": "python",
   "name": "python3"
  },
  "language_info": {
   "codemirror_mode": {
    "name": "ipython",
    "version": 3
   },
   "file_extension": ".py",
   "mimetype": "text/x-python",
   "name": "python",
   "nbconvert_exporter": "python",
   "pygments_lexer": "ipython3",
   "version": "3.7.6"
  }
 },
 "nbformat": 4,
 "nbformat_minor": 4
}
