{
 "cells": [
  {
   "cell_type": "markdown",
   "metadata": {},
   "source": [
    "# 주피터 노트북 사용법\n",
    "## 제목달기\n",
    "### 마크다운 글자 크기 연습"
   ]
  },
  {
   "cell_type": "markdown",
   "metadata": {},
   "source": [
    "(1) 링크 걸기\n",
    "\n",
    "[Google](https://www.google.com/)\n",
    "\n",
    "(2) 글자 진하게 & 기울이기 &칠하기\n",
    "\n",
    "__진하게__    **한번더**\n",
    "_기울이기_     _한번더_\n",
    "'칠하기'\n",
    "\n",
    "(3) 이미지 불러오기\n",
    "![구글마크](https://www.google.com/images/branding/googlelogo/1x/googlelogo_color_272x92dp.png)"
   ]
  },
  {
   "cell_type": "markdown",
   "metadata": {},
   "source": [
    "(4)목차 만들기 \n",
    "index 만들기\n",
    "- 이렇게\n",
    "- 저렇게\n",
    "- 요롷게\n",
    "\n",
    "indext 만들기2\n",
    "1. 이로코롬\n",
    "2. 저러코롬\n",
    "3. 요로코롬"
   ]
  },
  {
   "cell_type": "markdown",
   "metadata": {},
   "source": []
  },
  {
   "cell_type": "code",
   "execution_count": 2,
   "metadata": {},
   "outputs": [],
   "source": [
    "# print(\"hello\")\n"
   ]
  },
  {
   "cell_type": "code",
   "execution_count": 3,
   "metadata": {},
   "outputs": [
    {
     "name": "stdout",
     "output_type": "stream",
     "text": [
      "0\n",
      "1\n",
      "2\n",
      "3\n",
      "4\n",
      "5\n",
      "[1, 2, 3, 4, 5, 6]\n"
     ]
    }
   ],
   "source": [
    "a=[1,2,3,4,5,6]\n",
    "for i in range(len(a)):\n",
    "    print (i)\n",
    "    \n",
    "print(a) #그냥 연습해 보고 있는 것입니다용\n"
   ]
  },
  {
   "cell_type": "code",
   "execution_count": null,
   "metadata": {},
   "outputs": [],
   "source": []
  }
 ],
 "metadata": {
  "kernelspec": {
   "display_name": "Python 3",
   "language": "python",
   "name": "python3"
  },
  "language_info": {
   "codemirror_mode": {
    "name": "ipython",
    "version": 3
   },
   "file_extension": ".py",
   "mimetype": "text/x-python",
   "name": "python",
   "nbconvert_exporter": "python",
   "pygments_lexer": "ipython3",
   "version": "3.7.6"
  }
 },
 "nbformat": 4,
 "nbformat_minor": 4
}
